{
 "cells": [
  {
   "cell_type": "markdown",
   "metadata": {},
   "source": [
    "# Анализ оттока клиентов \"Метанпромбанка\""
   ]
  },
  {
   "cell_type": "markdown",
   "metadata": {},
   "source": [
    "Мы являемся аналитиком в \"Метанпромбанке\". Банк располагается в\n",
    "Ярославле и областных городах: Ростов Великий и Рыбинск.\n",
    "\n",
    "**Целью** нашего проекта будет выделение сегментов высокоотточных клиентов и составление рекомендаций для отдела маркетинга по их удержанию.\n",
    "\n",
    "Для решения данной цели нам необходимо будет выполнить ряд **задач**:\n",
    "\n",
    "* загрузка и изучение информации;\n",
    "\n",
    "\n",
    "* предобработка данных;\n",
    "\n",
    "\n",
    "* проведение исследовательского анализа (составление портретов пользователя и сегментирование отточных клиентов);\n",
    "\n",
    "\n",
    "* формулировка и проверка статистических гипотиез;\n",
    "\n",
    "\n",
    "* составление презентации для отдела маркетинга"
   ]
  },
  {
   "cell_type": "markdown",
   "metadata": {},
   "source": [
    "### Загрузка данных, изучение общей информации"
   ]
  },
  {
   "cell_type": "markdown",
   "metadata": {},
   "source": [
    "Для начала загрузим необходимые нам библиотеки и прочитаем файл с данными."
   ]
  },
  {
   "cell_type": "code",
   "execution_count": 1,
   "metadata": {},
   "outputs": [
    {
     "name": "stdout",
     "output_type": "stream",
     "text": [
      "Requirement already satisfied: phik in /opt/conda/lib/python3.9/site-packages (0.12.4)\r\n",
      "Requirement already satisfied: joblib>=0.14.1 in /opt/conda/lib/python3.9/site-packages (from phik) (1.1.0)\r\n",
      "Requirement already satisfied: scipy>=1.5.2 in /opt/conda/lib/python3.9/site-packages (from phik) (1.9.1)\r\n",
      "Requirement already satisfied: pandas>=0.25.1 in /opt/conda/lib/python3.9/site-packages (from phik) (1.2.4)\r\n",
      "Requirement already satisfied: numpy>=1.18.0 in /opt/conda/lib/python3.9/site-packages (from phik) (1.21.1)\r\n",
      "Requirement already satisfied: matplotlib>=2.2.3 in /opt/conda/lib/python3.9/site-packages (from phik) (3.3.4)\r\n",
      "Requirement already satisfied: cycler>=0.10 in /opt/conda/lib/python3.9/site-packages (from matplotlib>=2.2.3->phik) (0.11.0)\r\n",
      "Requirement already satisfied: pyparsing!=2.0.4,!=2.1.2,!=2.1.6,>=2.0.3 in /opt/conda/lib/python3.9/site-packages (from matplotlib>=2.2.3->phik) (2.4.7)\r\n",
      "Requirement already satisfied: kiwisolver>=1.0.1 in /opt/conda/lib/python3.9/site-packages (from matplotlib>=2.2.3->phik) (1.4.4)\r\n",
      "Requirement already satisfied: pillow>=6.2.0 in /opt/conda/lib/python3.9/site-packages (from matplotlib>=2.2.3->phik) (8.4.0)\r\n",
      "Requirement already satisfied: python-dateutil>=2.1 in /opt/conda/lib/python3.9/site-packages (from matplotlib>=2.2.3->phik) (2.8.1)\r\n",
      "Requirement already satisfied: pytz>=2017.3 in /opt/conda/lib/python3.9/site-packages (from pandas>=0.25.1->phik) (2021.1)\r\n",
      "Requirement already satisfied: six>=1.5 in /opt/conda/lib/python3.9/site-packages (from python-dateutil>=2.1->matplotlib>=2.2.3->phik) (1.16.0)\r\n"
     ]
    }
   ],
   "source": [
    "! pip install phik"
   ]
  },
  {
   "cell_type": "code",
   "execution_count": 2,
   "metadata": {},
   "outputs": [],
   "source": [
    "# импортируем библиотеки\n",
    "import pandas as pd\n",
    "import seaborn as sns\n",
    "import matplotlib.pyplot as plt\n",
    "from scipy import stats as st\n",
    "import phik\n",
    "from phik.report import plot_correlation_matrix\n",
    "\n",
    "import warnings\n",
    "warnings.filterwarnings(\"ignore\")"
   ]
  },
  {
   "cell_type": "code",
   "execution_count": 3,
   "metadata": {},
   "outputs": [],
   "source": [
    "# загружаем файл\n",
    "try:\n",
    "    df = pd.read_csv('https://code.s3.yandex.net/datasets/bank_scrooge.csv')\n",
    "\n",
    "except:    \n",
    "    df = pd.read_csv('C:/Users/Admin/Downloads/bank_scrooge.csv\"')"
   ]
  },
  {
   "cell_type": "markdown",
   "metadata": {},
   "source": [
    "Загрузили файл, теперь выведем его и посмотрим на общую информацию."
   ]
  },
  {
   "cell_type": "code",
   "execution_count": 4,
   "metadata": {},
   "outputs": [
    {
     "data": {
      "text/html": [
       "<div>\n",
       "<style scoped>\n",
       "    .dataframe tbody tr th:only-of-type {\n",
       "        vertical-align: middle;\n",
       "    }\n",
       "\n",
       "    .dataframe tbody tr th {\n",
       "        vertical-align: top;\n",
       "    }\n",
       "\n",
       "    .dataframe thead th {\n",
       "        text-align: right;\n",
       "    }\n",
       "</style>\n",
       "<table border=\"1\" class=\"dataframe\">\n",
       "  <thead>\n",
       "    <tr style=\"text-align: right;\">\n",
       "      <th></th>\n",
       "      <th>USERID</th>\n",
       "      <th>score</th>\n",
       "      <th>city</th>\n",
       "      <th>gender</th>\n",
       "      <th>age</th>\n",
       "      <th>equity</th>\n",
       "      <th>balance</th>\n",
       "      <th>products</th>\n",
       "      <th>credit_card</th>\n",
       "      <th>last_activity</th>\n",
       "      <th>EST_SALARY</th>\n",
       "      <th>churn</th>\n",
       "    </tr>\n",
       "  </thead>\n",
       "  <tbody>\n",
       "    <tr>\n",
       "      <th>0</th>\n",
       "      <td>183012</td>\n",
       "      <td>850.0</td>\n",
       "      <td>Рыбинск</td>\n",
       "      <td>Ж</td>\n",
       "      <td>25.0</td>\n",
       "      <td>1</td>\n",
       "      <td>59214.82</td>\n",
       "      <td>2</td>\n",
       "      <td>0</td>\n",
       "      <td>1</td>\n",
       "      <td>75719.14</td>\n",
       "      <td>1</td>\n",
       "    </tr>\n",
       "    <tr>\n",
       "      <th>1</th>\n",
       "      <td>146556</td>\n",
       "      <td>861.0</td>\n",
       "      <td>Рыбинск</td>\n",
       "      <td>Ж</td>\n",
       "      <td>37.0</td>\n",
       "      <td>5</td>\n",
       "      <td>850594.33</td>\n",
       "      <td>3</td>\n",
       "      <td>1</td>\n",
       "      <td>0</td>\n",
       "      <td>86621.77</td>\n",
       "      <td>0</td>\n",
       "    </tr>\n",
       "    <tr>\n",
       "      <th>2</th>\n",
       "      <td>120722</td>\n",
       "      <td>892.0</td>\n",
       "      <td>Рыбинск</td>\n",
       "      <td>Ж</td>\n",
       "      <td>30.0</td>\n",
       "      <td>0</td>\n",
       "      <td>NaN</td>\n",
       "      <td>1</td>\n",
       "      <td>1</td>\n",
       "      <td>1</td>\n",
       "      <td>107683.34</td>\n",
       "      <td>0</td>\n",
       "    </tr>\n",
       "    <tr>\n",
       "      <th>3</th>\n",
       "      <td>225363</td>\n",
       "      <td>866.0</td>\n",
       "      <td>Ярославль</td>\n",
       "      <td>Ж</td>\n",
       "      <td>51.0</td>\n",
       "      <td>5</td>\n",
       "      <td>1524746.26</td>\n",
       "      <td>2</td>\n",
       "      <td>0</td>\n",
       "      <td>1</td>\n",
       "      <td>174423.53</td>\n",
       "      <td>1</td>\n",
       "    </tr>\n",
       "    <tr>\n",
       "      <th>4</th>\n",
       "      <td>157978</td>\n",
       "      <td>730.0</td>\n",
       "      <td>Ярославль</td>\n",
       "      <td>М</td>\n",
       "      <td>34.0</td>\n",
       "      <td>5</td>\n",
       "      <td>174.00</td>\n",
       "      <td>1</td>\n",
       "      <td>1</td>\n",
       "      <td>0</td>\n",
       "      <td>67353.16</td>\n",
       "      <td>1</td>\n",
       "    </tr>\n",
       "    <tr>\n",
       "      <th>...</th>\n",
       "      <td>...</td>\n",
       "      <td>...</td>\n",
       "      <td>...</td>\n",
       "      <td>...</td>\n",
       "      <td>...</td>\n",
       "      <td>...</td>\n",
       "      <td>...</td>\n",
       "      <td>...</td>\n",
       "      <td>...</td>\n",
       "      <td>...</td>\n",
       "      <td>...</td>\n",
       "      <td>...</td>\n",
       "    </tr>\n",
       "    <tr>\n",
       "      <th>9995</th>\n",
       "      <td>120553</td>\n",
       "      <td>814.0</td>\n",
       "      <td>Рыбинск</td>\n",
       "      <td>М</td>\n",
       "      <td>27.0</td>\n",
       "      <td>1</td>\n",
       "      <td>78144.65</td>\n",
       "      <td>1</td>\n",
       "      <td>0</td>\n",
       "      <td>1</td>\n",
       "      <td>18943.64</td>\n",
       "      <td>0</td>\n",
       "    </tr>\n",
       "    <tr>\n",
       "      <th>9996</th>\n",
       "      <td>139170</td>\n",
       "      <td>894.0</td>\n",
       "      <td>Ярославль</td>\n",
       "      <td>М</td>\n",
       "      <td>46.0</td>\n",
       "      <td>0</td>\n",
       "      <td>NaN</td>\n",
       "      <td>1</td>\n",
       "      <td>1</td>\n",
       "      <td>0</td>\n",
       "      <td>196898.29</td>\n",
       "      <td>0</td>\n",
       "    </tr>\n",
       "    <tr>\n",
       "      <th>9997</th>\n",
       "      <td>115639</td>\n",
       "      <td>903.0</td>\n",
       "      <td>Ярославль</td>\n",
       "      <td>М</td>\n",
       "      <td>24.0</td>\n",
       "      <td>0</td>\n",
       "      <td>NaN</td>\n",
       "      <td>2</td>\n",
       "      <td>1</td>\n",
       "      <td>1</td>\n",
       "      <td>108905.09</td>\n",
       "      <td>0</td>\n",
       "    </tr>\n",
       "    <tr>\n",
       "      <th>9998</th>\n",
       "      <td>148700</td>\n",
       "      <td>777.0</td>\n",
       "      <td>Ярославль</td>\n",
       "      <td>Ж</td>\n",
       "      <td>68.0</td>\n",
       "      <td>3</td>\n",
       "      <td>865457.97</td>\n",
       "      <td>3</td>\n",
       "      <td>0</td>\n",
       "      <td>1</td>\n",
       "      <td>86874.90</td>\n",
       "      <td>0</td>\n",
       "    </tr>\n",
       "    <tr>\n",
       "      <th>9999</th>\n",
       "      <td>96267</td>\n",
       "      <td>828.0</td>\n",
       "      <td>Рыбинск</td>\n",
       "      <td>Ж</td>\n",
       "      <td>58.0</td>\n",
       "      <td>3</td>\n",
       "      <td>1180886.70</td>\n",
       "      <td>4</td>\n",
       "      <td>0</td>\n",
       "      <td>1</td>\n",
       "      <td>21422.37</td>\n",
       "      <td>0</td>\n",
       "    </tr>\n",
       "  </tbody>\n",
       "</table>\n",
       "<p>10000 rows × 12 columns</p>\n",
       "</div>"
      ],
      "text/plain": [
       "      USERID  score       city gender   age  equity     balance  products  \\\n",
       "0     183012  850.0    Рыбинск      Ж  25.0       1    59214.82         2   \n",
       "1     146556  861.0    Рыбинск      Ж  37.0       5   850594.33         3   \n",
       "2     120722  892.0    Рыбинск      Ж  30.0       0         NaN         1   \n",
       "3     225363  866.0  Ярославль      Ж  51.0       5  1524746.26         2   \n",
       "4     157978  730.0  Ярославль      М  34.0       5      174.00         1   \n",
       "...      ...    ...        ...    ...   ...     ...         ...       ...   \n",
       "9995  120553  814.0    Рыбинск      М  27.0       1    78144.65         1   \n",
       "9996  139170  894.0  Ярославль      М  46.0       0         NaN         1   \n",
       "9997  115639  903.0  Ярославль      М  24.0       0         NaN         2   \n",
       "9998  148700  777.0  Ярославль      Ж  68.0       3   865457.97         3   \n",
       "9999   96267  828.0    Рыбинск      Ж  58.0       3  1180886.70         4   \n",
       "\n",
       "      credit_card  last_activity  EST_SALARY  churn  \n",
       "0               0              1    75719.14      1  \n",
       "1               1              0    86621.77      0  \n",
       "2               1              1   107683.34      0  \n",
       "3               0              1   174423.53      1  \n",
       "4               1              0    67353.16      1  \n",
       "...           ...            ...         ...    ...  \n",
       "9995            0              1    18943.64      0  \n",
       "9996            1              0   196898.29      0  \n",
       "9997            1              1   108905.09      0  \n",
       "9998            0              1    86874.90      0  \n",
       "9999            0              1    21422.37      0  \n",
       "\n",
       "[10000 rows x 12 columns]"
      ]
     },
     "metadata": {},
     "output_type": "display_data"
    },
    {
     "name": "stdout",
     "output_type": "stream",
     "text": [
      "<class 'pandas.core.frame.DataFrame'>\n",
      "RangeIndex: 10000 entries, 0 to 9999\n",
      "Data columns (total 12 columns):\n",
      " #   Column         Non-Null Count  Dtype  \n",
      "---  ------         --------------  -----  \n",
      " 0   USERID         10000 non-null  int64  \n",
      " 1   score          10000 non-null  float64\n",
      " 2   city           10000 non-null  object \n",
      " 3   gender         10000 non-null  object \n",
      " 4   age            9974 non-null   float64\n",
      " 5   equity         10000 non-null  int64  \n",
      " 6   balance        7705 non-null   float64\n",
      " 7   products       10000 non-null  int64  \n",
      " 8   credit_card    10000 non-null  int64  \n",
      " 9   last_activity  10000 non-null  int64  \n",
      " 10  EST_SALARY     10000 non-null  float64\n",
      " 11  churn          10000 non-null  int64  \n",
      "dtypes: float64(4), int64(6), object(2)\n",
      "memory usage: 937.6+ KB\n"
     ]
    }
   ],
   "source": [
    "# выводим таблицу\n",
    "display(df)\n",
    "\n",
    "# выводим общую информацию\n",
    "df.info()"
   ]
  },
  {
   "cell_type": "markdown",
   "metadata": {},
   "source": [
    "Наш датасет содержит 10000 строк и 12 столбцов, из общей информации и самой таблицы видим, что есть пропуски в 2-х столбцах и названия столбцов не в едином стиле, все это поправим на следующем шаге. \n",
    "\n",
    "**Описание данных:**\n",
    "\n",
    "* USERID — идентификатор пользователя;\n",
    "\n",
    "* score — баллы кредитного скоринга;\n",
    "\n",
    "* city — город;\n",
    "\n",
    "* gender — пол;\n",
    "\n",
    "* age — возраст;\n",
    "\n",
    "* equity — количество баллов собственности;\n",
    "\n",
    "* balance — баланс на счёте;\n",
    "\n",
    "* products — количество продуктов, которыми пользуется клиент;\n",
    "\n",
    "* credit_card — есть ли кредитная карта;\n",
    "\n",
    "* last_activity — активный клиент;\n",
    "\n",
    "* EST_SALARY — оценочный доход клиента;\n",
    "\n",
    "* сhurn — признак оттока.\n"
   ]
  },
  {
   "cell_type": "markdown",
   "metadata": {},
   "source": [
    "#### Вывод:\n",
    "\n",
    "Загрузили информацию о клиентах \"Метанпромбанка\". Данные содержат 10000 строк и 12  столбцов. "
   ]
  },
  {
   "cell_type": "markdown",
   "metadata": {},
   "source": [
    "### Предобработка данных"
   ]
  },
  {
   "cell_type": "markdown",
   "metadata": {},
   "source": [
    "В первую очередь приведем названия столбцов к единому стилю."
   ]
  },
  {
   "cell_type": "code",
   "execution_count": 5,
   "metadata": {},
   "outputs": [
    {
     "data": {
      "text/html": [
       "<div>\n",
       "<style scoped>\n",
       "    .dataframe tbody tr th:only-of-type {\n",
       "        vertical-align: middle;\n",
       "    }\n",
       "\n",
       "    .dataframe tbody tr th {\n",
       "        vertical-align: top;\n",
       "    }\n",
       "\n",
       "    .dataframe thead th {\n",
       "        text-align: right;\n",
       "    }\n",
       "</style>\n",
       "<table border=\"1\" class=\"dataframe\">\n",
       "  <thead>\n",
       "    <tr style=\"text-align: right;\">\n",
       "      <th></th>\n",
       "      <th>user_id</th>\n",
       "      <th>score</th>\n",
       "      <th>city</th>\n",
       "      <th>gender</th>\n",
       "      <th>age</th>\n",
       "      <th>equity</th>\n",
       "      <th>balance</th>\n",
       "      <th>products</th>\n",
       "      <th>credit_card</th>\n",
       "      <th>last_activity</th>\n",
       "      <th>salary</th>\n",
       "      <th>churn</th>\n",
       "    </tr>\n",
       "  </thead>\n",
       "  <tbody>\n",
       "    <tr>\n",
       "      <th>0</th>\n",
       "      <td>183012</td>\n",
       "      <td>850.0</td>\n",
       "      <td>Рыбинск</td>\n",
       "      <td>Ж</td>\n",
       "      <td>25.0</td>\n",
       "      <td>1</td>\n",
       "      <td>59214.82</td>\n",
       "      <td>2</td>\n",
       "      <td>0</td>\n",
       "      <td>1</td>\n",
       "      <td>75719.14</td>\n",
       "      <td>1</td>\n",
       "    </tr>\n",
       "    <tr>\n",
       "      <th>1</th>\n",
       "      <td>146556</td>\n",
       "      <td>861.0</td>\n",
       "      <td>Рыбинск</td>\n",
       "      <td>Ж</td>\n",
       "      <td>37.0</td>\n",
       "      <td>5</td>\n",
       "      <td>850594.33</td>\n",
       "      <td>3</td>\n",
       "      <td>1</td>\n",
       "      <td>0</td>\n",
       "      <td>86621.77</td>\n",
       "      <td>0</td>\n",
       "    </tr>\n",
       "    <tr>\n",
       "      <th>2</th>\n",
       "      <td>120722</td>\n",
       "      <td>892.0</td>\n",
       "      <td>Рыбинск</td>\n",
       "      <td>Ж</td>\n",
       "      <td>30.0</td>\n",
       "      <td>0</td>\n",
       "      <td>NaN</td>\n",
       "      <td>1</td>\n",
       "      <td>1</td>\n",
       "      <td>1</td>\n",
       "      <td>107683.34</td>\n",
       "      <td>0</td>\n",
       "    </tr>\n",
       "    <tr>\n",
       "      <th>3</th>\n",
       "      <td>225363</td>\n",
       "      <td>866.0</td>\n",
       "      <td>Ярославль</td>\n",
       "      <td>Ж</td>\n",
       "      <td>51.0</td>\n",
       "      <td>5</td>\n",
       "      <td>1524746.26</td>\n",
       "      <td>2</td>\n",
       "      <td>0</td>\n",
       "      <td>1</td>\n",
       "      <td>174423.53</td>\n",
       "      <td>1</td>\n",
       "    </tr>\n",
       "    <tr>\n",
       "      <th>4</th>\n",
       "      <td>157978</td>\n",
       "      <td>730.0</td>\n",
       "      <td>Ярославль</td>\n",
       "      <td>М</td>\n",
       "      <td>34.0</td>\n",
       "      <td>5</td>\n",
       "      <td>174.00</td>\n",
       "      <td>1</td>\n",
       "      <td>1</td>\n",
       "      <td>0</td>\n",
       "      <td>67353.16</td>\n",
       "      <td>1</td>\n",
       "    </tr>\n",
       "  </tbody>\n",
       "</table>\n",
       "</div>"
      ],
      "text/plain": [
       "   user_id  score       city gender   age  equity     balance  products  \\\n",
       "0   183012  850.0    Рыбинск      Ж  25.0       1    59214.82         2   \n",
       "1   146556  861.0    Рыбинск      Ж  37.0       5   850594.33         3   \n",
       "2   120722  892.0    Рыбинск      Ж  30.0       0         NaN         1   \n",
       "3   225363  866.0  Ярославль      Ж  51.0       5  1524746.26         2   \n",
       "4   157978  730.0  Ярославль      М  34.0       5      174.00         1   \n",
       "\n",
       "   credit_card  last_activity     salary  churn  \n",
       "0            0              1   75719.14      1  \n",
       "1            1              0   86621.77      0  \n",
       "2            1              1  107683.34      0  \n",
       "3            0              1  174423.53      1  \n",
       "4            1              0   67353.16      1  "
      ]
     },
     "execution_count": 5,
     "metadata": {},
     "output_type": "execute_result"
    }
   ],
   "source": [
    "# переименовываем столбцы\n",
    "df = df.rename(columns={'USERID' : 'user_id', 'EST_SALARY' : 'salary'})\n",
    "\n",
    "# выводим таблицу и проверяем\n",
    "df.head()"
   ]
  },
  {
   "cell_type": "markdown",
   "metadata": {},
   "source": [
    "Теперь посмотрим на пропуски в данных и решим, что можно с ними сделать."
   ]
  },
  {
   "cell_type": "code",
   "execution_count": 6,
   "metadata": {},
   "outputs": [
    {
     "data": {
      "text/plain": [
       "balance          2295\n",
       "age                26\n",
       "user_id             0\n",
       "score               0\n",
       "city                0\n",
       "gender              0\n",
       "equity              0\n",
       "products            0\n",
       "credit_card         0\n",
       "last_activity       0\n",
       "salary              0\n",
       "churn               0\n",
       "dtype: int64"
      ]
     },
     "execution_count": 6,
     "metadata": {},
     "output_type": "execute_result"
    }
   ],
   "source": [
    "# считаем количество пропусков\n",
    "df.isna().sum().sort_values(ascending = False)"
   ]
  },
  {
   "cell_type": "markdown",
   "metadata": {},
   "source": [
    "Самое большое количество пропусков в столбце с балансом, почти 23% от всех данных. С этими прпоусками мы ничего сделать не можем, поэтому оставим их как есть.\n",
    "\n",
    "В столбце возраст обнаружено 26 пропусков, что составляет около 0,3% от общего количества, данные мы заполнить не можем, удалим эти строки, так как их потеря не несет критически важной информации для проекта."
   ]
  },
  {
   "cell_type": "code",
   "execution_count": 7,
   "metadata": {},
   "outputs": [
    {
     "data": {
      "text/plain": [
       "9974"
      ]
     },
     "execution_count": 7,
     "metadata": {},
     "output_type": "execute_result"
    }
   ],
   "source": [
    "# удаляем строки с пропусками в столбце\n",
    "df = df.dropna(subset=['age'])\n",
    "\n",
    "# проверяем длину датасета\n",
    "len(df)"
   ]
  },
  {
   "cell_type": "markdown",
   "metadata": {},
   "source": [
    "Далее проверим наш датасет на дубликаты."
   ]
  },
  {
   "cell_type": "code",
   "execution_count": 8,
   "metadata": {},
   "outputs": [
    {
     "data": {
      "text/plain": [
       "0"
      ]
     },
     "execution_count": 8,
     "metadata": {},
     "output_type": "execute_result"
    }
   ],
   "source": [
    "# считаем количество явных дубликатов\n",
    "df.duplicated().sum()"
   ]
  },
  {
   "cell_type": "markdown",
   "metadata": {},
   "source": [
    "Явных дубликатов не обнаружено, попробуем найти неявные среди наших данных."
   ]
  },
  {
   "cell_type": "code",
   "execution_count": 9,
   "metadata": {},
   "outputs": [
    {
     "data": {
      "text/plain": [
       "2"
      ]
     },
     "execution_count": 9,
     "metadata": {},
     "output_type": "execute_result"
    }
   ],
   "source": [
    "# считаем количество неявных дубликатов\n",
    "df.duplicated(subset=['user_id', 'age', 'gender']).sum()"
   ]
  },
  {
   "cell_type": "markdown",
   "metadata": {},
   "source": [
    "Выявили 2 неявных дубликата по id, возрасту и полу. Удалим их из таблицы."
   ]
  },
  {
   "cell_type": "code",
   "execution_count": 10,
   "metadata": {},
   "outputs": [
    {
     "data": {
      "text/plain": [
       "9972"
      ]
     },
     "execution_count": 10,
     "metadata": {},
     "output_type": "execute_result"
    }
   ],
   "source": [
    "# удаляем неявные дубликаты\n",
    "df = df.drop_duplicates(subset=['user_id', 'age', 'gender']).reset_index(drop=True)\n",
    "\n",
    "# проверяем длину датасета\n",
    "len(df)"
   ]
  },
  {
   "cell_type": "markdown",
   "metadata": {},
   "source": [
    "Взглянем на описательную статистику нашего датафрейма."
   ]
  },
  {
   "cell_type": "code",
   "execution_count": 11,
   "metadata": {},
   "outputs": [
    {
     "data": {
      "text/html": [
       "<div>\n",
       "<style scoped>\n",
       "    .dataframe tbody tr th:only-of-type {\n",
       "        vertical-align: middle;\n",
       "    }\n",
       "\n",
       "    .dataframe tbody tr th {\n",
       "        vertical-align: top;\n",
       "    }\n",
       "\n",
       "    .dataframe thead th {\n",
       "        text-align: right;\n",
       "    }\n",
       "</style>\n",
       "<table border=\"1\" class=\"dataframe\">\n",
       "  <thead>\n",
       "    <tr style=\"text-align: right;\">\n",
       "      <th></th>\n",
       "      <th>user_id</th>\n",
       "      <th>score</th>\n",
       "      <th>age</th>\n",
       "      <th>equity</th>\n",
       "      <th>balance</th>\n",
       "      <th>products</th>\n",
       "      <th>credit_card</th>\n",
       "      <th>last_activity</th>\n",
       "      <th>salary</th>\n",
       "      <th>churn</th>\n",
       "    </tr>\n",
       "  </thead>\n",
       "  <tbody>\n",
       "    <tr>\n",
       "      <th>count</th>\n",
       "      <td>9972.0</td>\n",
       "      <td>9972.0</td>\n",
       "      <td>9972.0</td>\n",
       "      <td>9972.0</td>\n",
       "      <td>7694.0</td>\n",
       "      <td>9972.0</td>\n",
       "      <td>9972.0</td>\n",
       "      <td>9972.0</td>\n",
       "      <td>9972.0</td>\n",
       "      <td>9972.0</td>\n",
       "    </tr>\n",
       "    <tr>\n",
       "      <th>mean</th>\n",
       "      <td>171751.2</td>\n",
       "      <td>848.7</td>\n",
       "      <td>42.7</td>\n",
       "      <td>2.6</td>\n",
       "      <td>827310.7</td>\n",
       "      <td>1.9</td>\n",
       "      <td>0.7</td>\n",
       "      <td>0.5</td>\n",
       "      <td>147794.0</td>\n",
       "      <td>0.2</td>\n",
       "    </tr>\n",
       "    <tr>\n",
       "      <th>std</th>\n",
       "      <td>33693.9</td>\n",
       "      <td>65.4</td>\n",
       "      <td>12.2</td>\n",
       "      <td>2.0</td>\n",
       "      <td>1980447.9</td>\n",
       "      <td>0.8</td>\n",
       "      <td>0.5</td>\n",
       "      <td>0.5</td>\n",
       "      <td>139298.5</td>\n",
       "      <td>0.4</td>\n",
       "    </tr>\n",
       "    <tr>\n",
       "      <th>min</th>\n",
       "      <td>94561.0</td>\n",
       "      <td>642.0</td>\n",
       "      <td>18.0</td>\n",
       "      <td>0.0</td>\n",
       "      <td>0.0</td>\n",
       "      <td>0.0</td>\n",
       "      <td>0.0</td>\n",
       "      <td>0.0</td>\n",
       "      <td>2546.3</td>\n",
       "      <td>0.0</td>\n",
       "    </tr>\n",
       "    <tr>\n",
       "      <th>25%</th>\n",
       "      <td>142750.5</td>\n",
       "      <td>802.0</td>\n",
       "      <td>33.0</td>\n",
       "      <td>0.0</td>\n",
       "      <td>295633.9</td>\n",
       "      <td>1.0</td>\n",
       "      <td>0.0</td>\n",
       "      <td>0.0</td>\n",
       "      <td>75240.7</td>\n",
       "      <td>0.0</td>\n",
       "    </tr>\n",
       "    <tr>\n",
       "      <th>50%</th>\n",
       "      <td>172643.0</td>\n",
       "      <td>853.0</td>\n",
       "      <td>40.0</td>\n",
       "      <td>3.0</td>\n",
       "      <td>524356.5</td>\n",
       "      <td>2.0</td>\n",
       "      <td>1.0</td>\n",
       "      <td>1.0</td>\n",
       "      <td>119626.8</td>\n",
       "      <td>0.0</td>\n",
       "    </tr>\n",
       "    <tr>\n",
       "      <th>75%</th>\n",
       "      <td>201163.2</td>\n",
       "      <td>900.0</td>\n",
       "      <td>51.0</td>\n",
       "      <td>4.0</td>\n",
       "      <td>980378.5</td>\n",
       "      <td>2.0</td>\n",
       "      <td>1.0</td>\n",
       "      <td>1.0</td>\n",
       "      <td>174500.5</td>\n",
       "      <td>0.0</td>\n",
       "    </tr>\n",
       "    <tr>\n",
       "      <th>max</th>\n",
       "      <td>229145.0</td>\n",
       "      <td>1000.0</td>\n",
       "      <td>86.0</td>\n",
       "      <td>9.0</td>\n",
       "      <td>119113552.0</td>\n",
       "      <td>5.0</td>\n",
       "      <td>1.0</td>\n",
       "      <td>1.0</td>\n",
       "      <td>1395064.4</td>\n",
       "      <td>1.0</td>\n",
       "    </tr>\n",
       "  </tbody>\n",
       "</table>\n",
       "</div>"
      ],
      "text/plain": [
       "        user_id   score     age  equity      balance  products  credit_card  \\\n",
       "count    9972.0  9972.0  9972.0  9972.0       7694.0    9972.0       9972.0   \n",
       "mean   171751.2   848.7    42.7     2.6     827310.7       1.9          0.7   \n",
       "std     33693.9    65.4    12.2     2.0    1980447.9       0.8          0.5   \n",
       "min     94561.0   642.0    18.0     0.0          0.0       0.0          0.0   \n",
       "25%    142750.5   802.0    33.0     0.0     295633.9       1.0          0.0   \n",
       "50%    172643.0   853.0    40.0     3.0     524356.5       2.0          1.0   \n",
       "75%    201163.2   900.0    51.0     4.0     980378.5       2.0          1.0   \n",
       "max    229145.0  1000.0    86.0     9.0  119113552.0       5.0          1.0   \n",
       "\n",
       "       last_activity     salary   churn  \n",
       "count         9972.0     9972.0  9972.0  \n",
       "mean             0.5   147794.0     0.2  \n",
       "std              0.5   139298.5     0.4  \n",
       "min              0.0     2546.3     0.0  \n",
       "25%              0.0    75240.7     0.0  \n",
       "50%              1.0   119626.8     0.0  \n",
       "75%              1.0   174500.5     0.0  \n",
       "max              1.0  1395064.4     1.0  "
      ]
     },
     "execution_count": 11,
     "metadata": {},
     "output_type": "execute_result"
    }
   ],
   "source": [
    "# выводим описательную статистику\n",
    "round(df.describe(), 1)"
   ]
  },
  {
   "cell_type": "markdown",
   "metadata": {},
   "source": [
    "Из описательной части мы видим, что диапозон возраста наших клиентов находится в интервале от 18 до 86 лет, что соответствует банковским нормам. Сильно выделяется разница между минимальным и максимальным балансами и доходами клиентов, но данная история имеет место быть, поэтому не будем считать это за аномалию. Единственное, что смущает, это наличие 0 продуктов, что не может быть, так как человек тогда не будет считаться клиентом банка.\n"
   ]
  },
  {
   "cell_type": "code",
   "execution_count": 12,
   "metadata": {},
   "outputs": [
    {
     "data": {
      "text/html": [
       "<div>\n",
       "<style scoped>\n",
       "    .dataframe tbody tr th:only-of-type {\n",
       "        vertical-align: middle;\n",
       "    }\n",
       "\n",
       "    .dataframe tbody tr th {\n",
       "        vertical-align: top;\n",
       "    }\n",
       "\n",
       "    .dataframe thead th {\n",
       "        text-align: right;\n",
       "    }\n",
       "</style>\n",
       "<table border=\"1\" class=\"dataframe\">\n",
       "  <thead>\n",
       "    <tr style=\"text-align: right;\">\n",
       "      <th></th>\n",
       "      <th>user_id</th>\n",
       "      <th>score</th>\n",
       "      <th>city</th>\n",
       "      <th>gender</th>\n",
       "      <th>age</th>\n",
       "      <th>equity</th>\n",
       "      <th>balance</th>\n",
       "      <th>products</th>\n",
       "      <th>credit_card</th>\n",
       "      <th>last_activity</th>\n",
       "      <th>salary</th>\n",
       "      <th>churn</th>\n",
       "    </tr>\n",
       "  </thead>\n",
       "  <tbody>\n",
       "    <tr>\n",
       "      <th>8937</th>\n",
       "      <td>147837</td>\n",
       "      <td>962.0</td>\n",
       "      <td>Рыбинск</td>\n",
       "      <td>Ж</td>\n",
       "      <td>79.0</td>\n",
       "      <td>3</td>\n",
       "      <td>NaN</td>\n",
       "      <td>0</td>\n",
       "      <td>0</td>\n",
       "      <td>0</td>\n",
       "      <td>25063.96</td>\n",
       "      <td>1</td>\n",
       "    </tr>\n",
       "  </tbody>\n",
       "</table>\n",
       "</div>"
      ],
      "text/plain": [
       "      user_id  score     city gender   age  equity  balance  products  \\\n",
       "8937   147837  962.0  Рыбинск      Ж  79.0       3      NaN         0   \n",
       "\n",
       "      credit_card  last_activity    salary  churn  \n",
       "8937            0              0  25063.96      1  "
      ]
     },
     "execution_count": 12,
     "metadata": {},
     "output_type": "execute_result"
    }
   ],
   "source": [
    "# делаем срез\n",
    "df[df['products'] == 0]"
   ]
  },
  {
   "cell_type": "markdown",
   "metadata": {},
   "source": [
    "Нашелся всего 1 \"клиент\", у которого нет продуктов. Удалим его из наших данных."
   ]
  },
  {
   "cell_type": "code",
   "execution_count": 13,
   "metadata": {},
   "outputs": [
    {
     "data": {
      "text/plain": [
       "9971"
      ]
     },
     "execution_count": 13,
     "metadata": {},
     "output_type": "execute_result"
    }
   ],
   "source": [
    "# удаляем данные по срезу\n",
    "df = df[df['products'] != 0]\n",
    "\n",
    "# проверяем длину датасета\n",
    "len(df)"
   ]
  },
  {
   "cell_type": "markdown",
   "metadata": {},
   "source": [
    "Проверим уникальные значения в столбцах с городом и полом."
   ]
  },
  {
   "cell_type": "code",
   "execution_count": 14,
   "metadata": {},
   "outputs": [
    {
     "data": {
      "text/plain": [
       "array(['Рыбинск', 'Ярославль', 'Ростов'], dtype=object)"
      ]
     },
     "metadata": {},
     "output_type": "display_data"
    },
    {
     "data": {
      "text/plain": [
       "array(['Ж', 'М'], dtype=object)"
      ]
     },
     "execution_count": 14,
     "metadata": {},
     "output_type": "execute_result"
    }
   ],
   "source": [
    "# выводим уникальные значения в столбце\n",
    "display(df['city'].unique())\n",
    "\n",
    "# выводим уникальные значения в столбце\n",
    "df['gender'].unique()"
   ]
  },
  {
   "cell_type": "markdown",
   "metadata": {},
   "source": [
    "Как видим, что городов у нас 3 как заявлено в описании проекта. Полов у нас 2 типа, что тоже соответсвует норме. \n",
    "\n",
    "Далее можно приступать к исследовательскому анализу."
   ]
  },
  {
   "cell_type": "markdown",
   "metadata": {},
   "source": [
    "#### Вывод:\n",
    "\n",
    "Провели предобработку данных, а именно:\n",
    "\n",
    "* привели названия столбцов к единому стилю;\n",
    "\n",
    "\n",
    "* посчитали количество пропусков: данные с пропусками в столбце возраст удалили, так как их всего 0,3% от общего количества и они не повлияют на наше исследование. Пропуски в столбце баланс (2295 или почти 23%) оставили как есть, так как их удаление критично для нашего анализа;\n",
    "\n",
    "\n",
    "* нашли 2 неявных дубликата, удалили данные строки из нашей таблицы;\n",
    "\n",
    "\n",
    "* выявили одного \"клиента\", у которого не было продуктов банка. Его данные удалили, так как он не может быть клиентом без единого продукта"
   ]
  },
  {
   "cell_type": "markdown",
   "metadata": {},
   "source": [
    "### Исследовательский анализ данных"
   ]
  },
  {
   "cell_type": "markdown",
   "metadata": {},
   "source": [
    "На данном этапе мы лучше изучим наших клиентов, составим профили оставшихся и ушедших клиентов, а также сегментируем высокоотточных клиентов."
   ]
  },
  {
   "cell_type": "markdown",
   "metadata": {},
   "source": [
    "Для начала проанализируем, как признаки клиентов коррелирует между собой: так как user_id не является признаком, установим его вместо индекса."
   ]
  },
  {
   "cell_type": "code",
   "execution_count": 15,
   "metadata": {},
   "outputs": [
    {
     "data": {
      "text/html": [
       "<div>\n",
       "<style scoped>\n",
       "    .dataframe tbody tr th:only-of-type {\n",
       "        vertical-align: middle;\n",
       "    }\n",
       "\n",
       "    .dataframe tbody tr th {\n",
       "        vertical-align: top;\n",
       "    }\n",
       "\n",
       "    .dataframe thead th {\n",
       "        text-align: right;\n",
       "    }\n",
       "</style>\n",
       "<table border=\"1\" class=\"dataframe\">\n",
       "  <thead>\n",
       "    <tr style=\"text-align: right;\">\n",
       "      <th></th>\n",
       "      <th>score</th>\n",
       "      <th>city</th>\n",
       "      <th>gender</th>\n",
       "      <th>age</th>\n",
       "      <th>equity</th>\n",
       "      <th>balance</th>\n",
       "      <th>products</th>\n",
       "      <th>credit_card</th>\n",
       "      <th>last_activity</th>\n",
       "      <th>salary</th>\n",
       "      <th>churn</th>\n",
       "    </tr>\n",
       "    <tr>\n",
       "      <th>user_id</th>\n",
       "      <th></th>\n",
       "      <th></th>\n",
       "      <th></th>\n",
       "      <th></th>\n",
       "      <th></th>\n",
       "      <th></th>\n",
       "      <th></th>\n",
       "      <th></th>\n",
       "      <th></th>\n",
       "      <th></th>\n",
       "      <th></th>\n",
       "    </tr>\n",
       "  </thead>\n",
       "  <tbody>\n",
       "    <tr>\n",
       "      <th>183012</th>\n",
       "      <td>850.0</td>\n",
       "      <td>Рыбинск</td>\n",
       "      <td>Ж</td>\n",
       "      <td>25.0</td>\n",
       "      <td>1</td>\n",
       "      <td>59214.82</td>\n",
       "      <td>2</td>\n",
       "      <td>0</td>\n",
       "      <td>1</td>\n",
       "      <td>75719.14</td>\n",
       "      <td>1</td>\n",
       "    </tr>\n",
       "    <tr>\n",
       "      <th>146556</th>\n",
       "      <td>861.0</td>\n",
       "      <td>Рыбинск</td>\n",
       "      <td>Ж</td>\n",
       "      <td>37.0</td>\n",
       "      <td>5</td>\n",
       "      <td>850594.33</td>\n",
       "      <td>3</td>\n",
       "      <td>1</td>\n",
       "      <td>0</td>\n",
       "      <td>86621.77</td>\n",
       "      <td>0</td>\n",
       "    </tr>\n",
       "    <tr>\n",
       "      <th>120722</th>\n",
       "      <td>892.0</td>\n",
       "      <td>Рыбинск</td>\n",
       "      <td>Ж</td>\n",
       "      <td>30.0</td>\n",
       "      <td>0</td>\n",
       "      <td>NaN</td>\n",
       "      <td>1</td>\n",
       "      <td>1</td>\n",
       "      <td>1</td>\n",
       "      <td>107683.34</td>\n",
       "      <td>0</td>\n",
       "    </tr>\n",
       "    <tr>\n",
       "      <th>225363</th>\n",
       "      <td>866.0</td>\n",
       "      <td>Ярославль</td>\n",
       "      <td>Ж</td>\n",
       "      <td>51.0</td>\n",
       "      <td>5</td>\n",
       "      <td>1524746.26</td>\n",
       "      <td>2</td>\n",
       "      <td>0</td>\n",
       "      <td>1</td>\n",
       "      <td>174423.53</td>\n",
       "      <td>1</td>\n",
       "    </tr>\n",
       "    <tr>\n",
       "      <th>157978</th>\n",
       "      <td>730.0</td>\n",
       "      <td>Ярославль</td>\n",
       "      <td>М</td>\n",
       "      <td>34.0</td>\n",
       "      <td>5</td>\n",
       "      <td>174.00</td>\n",
       "      <td>1</td>\n",
       "      <td>1</td>\n",
       "      <td>0</td>\n",
       "      <td>67353.16</td>\n",
       "      <td>1</td>\n",
       "    </tr>\n",
       "  </tbody>\n",
       "</table>\n",
       "</div>"
      ],
      "text/plain": [
       "         score       city gender   age  equity     balance  products  \\\n",
       "user_id                                                                \n",
       "183012   850.0    Рыбинск      Ж  25.0       1    59214.82         2   \n",
       "146556   861.0    Рыбинск      Ж  37.0       5   850594.33         3   \n",
       "120722   892.0    Рыбинск      Ж  30.0       0         NaN         1   \n",
       "225363   866.0  Ярославль      Ж  51.0       5  1524746.26         2   \n",
       "157978   730.0  Ярославль      М  34.0       5      174.00         1   \n",
       "\n",
       "         credit_card  last_activity     salary  churn  \n",
       "user_id                                                \n",
       "183012             0              1   75719.14      1  \n",
       "146556             1              0   86621.77      0  \n",
       "120722             1              1  107683.34      0  \n",
       "225363             0              1  174423.53      1  \n",
       "157978             1              0   67353.16      1  "
      ]
     },
     "execution_count": 15,
     "metadata": {},
     "output_type": "execute_result"
    }
   ],
   "source": [
    "# меняем индекс на значения столбца user_id\n",
    "df = df.set_index('user_id')\n",
    "\n",
    "# выводим таблицу и проверяем\n",
    "df.head()"
   ]
  },
  {
   "cell_type": "code",
   "execution_count": 16,
   "metadata": {},
   "outputs": [],
   "source": [
    "# сохраняем в переменную матрицу корреляции\n",
    "phik_corr = df.phik_matrix(interval_cols=['score','balance','salary','age']).round(2)"
   ]
  },
  {
   "cell_type": "code",
   "execution_count": 17,
   "metadata": {},
   "outputs": [
    {
     "data": {
      "image/png": "[encoded data removed]",
      "text/plain": [
       "<Figure size 1152x576 with 2 Axes>"
      ]
     },
     "metadata": {
      "needs_background": "light"
     },
     "output_type": "display_data"
    }
   ],
   "source": [
    "# строим график\n",
    "plt.figure(figsize=(16,8))\n",
    "\n",
    "sns.heatmap (\n",
    "    phik_corr,\n",
    "    annot=True,\n",
    "    vmin=-1,\n",
    "    vmax=1,\n",
    "    center= 0,\n",
    "    cmap= 'coolwarm',\n",
    "    linewidths=1)\n",
    "plt.title('Тепловая карта матрицы корреляции признаков клиента банка')\n",
    "plt.ylabel('признак')\n",
    "plt.xlabel('признак')\n",
    "plt.show()"
   ]
  },
  {
   "cell_type": "markdown",
   "metadata": {},
   "source": [
    "Для анализа зависимости будем использовать шкалу Чеддока:\n",
    "    \n",
    "Значения шкалы:\n",
    "\n",
    "* 0,1–0,3 — слабая связь;\n",
    "* 0,3–0,5 — умеренная связь;\n",
    "* 0,5–0,7 — заметная связь;\n",
    "* 0,7–0,9 — высокая связь;\n",
    "* 0,9–0,99 — весьма высокая связь.    \n",
    "    \n",
    "Высокой зависимости между признаками не наблюдается.\n",
    "\n",
    "Отметим, что есть заметная зависимость между products и equity (0,58), между score и equity (0,53). \n",
    "    \n",
    "Умеренная связь есть между products и score (0,42), между salary  и score (0,4) между salary и balance (0,37), между salary и age (0,36).    "
   ]
  },
  {
   "cell_type": "markdown",
   "metadata": {},
   "source": [
    "Отдельно построим тепловую карту зависимости признаков от оттока."
   ]
  },
  {
   "cell_type": "code",
   "execution_count": 18,
   "metadata": {},
   "outputs": [
    {
     "data": {
      "image/png": "[encoded data removed]",
      "text/plain": [
       "<Figure size 504x720 with 2 Axes>"
      ]
     },
     "metadata": {
      "needs_background": "light"
     },
     "output_type": "display_data"
    }
   ],
   "source": [
    "# строим график\n",
    "plt.figure(figsize=(7,10))\n",
    "\n",
    "sns.heatmap(\n",
    "    phik_corr.loc[:,['churn']].drop('churn').sort_values('churn'),\n",
    "    annot =True,\n",
    "    fmt = \".0%\",\n",
    "    cmap = 'vlag',\n",
    "    center = 0\n",
    ")\n",
    "plt.title('Тепловая карта корреляции признаков от оттока')\n",
    "plt.ylabel('признак')\n",
    "plt.xlabel('признак')\n",
    "plt.yticks(rotation=0)\n",
    "plt.show()"
   ]
  },
  {
   "cell_type": "markdown",
   "metadata": {},
   "source": [
    "Видим, что имеется умеренная связь оттока от количества баллов собсвенности (35%), остальные признаки имеют слабую зависимость."
   ]
  },
  {
   "cell_type": "markdown",
   "metadata": {},
   "source": [
    "#### Портрет типичного пользователя"
   ]
  },
  {
   "cell_type": "markdown",
   "metadata": {},
   "source": [
    "Узнаем, какое количество клиентов уже ушло и какая часть средств была потеряна с их уходом."
   ]
  },
  {
   "cell_type": "code",
   "execution_count": 19,
   "metadata": {},
   "outputs": [
    {
     "data": {
      "text/plain": [
       "0    8153\n",
       "1    1818\n",
       "Name: churn, dtype: int64"
      ]
     },
     "execution_count": 19,
     "metadata": {},
     "output_type": "execute_result"
    }
   ],
   "source": [
    "# считаем уникальные значения в столбце\n",
    "df['churn'].value_counts()"
   ]
  },
  {
   "cell_type": "markdown",
   "metadata": {},
   "source": [
    "Визуализируем данные для наглядности."
   ]
  },
  {
   "cell_type": "code",
   "execution_count": 20,
   "metadata": {},
   "outputs": [
    {
     "data": {
      "image/png": "[encoded data removed]",
      "text/plain": [
       "<Figure size 576x576 with 1 Axes>"
      ]
     },
     "metadata": {},
     "output_type": "display_data"
    }
   ],
   "source": [
    "# строим график\n",
    "labels = ['Оставшиеся', 'Ушедшие']\n",
    "\n",
    "df['churn'].value_counts().plot(\n",
    "    kind='pie',\n",
    "    autopct='%0.1f%%',\n",
    "    figsize = (8,8),\n",
    "    colors=sns.color_palette('pastel'),\n",
    "    labels= labels\n",
    ")\n",
    "plt.title('Соотношение клиентов банка')\n",
    "plt.ylabel('')\n",
    "plt.show()"
   ]
  },
  {
   "cell_type": "markdown",
   "metadata": {},
   "source": [
    "Посмотрим на суммарные балансы ушедших и оставшихся клиентов."
   ]
  },
  {
   "cell_type": "code",
   "execution_count": 21,
   "metadata": {},
   "outputs": [
    {
     "data": {
      "text/html": [
       "<div>\n",
       "<style scoped>\n",
       "    .dataframe tbody tr th:only-of-type {\n",
       "        vertical-align: middle;\n",
       "    }\n",
       "\n",
       "    .dataframe tbody tr th {\n",
       "        vertical-align: top;\n",
       "    }\n",
       "\n",
       "    .dataframe thead th {\n",
       "        text-align: right;\n",
       "    }\n",
       "</style>\n",
       "<table border=\"1\" class=\"dataframe\">\n",
       "  <thead>\n",
       "    <tr style=\"text-align: right;\">\n",
       "      <th></th>\n",
       "      <th>churn</th>\n",
       "      <th>balance</th>\n",
       "    </tr>\n",
       "  </thead>\n",
       "  <tbody>\n",
       "    <tr>\n",
       "      <th>0</th>\n",
       "      <td>0</td>\n",
       "      <td>4.316497e+09</td>\n",
       "    </tr>\n",
       "    <tr>\n",
       "      <th>1</th>\n",
       "      <td>1</td>\n",
       "      <td>2.048832e+09</td>\n",
       "    </tr>\n",
       "  </tbody>\n",
       "</table>\n",
       "</div>"
      ],
      "text/plain": [
       "   churn       balance\n",
       "0      0  4.316497e+09\n",
       "1      1  2.048832e+09"
      ]
     },
     "execution_count": 21,
     "metadata": {},
     "output_type": "execute_result"
    }
   ],
   "source": [
    "# делаем сводную таблицу\n",
    "data = df.groupby('churn').agg({'balance' : 'sum'}).reset_index()\n",
    "\n",
    "# выводим ее\n",
    "data"
   ]
  },
  {
   "cell_type": "markdown",
   "metadata": {},
   "source": [
    "Построим график по этим данным."
   ]
  },
  {
   "cell_type": "code",
   "execution_count": 22,
   "metadata": {},
   "outputs": [
    {
     "data": {
      "image/png": "[encoded data removed]",
      "text/plain": [
       "<Figure size 576x648 with 1 Axes>"
      ]
     },
     "metadata": {
      "needs_background": "light"
     },
     "output_type": "display_data"
    }
   ],
   "source": [
    "# строим график\n",
    "plt.figure(figsize=(8,9))\n",
    "labels = ['Оставшиеся', 'Ушедшие']\n",
    "sns.barplot(y = data['balance'], x = labels, palette = 'pastel', ec='black')\n",
    "plt.title('Суммарный баланс клиентов в разбивке по отточности ')\n",
    "plt.ylabel('Суммарный баланс')\n",
    "plt.xlabel('признак отточности')\n",
    "plt.show()"
   ]
  },
  {
   "cell_type": "markdown",
   "metadata": {},
   "source": [
    "Как мы видим из графиков, итого 18% ушедших клиентов и 2 млрд.рублей отток средств клиентов ( практически треть всех средств клиентов до ухода), что очень критично для банка."
   ]
  },
  {
   "cell_type": "markdown",
   "metadata": {},
   "source": [
    "Сгруппируем данные по признаку отточности для составления типичных портретов клиентов и посчитаем средний скоринговый бал, средний возраст, среднее количество баллов по имуществу, среднее количество продуктов банка, медианную зарплату и балансы, а также долю активных клиентов и долю, у которых есть крединая карта."
   ]
  },
  {
   "cell_type": "code",
   "execution_count": 23,
   "metadata": {},
   "outputs": [
    {
     "data": {
      "text/html": [
       "<div>\n",
       "<style scoped>\n",
       "    .dataframe tbody tr th:only-of-type {\n",
       "        vertical-align: middle;\n",
       "    }\n",
       "\n",
       "    .dataframe tbody tr th {\n",
       "        vertical-align: top;\n",
       "    }\n",
       "\n",
       "    .dataframe thead th {\n",
       "        text-align: right;\n",
       "    }\n",
       "</style>\n",
       "<table border=\"1\" class=\"dataframe\">\n",
       "  <thead>\n",
       "    <tr style=\"text-align: right;\">\n",
       "      <th></th>\n",
       "      <th>churn</th>\n",
       "      <th>score</th>\n",
       "      <th>age</th>\n",
       "      <th>equity</th>\n",
       "      <th>balance</th>\n",
       "      <th>products</th>\n",
       "      <th>credit_card</th>\n",
       "      <th>last_activity</th>\n",
       "      <th>salary</th>\n",
       "    </tr>\n",
       "  </thead>\n",
       "  <tbody>\n",
       "    <tr>\n",
       "      <th>0</th>\n",
       "      <td>0</td>\n",
       "      <td>845.39</td>\n",
       "      <td>43.02</td>\n",
       "      <td>2.38</td>\n",
       "      <td>475437.82</td>\n",
       "      <td>1.76</td>\n",
       "      <td>0.71</td>\n",
       "      <td>0.48</td>\n",
       "      <td>118227.60</td>\n",
       "    </tr>\n",
       "    <tr>\n",
       "      <th>1</th>\n",
       "      <td>1</td>\n",
       "      <td>863.36</td>\n",
       "      <td>41.43</td>\n",
       "      <td>3.76</td>\n",
       "      <td>783908.90</td>\n",
       "      <td>2.38</td>\n",
       "      <td>0.55</td>\n",
       "      <td>0.70</td>\n",
       "      <td>125408.88</td>\n",
       "    </tr>\n",
       "  </tbody>\n",
       "</table>\n",
       "</div>"
      ],
      "text/plain": [
       "   churn   score    age  equity    balance  products  credit_card  \\\n",
       "0      0  845.39  43.02    2.38  475437.82      1.76         0.71   \n",
       "1      1  863.36  41.43    3.76  783908.90      2.38         0.55   \n",
       "\n",
       "   last_activity     salary  \n",
       "0           0.48  118227.60  \n",
       "1           0.70  125408.88  "
      ]
     },
     "execution_count": 23,
     "metadata": {},
     "output_type": "execute_result"
    }
   ],
   "source": [
    "# делаем сводную таблицу\n",
    "round(\n",
    "    df.groupby('churn', as_index = False)\n",
    "    .agg(\n",
    "        {'score' : 'mean',\n",
    "         'age' : 'mean',\n",
    "         'equity' : 'mean',\n",
    "         'balance' : 'median',\n",
    "         'products' : 'mean',\n",
    "         'credit_card' : 'mean',\n",
    "         'last_activity' : 'mean',\n",
    "         'salary' : 'median'\n",
    "        }\n",
    "    )\n",
    ", 2)"
   ]
  },
  {
   "cell_type": "markdown",
   "metadata": {},
   "source": [
    "В данных нет деления по полу, так как это нечисловой тип данных. Отдельно построим графики разделения оставшихся/ушедших клиентов по полу."
   ]
  },
  {
   "cell_type": "code",
   "execution_count": 24,
   "metadata": {
    "scrolled": false
   },
   "outputs": [
    {
     "data": {
      "image/png": "[encoded data removed]",
      "text/plain": [
       "<Figure size 1080x504 with 2 Axes>"
      ]
     },
     "metadata": {},
     "output_type": "display_data"
    }
   ],
   "source": [
    "# строим графики\n",
    "plt.figure(figsize=(15, 7))\n",
    "\n",
    "ax1 = plt.subplot(1, 2, 1)\n",
    "\n",
    "labels = ['Женщины','Мужчины']\n",
    "plt.pie(\n",
    "    df.query('churn == 0')['gender'].value_counts(),\n",
    "    autopct='%.0f%%',\n",
    "    colors=sns.color_palette('pastel'),\n",
    "    labels= labels\n",
    ")\n",
    "plt.title('Соотношение мужчин и женщин среди оставшихся клиентов')\n",
    "\n",
    "ax2 = plt.subplot(1, 2, 2)\n",
    "\n",
    "labels = ['Мужчины', 'Женщины']\n",
    "plt.pie(\n",
    "    df.query('churn == 1')['gender'].value_counts(),\n",
    "    autopct='%.0f%%',\n",
    "    colors=sns.color_palette('pastel'),\n",
    "    labels= labels\n",
    ")\n",
    "plt.title('Соотношение мужчин и женщин среди ушедших клиентов')\n",
    "plt.show()"
   ]
  },
  {
   "cell_type": "markdown",
   "metadata": {},
   "source": [
    "Из описательной части и графиков можно сделать выводы о типичном портрете клиента в разрезе оставшиеся/ушедшие:\n",
    "\n",
    "* оставшийся клиент - это зачастую неактивный клиент женского пола в возрасте 43 лет (в среднем) с 2-мя продуктами от банка, есть кредитная карта, медианный доход 118 тыс. рублей и имеет на балансе 475 тысяч рублей (медианное значение), средний скоринговый бал 845, среднее значение балов собственности 2,3;\n",
    "\n",
    "\n",
    "* ушедший клиент - это активный клиент мужского пола в возрасте 41 года (в среднем) с 2-мя продуктами от банка, есть кредитная карта, медианный доход 125 тысяч рублей и имеет на балансе 783 тысячи рублей (медианное значение), средний скоринговый бал 863, среднее значение балов собственности 3,76."
   ]
  },
  {
   "cell_type": "markdown",
   "metadata": {},
   "source": [
    "Узнаем из какого города больше всего отточных клиентов."
   ]
  },
  {
   "cell_type": "code",
   "execution_count": 25,
   "metadata": {},
   "outputs": [
    {
     "data": {
      "text/html": [
       "<div>\n",
       "<style scoped>\n",
       "    .dataframe tbody tr th:only-of-type {\n",
       "        vertical-align: middle;\n",
       "    }\n",
       "\n",
       "    .dataframe tbody tr th {\n",
       "        vertical-align: top;\n",
       "    }\n",
       "\n",
       "    .dataframe thead th {\n",
       "        text-align: right;\n",
       "    }\n",
       "</style>\n",
       "<table border=\"1\" class=\"dataframe\">\n",
       "  <thead>\n",
       "    <tr style=\"text-align: right;\">\n",
       "      <th></th>\n",
       "      <th>city</th>\n",
       "      <th>cnt_client</th>\n",
       "      <th>cnt_churn</th>\n",
       "      <th>share_churn</th>\n",
       "    </tr>\n",
       "  </thead>\n",
       "  <tbody>\n",
       "    <tr>\n",
       "      <th>2</th>\n",
       "      <td>Ярославль</td>\n",
       "      <td>5874</td>\n",
       "      <td>1117</td>\n",
       "      <td>19.02</td>\n",
       "    </tr>\n",
       "    <tr>\n",
       "      <th>0</th>\n",
       "      <td>Ростов</td>\n",
       "      <td>1416</td>\n",
       "      <td>265</td>\n",
       "      <td>18.71</td>\n",
       "    </tr>\n",
       "    <tr>\n",
       "      <th>1</th>\n",
       "      <td>Рыбинск</td>\n",
       "      <td>2681</td>\n",
       "      <td>436</td>\n",
       "      <td>16.26</td>\n",
       "    </tr>\n",
       "  </tbody>\n",
       "</table>\n",
       "</div>"
      ],
      "text/plain": [
       "        city  cnt_client  cnt_churn  share_churn\n",
       "2  Ярославль        5874       1117        19.02\n",
       "0     Ростов        1416        265        18.71\n",
       "1    Рыбинск        2681        436        16.26"
      ]
     },
     "execution_count": 25,
     "metadata": {},
     "output_type": "execute_result"
    }
   ],
   "source": [
    "# делаем сводную таблицу\n",
    "city_grouped = df.groupby('city', as_index = False).agg({'churn': ['count', 'sum', 'mean']})\n",
    "\n",
    "city_grouped.columns = ['city', 'cnt_client', 'cnt_churn', 'share_churn']\n",
    "\n",
    "city_grouped['share_churn'] = round(city_grouped['share_churn'] * 100, 2)\n",
    "\n",
    "city_grouped.sort_values(by='share_churn', ascending=False)"
   ]
  },
  {
   "cell_type": "markdown",
   "metadata": {},
   "source": [
    "Визуализируем данные."
   ]
  },
  {
   "cell_type": "code",
   "execution_count": 26,
   "metadata": {},
   "outputs": [
    {
     "data": {
      "image/png": "[encoded data removed]",
      "text/plain": [
       "<Figure size 504x720 with 1 Axes>"
      ]
     },
     "metadata": {
      "needs_background": "light"
     },
     "output_type": "display_data"
    }
   ],
   "source": [
    "# строим график\n",
    "plt.figure(figsize=(7,10))\n",
    "sns.barplot(\n",
    "    data = city_grouped.sort_values(by='share_churn', ascending=False),\n",
    "    y = 'share_churn',\n",
    "    x = 'city',\n",
    "    palette = 'pastel',\n",
    "    ec='black'\n",
    ")\n",
    "plt.title('Процент оттока клиентов по городам')\n",
    "plt.ylabel('процент')\n",
    "plt.xlabel('город')\n",
    "plt.ylim(15,20)\n",
    "plt.show()"
   ]
  },
  {
   "cell_type": "markdown",
   "metadata": {},
   "source": [
    "Из графика видно, что больше всего отточных клиентов из Ярославля (1117 клиентов или 19,02%), далее идут Ростов (18,71% или 265 человек) и Рыбинск (436 клиентов или 16,26%)."
   ]
  },
  {
   "cell_type": "markdown",
   "metadata": {},
   "source": [
    "#### Поиск интервалов для выделения сегментов"
   ]
  },
  {
   "cell_type": "markdown",
   "metadata": {},
   "source": [
    "Далее мы рассмотрим каждый признак клиента в отдельности и найдем интервалы значений, где наибольшая плотность отточных клиентов, что в дальнейшем поможет нам создать сегменты ушедших клиентов. "
   ]
  },
  {
   "cell_type": "markdown",
   "metadata": {},
   "source": [
    "Начнем со скорингового балла клиентов."
   ]
  },
  {
   "cell_type": "code",
   "execution_count": 27,
   "metadata": {},
   "outputs": [
    {
     "data": {
      "image/png": "[encoded data removed]",
      "text/plain": [
       "<Figure size 1080x720 with 1 Axes>"
      ]
     },
     "metadata": {
      "needs_background": "light"
     },
     "output_type": "display_data"
    }
   ],
   "source": [
    "# строим график\n",
    "plt.figure(figsize = (15,10))\n",
    "\n",
    "sns.histplot(data=df, hue='churn', x='score', stat='density', common_norm = False, palette = 'pastel', binwidth=5 )\n",
    "plt.title('Гистограмма плотности распределения клиентов по скоринговому баллу в разрезе по отточности ')\n",
    "plt.ylabel('значение плотности')\n",
    "plt.xlabel('скоринговый балл')\n",
    "plt.legend(['Ушедшие','Оставшиеся'])\n",
    "plt.show()"
   ]
  },
  {
   "cell_type": "code",
   "execution_count": 28,
   "metadata": {},
   "outputs": [
    {
     "data": {
      "text/plain": [
       "4967"
      ]
     },
     "execution_count": 28,
     "metadata": {},
     "output_type": "execute_result"
    }
   ],
   "source": [
    "# проверяем длину среза\n",
    "len(df.query('(825 <= score <= 905) | (920<= score <= 940)'))"
   ]
  },
  {
   "cell_type": "code",
   "execution_count": 29,
   "metadata": {},
   "outputs": [
    {
     "data": {
      "text/plain": [
       "23.96"
      ]
     },
     "execution_count": 29,
     "metadata": {},
     "output_type": "execute_result"
    }
   ],
   "source": [
    "# ищем процент по условию\n",
    "round(\n",
    "    len(df.query('((825 <= score <= 905) | (920<= score <= 940)) & (churn ==1)'))/\n",
    "    len(df.query('(825 <= score <= 905) | (920<= score <= 940)')) * 100, \n",
    "    2\n",
    ")"
   ]
  },
  {
   "cell_type": "markdown",
   "metadata": {},
   "source": [
    "Далее рассмотрим возраст клиентов."
   ]
  },
  {
   "cell_type": "code",
   "execution_count": 30,
   "metadata": {},
   "outputs": [
    {
     "data": {
      "image/png": "[encoded data removed]",
      "text/plain": [
       "<Figure size 1080x720 with 1 Axes>"
      ]
     },
     "metadata": {
      "needs_background": "light"
     },
     "output_type": "display_data"
    }
   ],
   "source": [
    "# строим график\n",
    "plt.figure(figsize = (15,10))\n",
    "\n",
    "sns.histplot(data=df, hue='churn', x='age', stat='density', common_norm = False, palette = 'pastel', binwidth=1)\n",
    "plt.title('Гистограмма плотности распределения клиентов по возрасту в разрезе по отточности ')\n",
    "plt.ylabel('значение плотности')\n",
    "plt.xlabel('возраст')\n",
    "plt.legend(['Ушедшие','Оставшиеся'])\n",
    "plt.show()"
   ]
  },
  {
   "cell_type": "code",
   "execution_count": 31,
   "metadata": {},
   "outputs": [
    {
     "data": {
      "text/plain": [
       "4821"
      ]
     },
     "execution_count": 31,
     "metadata": {},
     "output_type": "execute_result"
    }
   ],
   "source": [
    "# проверяем длину среза\n",
    "len(df.query('(50 <= age <= 60) | (25<=age<=35) '))"
   ]
  },
  {
   "cell_type": "code",
   "execution_count": 32,
   "metadata": {},
   "outputs": [
    {
     "data": {
      "text/plain": [
       "23.5"
      ]
     },
     "execution_count": 32,
     "metadata": {},
     "output_type": "execute_result"
    }
   ],
   "source": [
    "# ищем процент по условию\n",
    "round(\n",
    "    len(df.query('((50 <= age <= 60) | (25<=age<=35)) & (churn ==1)'))/\n",
    "    len(df.query('(50 <= age <= 60) | (25<=age<=35) ')) * 100,\n",
    "    2\n",
    ")"
   ]
  },
  {
   "cell_type": "markdown",
   "metadata": {},
   "source": [
    "Следующий признак, который мы рассмотрим, это баллы собственности."
   ]
  },
  {
   "cell_type": "code",
   "execution_count": 33,
   "metadata": {},
   "outputs": [
    {
     "data": {
      "image/png": "[encoded data removed]",
      "text/plain": [
       "<Figure size 1080x576 with 1 Axes>"
      ]
     },
     "metadata": {
      "needs_background": "light"
     },
     "output_type": "display_data"
    }
   ],
   "source": [
    "# строим график\n",
    "plt.figure(figsize = (15,8))\n",
    "\n",
    "sns.histplot(data=df, hue='churn', x='equity', stat='density', common_norm = False, palette = 'pastel', binwidth=1)\n",
    "plt.title('Гистограмма плотности распределения клиентов по баллам собственности в разрезе по отточности ')\n",
    "plt.ylabel('значение плотности')\n",
    "plt.xlabel('баллы собственности')\n",
    "plt.legend(['Ушедшие','Оставшиеся'])\n",
    "plt.show()"
   ]
  },
  {
   "cell_type": "code",
   "execution_count": 34,
   "metadata": {},
   "outputs": [
    {
     "data": {
      "text/plain": [
       "4033"
      ]
     },
     "execution_count": 34,
     "metadata": {},
     "output_type": "execute_result"
    }
   ],
   "source": [
    "# проверяем длину среза\n",
    "len(df.query('equity >=4'))"
   ]
  },
  {
   "cell_type": "code",
   "execution_count": 35,
   "metadata": {},
   "outputs": [
    {
     "data": {
      "text/plain": [
       "28.47"
      ]
     },
     "execution_count": 35,
     "metadata": {},
     "output_type": "execute_result"
    }
   ],
   "source": [
    "# ищем процент по условию\n",
    "round(\n",
    "    len(df.query('(equity >=4) & (churn ==1)'))/\n",
    "    len(df.query('equity >=4')) * 100,\n",
    "    2\n",
    ")"
   ]
  },
  {
   "cell_type": "markdown",
   "metadata": {},
   "source": [
    "Далее рассмотрим такой признак как баланс.\n",
    "\n",
    "В данных имеются одиночные огромные значения, поэтому мы рассмотрим балансы, которые меньше 4 млн. рублей. Посчитаем процент потерь, который мы не используем при построении графика."
   ]
  },
  {
   "cell_type": "code",
   "execution_count": 36,
   "metadata": {},
   "outputs": [
    {
     "data": {
      "text/plain": [
       "1.11"
      ]
     },
     "execution_count": 36,
     "metadata": {},
     "output_type": "execute_result"
    }
   ],
   "source": [
    "# ищем процент по условию\n",
    "round(len(df.query('balance > 4000000'))/ len(df['balance']) *100, 2)"
   ]
  },
  {
   "cell_type": "markdown",
   "metadata": {},
   "source": [
    "Процент оказался незначительным, поэтому выбранный срез идеально подойдет для графика."
   ]
  },
  {
   "cell_type": "code",
   "execution_count": 37,
   "metadata": {},
   "outputs": [
    {
     "data": {
      "image/png": "[encoded data removed]",
      "text/plain": [
       "<Figure size 1080x576 with 1 Axes>"
      ]
     },
     "metadata": {
      "needs_background": "light"
     },
     "output_type": "display_data"
    }
   ],
   "source": [
    "# строим график\n",
    "plt.figure(figsize = (15,8))\n",
    "\n",
    "sns.histplot(\n",
    "    data=df.query('balance < 4000000'),\n",
    "    hue='churn',\n",
    "    x='balance',\n",
    "    stat='density',\n",
    "    common_norm = False,\n",
    "    palette = 'pastel'\n",
    ")\n",
    "plt.title('Гистограмма плотности распределения клиентов по балансу в разрезе по отточности ')\n",
    "plt.ylabel('значение плотности')\n",
    "plt.xlabel('баланс')\n",
    "plt.legend(['Ушедшие','Оставшиеся'])\n",
    "plt.show()"
   ]
  },
  {
   "cell_type": "markdown",
   "metadata": {},
   "source": [
    "Из графика видно, что больше плотность отточных клиентов в интервале от 750000 до 1000000 млн.рублей и от 1150000 до 4000000 млн. рублей.\n",
    "\n",
    "Найдем количество клиентов, попадающих в эти диапозоны, и процент ушедших."
   ]
  },
  {
   "cell_type": "code",
   "execution_count": 38,
   "metadata": {},
   "outputs": [
    {
     "data": {
      "text/plain": [
       "2188"
      ]
     },
     "execution_count": 38,
     "metadata": {},
     "output_type": "execute_result"
    }
   ],
   "source": [
    "# проверяем длину среза\n",
    "len(df.query('(750000 <= balance <= 1000000)| (1150000 <= balance <= 4000000)'))"
   ]
  },
  {
   "cell_type": "code",
   "execution_count": 39,
   "metadata": {},
   "outputs": [
    {
     "data": {
      "text/plain": [
       "36.29"
      ]
     },
     "execution_count": 39,
     "metadata": {},
     "output_type": "execute_result"
    }
   ],
   "source": [
    "# ищем процент по условию\n",
    "round(\n",
    "    len(df.query('((750000 <= balance <= 1000000)| (1150000 <= balance <= 4000000)) & (churn ==1)'))/\n",
    "    len(df.query('(750000 <= balance <= 1000000)| (1150000 <= balance <= 4000000)')) * 100,\n",
    "    2\n",
    ")"
   ]
  },
  {
   "cell_type": "markdown",
   "metadata": {},
   "source": [
    "Следующий признак - количество продуктов."
   ]
  },
  {
   "cell_type": "code",
   "execution_count": 40,
   "metadata": {},
   "outputs": [
    {
     "data": {
      "image/png": "[encoded data removed]",
      "text/plain": [
       "<Figure size 1080x576 with 1 Axes>"
      ]
     },
     "metadata": {
      "needs_background": "light"
     },
     "output_type": "display_data"
    }
   ],
   "source": [
    "# строим график\n",
    "plt.figure(figsize = (15,8))\n",
    "\n",
    "sns.histplot(data=df, hue='churn', x='products', stat='density', common_norm = False, palette = 'pastel')\n",
    "plt.title('Гистограмма плотности распределения клиентов по количеству продуктов в разрезе по отточности ')\n",
    "plt.ylabel('значение плотности')\n",
    "plt.xlabel('количество продуктов')\n",
    "plt.legend(['Ушедшие','Оставшиеся'])\n",
    "plt.show()"
   ]
  },
  {
   "cell_type": "markdown",
   "metadata": {},
   "source": [
    "Больше всего отточных клиентов с 2-мя и более продуктами банка.\n",
    "\n",
    "Найдем количество таких клиентов и процент ушедших."
   ]
  },
  {
   "cell_type": "code",
   "execution_count": 41,
   "metadata": {},
   "outputs": [
    {
     "data": {
      "text/plain": [
       "6649"
      ]
     },
     "execution_count": 41,
     "metadata": {},
     "output_type": "execute_result"
    }
   ],
   "source": [
    "# проверяем длину среза\n",
    "len(df.query('products >= 2'))"
   ]
  },
  {
   "cell_type": "code",
   "execution_count": 42,
   "metadata": {},
   "outputs": [
    {
     "data": {
      "text/plain": [
       "23.81"
      ]
     },
     "execution_count": 42,
     "metadata": {},
     "output_type": "execute_result"
    }
   ],
   "source": [
    "# ищем процент по условию\n",
    "round(\n",
    "    len(df.query('(products >= 2) & (churn ==1)'))/\n",
    "    len(df.query('products >= 2')) * 100,\n",
    "    2\n",
    ")"
   ]
  },
  {
   "cell_type": "markdown",
   "metadata": {},
   "source": [
    "Заключительным признаком по определению интервалов отточности клиентов будет их доход.\n",
    "\n",
    "В данных по доходу тоже присутствуют одиночные большие значения, мы их не будем учитывать при построении графика, чтоб он был читабельным. \n",
    "\n",
    "Посчитаем какой процент данных мы срезаем, чтобы быть уверенными, что он не критичен для нас."
   ]
  },
  {
   "cell_type": "code",
   "execution_count": 43,
   "metadata": {},
   "outputs": [
    {
     "data": {
      "text/plain": [
       "3.36"
      ]
     },
     "execution_count": 43,
     "metadata": {},
     "output_type": "execute_result"
    }
   ],
   "source": [
    "# ищем процент по условию\n",
    "round(len(df.query('salary > 400000'))/len(df['salary']) * 100, 2)"
   ]
  },
  {
   "cell_type": "markdown",
   "metadata": {},
   "source": [
    "Процент не катострофичен, поэтому строим график с учетом этого среза."
   ]
  },
  {
   "cell_type": "code",
   "execution_count": 44,
   "metadata": {},
   "outputs": [
    {
     "data": {
      "image/png": "[encoded data removed]",
      "text/plain": [
       "<Figure size 1080x576 with 1 Axes>"
      ]
     },
     "metadata": {
      "needs_background": "light"
     },
     "output_type": "display_data"
    }
   ],
   "source": [
    "# строим график\n",
    "plt.figure(figsize = (15,8))\n",
    "\n",
    "sns.histplot(\n",
    "    data=df.query('salary < 400000'),\n",
    "    hue='churn',\n",
    "    x='salary',\n",
    "    stat='density',\n",
    "    common_norm = False,\n",
    "    palette = 'pastel'    \n",
    ")\n",
    "plt.title('Гистограмма плотности распределения клиентов по доходу в разрезе по отточности ')\n",
    "plt.ylabel('значение плотности')\n",
    "plt.xlabel('доход')\n",
    "plt.legend(['Ушедшие','Оставшиеся'])\n",
    "plt.show()"
   ]
  },
  {
   "cell_type": "markdown",
   "metadata": {},
   "source": [
    "По графику видно, что наибольшее количество отточных клиентов находится в интервалах от 100000 до 135000 рублей и от 145000 до 215000 рублей.\n",
    "\n",
    "Посмотрим, какое количество клиентов попадает в эти интервалы и процент ушедших."
   ]
  },
  {
   "cell_type": "code",
   "execution_count": 45,
   "metadata": {},
   "outputs": [
    {
     "data": {
      "text/plain": [
       "4089"
      ]
     },
     "execution_count": 45,
     "metadata": {},
     "output_type": "execute_result"
    }
   ],
   "source": [
    "# проверяем длину среза\n",
    "len(df.query('(100000 <= salary <= 135000) | (145000 <= salary <= 215000)'))"
   ]
  },
  {
   "cell_type": "code",
   "execution_count": 46,
   "metadata": {},
   "outputs": [
    {
     "data": {
      "text/plain": [
       "20.89"
      ]
     },
     "execution_count": 46,
     "metadata": {},
     "output_type": "execute_result"
    }
   ],
   "source": [
    "# ищем процент по условию\n",
    "round(\n",
    "    len(df.query('((100000 <= salary <= 135000) | (145000 <= salary <= 215000)) & (churn ==1)'))/\n",
    "    len(df.query('(100000 <= salary <= 135000) | (145000 <= salary <= 215000)')) * 100,\n",
    "    2\n",
    ")"
   ]
  },
  {
   "cell_type": "markdown",
   "metadata": {},
   "source": [
    "В итоге мы получили  признаки с интервалами значений отточности клиентов. Сами по себе эти диапозоны массивны, поэтому мы будем их объединять между собой, чтобы выделить высокоотточные сегменты  клиентов (от 500 до 2000 клиентов в сегменте)."
   ]
  },
  {
   "cell_type": "markdown",
   "metadata": {},
   "source": [
    "#### Выделение сегментов высокоотточных клиентов"
   ]
  },
  {
   "cell_type": "markdown",
   "metadata": {},
   "source": [
    "Составим первый портрет: активный клиент с 2-мя и более продуктами, имеющий на балансе от 750 тыс. до 1 млн. рублей или от 1,150 до 4 млн. рублей) - и посмотрим на количество таких клиентов и процент оттока."
   ]
  },
  {
   "cell_type": "code",
   "execution_count": 47,
   "metadata": {},
   "outputs": [
    {
     "data": {
      "text/html": [
       "<div>\n",
       "<style scoped>\n",
       "    .dataframe tbody tr th:only-of-type {\n",
       "        vertical-align: middle;\n",
       "    }\n",
       "\n",
       "    .dataframe tbody tr th {\n",
       "        vertical-align: top;\n",
       "    }\n",
       "\n",
       "    .dataframe thead th {\n",
       "        text-align: right;\n",
       "    }\n",
       "</style>\n",
       "<table border=\"1\" class=\"dataframe\">\n",
       "  <thead>\n",
       "    <tr style=\"text-align: right;\">\n",
       "      <th></th>\n",
       "      <th>churn</th>\n",
       "    </tr>\n",
       "  </thead>\n",
       "  <tbody>\n",
       "    <tr>\n",
       "      <th>count</th>\n",
       "      <td>1018.000</td>\n",
       "    </tr>\n",
       "    <tr>\n",
       "      <th>sum</th>\n",
       "      <td>538.000</td>\n",
       "    </tr>\n",
       "    <tr>\n",
       "      <th>mean</th>\n",
       "      <td>0.528</td>\n",
       "    </tr>\n",
       "  </tbody>\n",
       "</table>\n",
       "</div>"
      ],
      "text/plain": [
       "          churn\n",
       "count  1018.000\n",
       "sum     538.000\n",
       "mean      0.528"
      ]
     },
     "execution_count": 47,
     "metadata": {},
     "output_type": "execute_result"
    }
   ],
   "source": [
    "# делаем срез по условиям\n",
    "segment_one = df.query(\n",
    "    '(products >= 2) & ((750000 <= balance <= 1000000)| (1150000 <= balance <= 4000000)) & (last_activity == 1)'\n",
    ")\n",
    "\n",
    "# считаем агрегации по оттоку\n",
    "round(segment_one.agg({'churn' : ['count', 'sum', 'mean']}), 3)"
   ]
  },
  {
   "cell_type": "markdown",
   "metadata": {},
   "source": [
    "Количество клиентов находится в заданном нами диапозоне от 500 до 2000 человек и сотсавляет 1018 людей. Процент оттока в данном случае составляет 52,8%, что почти в 3 раза превышает общий отток клиентов из банка."
   ]
  },
  {
   "cell_type": "markdown",
   "metadata": {},
   "source": [
    "Составим второй портрет: активный клиент без кредитной карты с зарплатой от 100 до 135 тысяч рублей или от 145 до 215 тысяч рублей - и посмотрим на количество таких клиентов и процент оттока."
   ]
  },
  {
   "cell_type": "code",
   "execution_count": 48,
   "metadata": {},
   "outputs": [
    {
     "data": {
      "text/html": [
       "<div>\n",
       "<style scoped>\n",
       "    .dataframe tbody tr th:only-of-type {\n",
       "        vertical-align: middle;\n",
       "    }\n",
       "\n",
       "    .dataframe tbody tr th {\n",
       "        vertical-align: top;\n",
       "    }\n",
       "\n",
       "    .dataframe thead th {\n",
       "        text-align: right;\n",
       "    }\n",
       "</style>\n",
       "<table border=\"1\" class=\"dataframe\">\n",
       "  <thead>\n",
       "    <tr style=\"text-align: right;\">\n",
       "      <th></th>\n",
       "      <th>churn</th>\n",
       "    </tr>\n",
       "  </thead>\n",
       "  <tbody>\n",
       "    <tr>\n",
       "      <th>count</th>\n",
       "      <td>718.000</td>\n",
       "    </tr>\n",
       "    <tr>\n",
       "      <th>sum</th>\n",
       "      <td>303.000</td>\n",
       "    </tr>\n",
       "    <tr>\n",
       "      <th>mean</th>\n",
       "      <td>0.422</td>\n",
       "    </tr>\n",
       "  </tbody>\n",
       "</table>\n",
       "</div>"
      ],
      "text/plain": [
       "         churn\n",
       "count  718.000\n",
       "sum    303.000\n",
       "mean     0.422"
      ]
     },
     "execution_count": 48,
     "metadata": {},
     "output_type": "execute_result"
    }
   ],
   "source": [
    "# делаем срез по условиям\n",
    "segment_two = df.query(\n",
    "    '((100000 <= salary <= 135000) | (145000 <= salary <= 215000))\\\n",
    "    & (credit_card == 0) & (last_activity == 1)'\n",
    ")\n",
    "\n",
    "# считаем агрегации по оттоку\n",
    "round(segment_two.agg({'churn' : ['count', 'sum', 'mean']}), 3)"
   ]
  },
  {
   "cell_type": "markdown",
   "metadata": {},
   "source": [
    "Количество таких клиентов составляет 718 человек, процент оттока  - 42,2%."
   ]
  },
  {
   "cell_type": "markdown",
   "metadata": {},
   "source": [
    "Составим 3 портрет: клиент, имеющий показатель количества баллов собственности больше или равно 4, со скоринговым баллом в диапозоне от 825 до 905 или от 920 до 940 и с зарплатой от от 100 до 135 тысяч рублей или от 145 до 215 тысяч рублей."
   ]
  },
  {
   "cell_type": "code",
   "execution_count": 49,
   "metadata": {},
   "outputs": [
    {
     "data": {
      "text/html": [
       "<div>\n",
       "<style scoped>\n",
       "    .dataframe tbody tr th:only-of-type {\n",
       "        vertical-align: middle;\n",
       "    }\n",
       "\n",
       "    .dataframe tbody tr th {\n",
       "        vertical-align: top;\n",
       "    }\n",
       "\n",
       "    .dataframe thead th {\n",
       "        text-align: right;\n",
       "    }\n",
       "</style>\n",
       "<table border=\"1\" class=\"dataframe\">\n",
       "  <thead>\n",
       "    <tr style=\"text-align: right;\">\n",
       "      <th></th>\n",
       "      <th>churn</th>\n",
       "    </tr>\n",
       "  </thead>\n",
       "  <tbody>\n",
       "    <tr>\n",
       "      <th>count</th>\n",
       "      <td>1036.000</td>\n",
       "    </tr>\n",
       "    <tr>\n",
       "      <th>sum</th>\n",
       "      <td>401.000</td>\n",
       "    </tr>\n",
       "    <tr>\n",
       "      <th>mean</th>\n",
       "      <td>0.387</td>\n",
       "    </tr>\n",
       "  </tbody>\n",
       "</table>\n",
       "</div>"
      ],
      "text/plain": [
       "          churn\n",
       "count  1036.000\n",
       "sum     401.000\n",
       "mean      0.387"
      ]
     },
     "execution_count": 49,
     "metadata": {},
     "output_type": "execute_result"
    }
   ],
   "source": [
    "# делаем срез по условиям\n",
    "segment_three = df.query(\n",
    "    '(equity >=4) & ((825 <= score <= 905) | (920<= score <= 940))\\\n",
    "    & ((100000 <= salary <= 135000) | (145000 <= salary <= 215000))'\n",
    ")\n",
    "\n",
    "# считаем агрегации по оттоку\n",
    "round(segment_three.agg({'churn' : ['count', 'sum', 'mean']}), 3)"
   ]
  },
  {
   "cell_type": "markdown",
   "metadata": {},
   "source": [
    "Количество клиентов по 3 портрету составляет 1036 человек. Процент оттока - 38,7%."
   ]
  },
  {
   "cell_type": "markdown",
   "metadata": {},
   "source": [
    "Составим 4 портрет: активный клиент в возрасте от 25 до 35 лет или от 50 до 60 лет с 2-мя и более продуктами."
   ]
  },
  {
   "cell_type": "code",
   "execution_count": 50,
   "metadata": {},
   "outputs": [
    {
     "data": {
      "text/html": [
       "<div>\n",
       "<style scoped>\n",
       "    .dataframe tbody tr th:only-of-type {\n",
       "        vertical-align: middle;\n",
       "    }\n",
       "\n",
       "    .dataframe tbody tr th {\n",
       "        vertical-align: top;\n",
       "    }\n",
       "\n",
       "    .dataframe thead th {\n",
       "        text-align: right;\n",
       "    }\n",
       "</style>\n",
       "<table border=\"1\" class=\"dataframe\">\n",
       "  <thead>\n",
       "    <tr style=\"text-align: right;\">\n",
       "      <th></th>\n",
       "      <th>churn</th>\n",
       "    </tr>\n",
       "  </thead>\n",
       "  <tbody>\n",
       "    <tr>\n",
       "      <th>count</th>\n",
       "      <td>1745.000</td>\n",
       "    </tr>\n",
       "    <tr>\n",
       "      <th>sum</th>\n",
       "      <td>731.000</td>\n",
       "    </tr>\n",
       "    <tr>\n",
       "      <th>mean</th>\n",
       "      <td>0.419</td>\n",
       "    </tr>\n",
       "  </tbody>\n",
       "</table>\n",
       "</div>"
      ],
      "text/plain": [
       "          churn\n",
       "count  1745.000\n",
       "sum     731.000\n",
       "mean      0.419"
      ]
     },
     "execution_count": 50,
     "metadata": {},
     "output_type": "execute_result"
    }
   ],
   "source": [
    "# делаем срез по условиям\n",
    "segment_four = df.query(\n",
    "    '(products >= 2) & ((50 <= age <= 60) | (25<=age<=35)) & (last_activity == 1) '\n",
    ")\n",
    "\n",
    "# считаем агрегации по оттоку\n",
    "round(segment_four.agg({'churn' : ['count', 'sum', 'mean']}), 3)"
   ]
  },
  {
   "cell_type": "markdown",
   "metadata": {},
   "source": [
    "Количество клиентов по такому портрету составляет 1745 человек. Процент оттока 41,9%."
   ]
  },
  {
   "cell_type": "markdown",
   "metadata": {},
   "source": [
    "Составим пяты портрет: активный клиент со скоринговым баллом в диапозоне от 825 до 905 или от 920 до 940 и с зарплатой от от 100 до 135 тысяч рублей или от 145 до 215 тысяч рублей."
   ]
  },
  {
   "cell_type": "code",
   "execution_count": 51,
   "metadata": {},
   "outputs": [
    {
     "data": {
      "text/html": [
       "<div>\n",
       "<style scoped>\n",
       "    .dataframe tbody tr th:only-of-type {\n",
       "        vertical-align: middle;\n",
       "    }\n",
       "\n",
       "    .dataframe tbody tr th {\n",
       "        vertical-align: top;\n",
       "    }\n",
       "\n",
       "    .dataframe thead th {\n",
       "        text-align: right;\n",
       "    }\n",
       "</style>\n",
       "<table border=\"1\" class=\"dataframe\">\n",
       "  <thead>\n",
       "    <tr style=\"text-align: right;\">\n",
       "      <th></th>\n",
       "      <th>churn</th>\n",
       "    </tr>\n",
       "  </thead>\n",
       "  <tbody>\n",
       "    <tr>\n",
       "      <th>count</th>\n",
       "      <td>1098.000</td>\n",
       "    </tr>\n",
       "    <tr>\n",
       "      <th>sum</th>\n",
       "      <td>456.000</td>\n",
       "    </tr>\n",
       "    <tr>\n",
       "      <th>mean</th>\n",
       "      <td>0.415</td>\n",
       "    </tr>\n",
       "  </tbody>\n",
       "</table>\n",
       "</div>"
      ],
      "text/plain": [
       "          churn\n",
       "count  1098.000\n",
       "sum     456.000\n",
       "mean      0.415"
      ]
     },
     "execution_count": 51,
     "metadata": {},
     "output_type": "execute_result"
    }
   ],
   "source": [
    "# делаем срез по условиям\n",
    "segment_five = df.query(\n",
    "    '((825 <= score <= 905) | (920 <= score <= 940))\\\n",
    "    & ((100000 <= salary <= 135000) | (145000 <= salary <= 215000))\\\n",
    "    & (last_activity == 1)'\n",
    ")\n",
    "\n",
    "# считаем агрегации по оттоку\n",
    "round(segment_five.agg({'churn' : ['count', 'sum', 'mean']}), 3)"
   ]
  },
  {
   "cell_type": "markdown",
   "metadata": {},
   "source": [
    "Получили 1098 клиентов по данному условию. Процент оттока 41,5%."
   ]
  },
  {
   "cell_type": "markdown",
   "metadata": {},
   "source": [
    "Наибольший отток клиентов у нас наблюдается в первом портрете (52,8%), далее идет второй портрет с показателем оттока в 42,2%, на 3 месте расположился четвертый портрет клиента - доля отточных клиентов 41,9%."
   ]
  },
  {
   "cell_type": "markdown",
   "metadata": {},
   "source": [
    "Дадим рекомендации для отдела маркетинга по этим 3-м сегментам."
   ]
  },
  {
   "cell_type": "markdown",
   "metadata": {},
   "source": [
    "**Первый сегмент** (количество клиентов - 1018, процент оттока 52,8%):\n",
    "\n",
    "Портрет пользователя:\n",
    "\n",
    "* активный клиент;\n",
    "\n",
    "* имеет 2 и более продукта банка;\n",
    "\n",
    "* на балансе от 750 тыс. до 1 млн. рублей или от 1,150 до 4 млн. рублей.\n",
    "\n",
    "Рекомендации:\n",
    "\n",
    "* улучшить условия по вкладам и накопительным счетам;\n",
    "\n",
    "* убрать обслуживание имеющихся у клиента карт;\n",
    "\n",
    "* предложить выгодные условия по страхованию имущества клиента, если оно есть."
   ]
  },
  {
   "cell_type": "markdown",
   "metadata": {},
   "source": [
    "**Второй сегмент** (количество клиентов - 718, процент оттока 42,2%):\n",
    "\n",
    "Портрет пользователя:\n",
    "\n",
    "* активный клиент;\n",
    "\n",
    "* нет кредитной карты;\n",
    "\n",
    "* зарплата от 100 до 135 тысяч рублей или от 145 до 215 тысяч рублей;\n",
    "\n",
    "\n",
    "Рекомендации:\n",
    "\n",
    "* предложить клиенту кредитную карту с выгодным лимитом, без обслуживания, со льготным периодом погашения;\n",
    "\n",
    "* сделать программу кэшбэка или бонусов;\n"
   ]
  },
  {
   "cell_type": "markdown",
   "metadata": {},
   "source": [
    "**Третий сегмент** (количество клиентов - 1745, процент оттока 41,9%):\n",
    "\n",
    "Портрет пользователя:\n",
    "\n",
    "* активный клиент;\n",
    "\n",
    "* возраст от 25 до 35 лет или от 50 до 60 лет;\n",
    "\n",
    "* имеет 2 и более продуктов банка.\n",
    "\n",
    "Рекомендации:\n",
    "\n",
    "* улучшить приложение банка, сделать его более интуитивно понятным для людей среднего возраста;\n",
    "\n",
    "* предложить стать зарплатным клиентом на выгодных условиях;\n",
    "\n",
    "* работать над своими продуктами, сообщать о внедрении новых."
   ]
  },
  {
   "cell_type": "markdown",
   "metadata": {},
   "source": [
    "#### Вывод:\n",
    "\n",
    "На этапе исследовательского анализа провели корреляцию признаков клиента между собой, по шкале Чеддока:\n",
    "\n",
    "Высокой зависимости между признаками не наблюдается.\n",
    "\n",
    "Отметим, что есть заметная зависимость между products и equity (0,58), между score и equity (0,53). \n",
    "    \n",
    "Умеренная связь есть между products и score (0,42), между salary  и score (0,4) между salary и balance (0,37), между salary и age (0,36).    \n",
    "\n",
    "По корреляции признаков от оттока, имеется умеренная связь от количества баллов собсвенности (35%), остальные признаки имеют слабую зависимость.\n",
    "\n",
    "Далее посмотрели на отток клиентов: итого 18% ушедших  и 2 млрд.рублей отток средств этих клиентов ( практически треть всех средств клиентов до ухода), что очень критично для банка.\n",
    "\n",
    "**После этого составили типичные портреты клиентов в разрезе оттока:**\n",
    "\n",
    "* оставшийся клиент - это зачастую неактивный клиент женского пола в возрасте 43 лет (в среднем) с 2-мя продуктами от банка, есть кредитная карта, медианный доход 118 тыс. рублей и имеет на балансе 475 тысяч рублей (медианное значение), средний скоринговый бал 845, среднее значение балов собственности 2,3;\n",
    "\n",
    "\n",
    "* ушедший клиент - это активный клиент мужского пола в возрасте 41 года (в среднем) с 2-мя продуктами от банка, есть кредитная карта, медианный доход 125 тысяч рублей и имеет на балансе 783 тысячи рублей (медианное значение), средний скоринговый бал 863, среднее значение балов собственности 3,76.\n",
    "\n",
    "Также проанализировали, что больше всего отточных клиентов из Ярославля (1117 клиентов или 19,02%), далее идут Ростов (18,71% или 265 человек) и Рыбинск (436 клиентов или 16,26%).\n",
    "\n",
    "**Далее приступили к поискам интервалов высокотточных клиентов:**\n",
    "\n",
    "* отточных клиентов по скоринговому баллу больше в интервале от 825 до 905 баллов и от 920 до 940 баллов. Количество клиентов всего - 4967, процент оттока - 23,96%;\n",
    "\n",
    "\n",
    "* наибольшее количество высокотточных клиентов по возрасту находится в интервале от 25 до 35 лет и от 50 до 60 лет. Количество клиентов всего - 4821, процент оттока - 23,5%;\n",
    "\n",
    "\n",
    "* отточных клиентов больше со значением балла собсвенности больше 3-х. Количество клиентов всего - 4033, процент оттока - 28,47%;\n",
    "\n",
    "\n",
    "* больше плотность отточных клиентов с балансом в интервале от 750000 до 1000000 млн.рублей и от 1150000 до 4000000 млн. рублей. Количество клиентов всего - 2188, процент оттока - 36,29%;\n",
    "\n",
    "\n",
    "* больше всего отточных клиентов с 2-мя и более продуктами банка. Количество клиентов всего - 6649, процент оттока - 23,81%;\n",
    "\n",
    "\n",
    "* наибольшее количество отточных клиентов имеет зарплату в интервалах от 100000 до 135000 рублей и от 145000 до 215000 рублей. Количество клиентов всего - 4089, процент оттока - 20,89%.\n",
    "\n",
    "\n",
    "Объединяя признаки между собой, удалось выделить 3 высокотточных сегмента и дать по ним рекомендации для отдела маркетинга.\n",
    "\n",
    "**Первый сегмент** (количество клиентов - 1018, процент оттока 52,8%):\n",
    "\n",
    "Портрет пользователя:\n",
    "\n",
    "* активный клиент:\n",
    "\n",
    "* имеет 2 и более продукта банка;\n",
    "\n",
    "* на балансе от 750 тыс. до 1 млн. рублей или от 1,150 до 4 млн. рублей.\n",
    "\n",
    "**Рекомендации:**\n",
    "\n",
    "* улучшить условия по вкладам и накопительным счетам;\n",
    "\n",
    "* убрать обслуживание имеющихся у клиента карт;\n",
    "\n",
    "* предложить выгодные условия по страхованию имущества клиента, если оно есть.\n",
    "\n",
    "**Второй сегмент** (количество клиентов - 718, процент оттока 42,2%):\n",
    "\n",
    "Портрет пользователя:\n",
    "\n",
    "* активный клиент;\n",
    "\n",
    "* нет кредитной карты;\n",
    "\n",
    "* зарплата от 100 до 135 тысяч рублей или от 145 до 215 тысяч рублей;\n",
    "\n",
    "**Рекомендации:**\n",
    "\n",
    "* предложить клиенту кредитную карту с выгодным лимитом, без обслуживания, со льготным периодом погашения;\n",
    "\n",
    "* сделать программу кэшбэка или бонусов;\n",
    "\n",
    "**Третий сегмент** (количество клиентов - 1745, процент оттока 41,9%):\n",
    "\n",
    "Портрет пользователя:\n",
    "\n",
    "* активный клиент;\n",
    "\n",
    "* возраст от 25 до 35 лет или от 50 до 60 лет;\n",
    "\n",
    "* имеет 2 и более продуктов банка.\n",
    "\n",
    "**Рекомендации:**\n",
    "\n",
    "* улучшить приложение банка, сделать его более интуитивнопонятным для людей среднего возраста;\n",
    "\n",
    "* предложить стать зарплатным клиентом на выгодных условиях;\n",
    "\n",
    "* работать над своими продуктами, сообщать о внедрении новых."
   ]
  },
  {
   "cell_type": "markdown",
   "metadata": {},
   "source": [
    "### Формулировка и проверка гипотез"
   ]
  },
  {
   "cell_type": "markdown",
   "metadata": {},
   "source": [
    "На данном шаге выдвинем и проверим несколько гипотез."
   ]
  },
  {
   "cell_type": "markdown",
   "metadata": {},
   "source": [
    "**Гипотеза №1**. Различие доходов оставшихся и отточных клиентов.\n",
    "\n",
    "Сформулируем нулевую и альтернативную гипотезы:\n",
    "\n",
    "* H0: доходы оставшихся и отточных клиентов равны;\n",
    "\n",
    "\n",
    "* H1: доходы оставшихся и отточных клиентов не равны.\n",
    "\n",
    "Для проверки гипотезы проведем t-test:"
   ]
  },
  {
   "cell_type": "code",
   "execution_count": 52,
   "metadata": {},
   "outputs": [
    {
     "name": "stdout",
     "output_type": "stream",
     "text": [
      "p-значение:  0.8375793339223048\n",
      "Не получилось отвергнуть нулевую гипотезу\n"
     ]
    }
   ],
   "source": [
    "# делаем тест, проверяем гипотезу\n",
    "alpha = 0.05\n",
    "\n",
    "results = st.ttest_ind(df[df['churn']==0]['salary'], \n",
    "                       df[df['churn']==1]['salary'],\n",
    "                       equal_var=False)\n",
    "\n",
    "print('p-значение: ', results.pvalue)  \n",
    "\n",
    "if results.pvalue < alpha:\n",
    "    print(\"Отвергаем нулевую гипотезу\")\n",
    "\n",
    "else:\n",
    "    print(\"Не получилось отвергнуть нулевую гипотезу\")"
   ]
  },
  {
   "cell_type": "markdown",
   "metadata": {},
   "source": [
    "Cчитаем, что доходы оставшихся и отточных клиентов не имеют разницы."
   ]
  },
  {
   "cell_type": "markdown",
   "metadata": {},
   "source": [
    "**Гипотеза №2**. Различие скорингового балл оставшихся и отточных клиентов.\n",
    "\n",
    "Сформулируем нулевую и альтернативную гипотезы:\n",
    "\n",
    "* H0: скоринговый балл оставшихся и отточных клиентов равны;\n",
    "\n",
    "\n",
    "* H1: скоринговый балл оставшихся и отточных клиентов не равны.\n",
    "\n",
    "Для проверки гипотезы проведем t-test:"
   ]
  },
  {
   "cell_type": "code",
   "execution_count": 53,
   "metadata": {},
   "outputs": [
    {
     "name": "stdout",
     "output_type": "stream",
     "text": [
      "p-значение:  1.2276759181238623e-37\n",
      "Отвергаем нулевую гипотезу\n"
     ]
    }
   ],
   "source": [
    "# делаем тест, проверяем гипотезу\n",
    "alpha = 0.05\n",
    "\n",
    "results = st.ttest_ind(df[df['churn']==0]['score'], \n",
    "                       df[df['churn']==1]['score'],\n",
    "                       equal_var=False)\n",
    "\n",
    "print('p-значение: ', results.pvalue)  \n",
    "\n",
    "if results.pvalue < alpha:\n",
    "    print(\"Отвергаем нулевую гипотезу\")\n",
    "\n",
    "else:\n",
    "    print(\"Не получилось отвергнуть нулевую гипотезу\")"
   ]
  },
  {
   "cell_type": "markdown",
   "metadata": {},
   "source": [
    "Следовательно различия в баллах кредитного скоринга между ушедшими и оставшимеся клиентами есть."
   ]
  },
  {
   "cell_type": "markdown",
   "metadata": {},
   "source": [
    "#### Вывод:\n",
    "\n",
    "Выдвинули и проверили несколько гипотез:\n",
    "\n",
    "**Гипотеза №1.** Различие доходов оставшихся и отточных клиентов. \n",
    "\n",
    "* H0: доходы оставшихся и отточных клиентов равны;\n",
    "\n",
    "\n",
    "* H1: доходы оставшихся и отточных клиентов не равны.\n",
    "\n",
    "\n",
    "Не получилось отвергнуть нулевую гипотезу. Cчитаем, что доходы оставшихся и отточных клиентов не имеют разницы.\n",
    "\n",
    "\n",
    "\n",
    "**Гипотеза №2.** Различие скорингового балл оставшихся и отточных клиентов.\n",
    "\n",
    "* H0: скоринговый балл оставшихся и отточных клиентов равны;\n",
    "\n",
    "\n",
    "* H1: скоринговый балл оставшихся и отточных клиентов не равны.\n",
    "\n",
    "\n",
    "Отвергаем нулевую гипотезу. Следовательно различия в баллах кредитного скоринга между ушедшими и оставшимеся клиентами есть."
   ]
  },
  {
   "cell_type": "markdown",
   "metadata": {},
   "source": [
    "### Презентация"
   ]
  },
  {
   "cell_type": "markdown",
   "metadata": {},
   "source": [
    "Ссылка на презентацию: https://disk.yandex.ru/d/2VWpf2trWiDUEQ"
   ]
  },
  {
   "cell_type": "markdown",
   "metadata": {},
   "source": [
    "### Общий вывод:"
   ]
  },
  {
   "cell_type": "markdown",
   "metadata": {},
   "source": [
    "К нам обратился отдел маркетинга \"Метанпромбанка\" за помощью с целью выявления высокоотточных сегментов клиентов банка.\n",
    "\n",
    "**На первоначальном этапе** мы загрузили информацию о клиентах \"Метанпромбанка\". Данные содержат 10000 строк и 12 столбцов.\n",
    "\n",
    "**Далее провели предобработку данных, а именно:**\n",
    "\n",
    "* привели названия столбцов к единому стилю;\n",
    "\n",
    "\n",
    "* посчитали количество пропусков: данные с пропусками в столбце возраст удалили, так как их всего 0,3% от общего количества и они не повлияют на наше исследование. Пропуски в столбце баланс (2295 или почти 23%) оставили как есть, так как их удаление критично для нашего анализа;\n",
    "\n",
    "\n",
    "* нашли 2 неявных дубликата, удалили данные строки из нашей таблицы;\n",
    "\n",
    "\n",
    "* выявили одного \"клиента\", у которого не было продуктов банка. Его данные удалили, так как он не может быть клиентом без единого продукта\n",
    "\n",
    "**Потом приступили к исследовательскому анализу данных.** \n",
    "\n",
    "На данном этапе провели корреляцию признаков клиента между собой: наибольшая корреляция проявляется между количеством продуктов банка и количеством баллов собственности (0,43), также есть небольшая зависимость между зарплатой и балансом (0,34), оттоком и количеством продуктов (0,3).\n",
    "\n",
    "По корреляции признаков от оттока имеется слабая зависимость (по шкале Чеддока) от количества продуктов (0,3), количества баллов собственности (0,27), активности (0,17) и скорингового балла (11).\n",
    "\n",
    "Далее посмотрели на отток клиентов: итого 18% ушедших  и 2 млрд.рублей отток средств этих клиентов ( практически треть всех средств клиентов до ухода), что очень критично для банка.\n",
    "\n",
    "**После этого составили типичные портреты клиентов в разрезе оттока:**\n",
    "\n",
    "* оставшийся клиент - это зачастую неактивный клиент женского пола в возрасте 43 лет (в среднем) с 2-мя продуктами от банка, есть кредитная карта, медианный доход 118 тыс. рублей и имеет на балансе 475 тысяч рублей (медианное значение), средний скоринговый бал 845, среднее значение балов собственности 2,3;\n",
    "\n",
    "\n",
    "* ушедший клиент - это активный клиент мужского пола в возрасте 41 года (в среднем) с 2-мя продуктами от банка, есть кредитная карта, медианный доход 125 тысяч рублей и имеет на балансе 783 тысячи рублей (медианное значение), средний скоринговый бал 863, среднее значение балов собственности 3,76.\n",
    "\n",
    "Также проанализировали, что больше всего отточных клиентов из Ярославля (1117 клиентов или 19,02%), далее идут Ростов (18,71% или 265 человек) и Рыбинск (436 клиентов или 16,26%).\n",
    "\n",
    "**Далее приступили к поискам интервалов высокотточных клиентов:**\n",
    "\n",
    "* отточных клиентов по скоринговому баллу больше в интервале от 825 до 905 баллов и от 920 до 940 баллов. Количество клиентов всего - 4967, процент оттока - 23,96%;\n",
    "\n",
    "\n",
    "* наибольшее количество высокотточных клиентов по возрасту находится в интервале от 25 до 35 лет и от 50 до 60 лет. Количество клиентов всего - 4821, процент оттока - 23,5;\n",
    "\n",
    "\n",
    "* отточных клиентов больше со значением балла собсвенности больше 3-х. Количество клиентов всего - 4033, процент оттока - 28,47;\n",
    "\n",
    "\n",
    "* больше плотность отточных клиентов с балансом в интервале от 750000 до 1000000 млн.рублей и от 1150000 до 4000000 млн. рублей. Количество клиентов всего - 2188, процент оттока - 36,29;\n",
    "\n",
    "\n",
    "* больше всего отточных клиентов с 2-мя и более продуктами банка. Количество клиентов всего - 6649, процент оттока - 23,81%;\n",
    "\n",
    "\n",
    "* наибольшее количество отточных клиентов имеет зарплату в интервалах от 100000 до 135000 рублей и от 145000 до 215000 рублей. Количество клиентов всего - 4089, процент оттока - 20,89%.\n",
    "\n",
    "\n",
    "Объединяя признаки между собой, удалось выделить 3 высокотточных сегмента и дать по ним рекомендации для отдела маркетинга.\n",
    "\n",
    "**Первый сегмент** (количество клиентов - 1018, процент оттока 52,8%):\n",
    "\n",
    "Портрет пользователя:\n",
    "\n",
    "* активный клиент:\n",
    "\n",
    "* имеет 2 и более продукта банка;\n",
    "\n",
    "* на балансе от 750 тыс. до 1 млн. рублей или от 1,150 до 4 млн. рублей.\n",
    "\n",
    "**Рекомендации:**\n",
    "\n",
    "* улучшить условия по вкладам и накопительным счетам;\n",
    "\n",
    "* убрать обслуживание имеющихся у клиента карт;\n",
    "\n",
    "* предложить выгодные условия по страхованию имущества клиента, если оно есть.\n",
    "\n",
    "**Второй сегмент** (количество клиентов - 718, процент оттока 42,2%):\n",
    "\n",
    "Портрет пользователя:\n",
    "\n",
    "* активный клиент;\n",
    "\n",
    "* нет кредитной карты;\n",
    "\n",
    "* зарплата от 100 до 135 тысяч рублей или от 145 до 215 тысяч рублей;\n",
    "\n",
    "**Рекомендации:**\n",
    "\n",
    "* предложить клиенту кредитную карту с выгодным лимитом, без обслуживания, со льготным периодом погашения;\n",
    "\n",
    "* сделать программу кэшбэка или бонусов;\n",
    "\n",
    "**Третий сегмент** (количество клиентов - 1745, процент оттока 41,9%):\n",
    "\n",
    "Портрет пользователя:\n",
    "\n",
    "* активный клиент;\n",
    "\n",
    "* возраст от 25 до 35 лет или от 50 до 60 лет;\n",
    "\n",
    "* имеет 2 и более продуктов банка.\n",
    "\n",
    "**Рекомендации:**\n",
    "\n",
    "* улучшить приложение банка, сделать его более интуитивнопонятным для людей среднего возраста;\n",
    "\n",
    "* предложить стать зарплатным клиентом на выгодных условиях;\n",
    "\n",
    "* работать над своими продуктами, сообщать о внедрении новых.\n",
    "\n",
    "\n",
    "\n",
    "**На заключительном шаге выдвинули и проверили несколько гипотез:**\n",
    "\n",
    "**Гипотеза №1.** Различие доходов оставшихся и отточных клиентов. \n",
    "\n",
    "* H0: доходы оставшихся и отточных клиентов равны;\n",
    "\n",
    "\n",
    "* H1: доходы оставшихся и отточных клиентов не равны.\n",
    "\n",
    "\n",
    "Не получилось отвергнуть нулевую гипотезу. Cчитаем, что доходы оставшихся и отточных клиентов не имеют разницы.\n",
    "\n",
    "\n",
    "\n",
    "**Гипотеза №2.** Различие скорингового балл оставшихся и отточных клиентов.\n",
    "\n",
    "* H0: скоринговый балл оставшихся и отточных клиентов равны;\n",
    "\n",
    "\n",
    "* H1: скоринговый балл оставшихся и отточных клиентов не равны.\n",
    "\n",
    "\n",
    "Отвергаем нулевую гипотезу. Следовательно различия в баллах кредитного скоринга между ушедшими и оставшимеся клиентами есть.\n",
    "\n",
    "\n",
    "**Для отдела маркетинга сделали призентацию по нашему анализу.**\n",
    "\n",
    "Ссылка на презентацию: https://disk.yandex.ru/d/2VWpf2trWiDUEQ"
   ]
  },
  {
   "cell_type": "code",
   "execution_count": null,
   "metadata": {},
   "outputs": [],
   "source": []
  }
 ],
 "metadata": {
  "ExecuteTimeLog": [
   {
    "duration": 1366,
    "start_time": "2024-08-26T11:05:28.278Z"
   },
   {
    "duration": 69,
    "start_time": "2024-08-26T11:07:20.703Z"
   },
   {
    "duration": 147,
    "start_time": "2024-08-26T11:07:29.479Z"
   },
   {
    "duration": 72,
    "start_time": "2024-08-26T11:07:38.217Z"
   },
   {
    "duration": 87,
    "start_time": "2024-08-26T11:08:25.535Z"
   },
   {
    "duration": 42,
    "start_time": "2024-08-26T11:08:50.164Z"
   },
   {
    "duration": 41,
    "start_time": "2024-08-26T11:08:57.613Z"
   },
   {
    "duration": 118,
    "start_time": "2024-08-26T11:09:16.494Z"
   },
   {
    "duration": 23,
    "start_time": "2024-08-26T11:09:19.003Z"
   },
   {
    "duration": 110,
    "start_time": "2024-08-26T11:10:07.448Z"
   },
   {
    "duration": 15,
    "start_time": "2024-08-26T11:10:47.523Z"
   },
   {
    "duration": 13,
    "start_time": "2024-08-26T11:10:57.145Z"
   },
   {
    "duration": 29,
    "start_time": "2024-08-26T11:11:15.236Z"
   },
   {
    "duration": 4,
    "start_time": "2024-08-26T11:22:06.274Z"
   },
   {
    "duration": 19,
    "start_time": "2024-08-26T11:22:08.614Z"
   },
   {
    "duration": 14,
    "start_time": "2024-08-26T11:22:27.243Z"
   },
   {
    "duration": 8,
    "start_time": "2024-08-26T11:23:35.510Z"
   },
   {
    "duration": 14,
    "start_time": "2024-08-26T11:24:03.041Z"
   },
   {
    "duration": 147,
    "start_time": "2024-08-26T11:24:15.769Z"
   },
   {
    "duration": 139,
    "start_time": "2024-08-26T11:24:26.487Z"
   },
   {
    "duration": 139,
    "start_time": "2024-08-26T11:24:35.357Z"
   },
   {
    "duration": 140,
    "start_time": "2024-08-26T11:24:47.463Z"
   },
   {
    "duration": 157,
    "start_time": "2024-08-26T11:25:04.541Z"
   },
   {
    "duration": 160,
    "start_time": "2024-08-26T11:25:19.306Z"
   },
   {
    "duration": 179,
    "start_time": "2024-08-26T11:25:38.066Z"
   },
   {
    "duration": 146,
    "start_time": "2024-08-26T11:26:29.000Z"
   },
   {
    "duration": 8,
    "start_time": "2024-08-26T11:28:19.958Z"
   },
   {
    "duration": 14,
    "start_time": "2024-08-26T11:33:29.705Z"
   },
   {
    "duration": 8,
    "start_time": "2024-08-26T11:33:45.077Z"
   },
   {
    "duration": 12,
    "start_time": "2024-08-26T11:34:40.379Z"
   },
   {
    "duration": 11,
    "start_time": "2024-08-26T11:34:44.078Z"
   },
   {
    "duration": 8,
    "start_time": "2024-08-26T11:36:00.122Z"
   },
   {
    "duration": 7,
    "start_time": "2024-08-26T11:36:05.188Z"
   },
   {
    "duration": 9,
    "start_time": "2024-08-26T11:37:37.115Z"
   },
   {
    "duration": 36,
    "start_time": "2024-08-26T11:39:21.066Z"
   },
   {
    "duration": 39,
    "start_time": "2024-08-26T11:39:28.763Z"
   },
   {
    "duration": 13,
    "start_time": "2024-08-26T11:45:50.314Z"
   },
   {
    "duration": 5,
    "start_time": "2024-08-26T11:47:32.263Z"
   },
   {
    "duration": 51,
    "start_time": "2024-08-26T11:49:49.221Z"
   },
   {
    "duration": 1146,
    "start_time": "2024-08-26T11:50:06.083Z"
   },
   {
    "duration": 200,
    "start_time": "2024-08-26T11:50:07.231Z"
   },
   {
    "duration": 42,
    "start_time": "2024-08-26T11:50:07.432Z"
   },
   {
    "duration": 16,
    "start_time": "2024-08-26T11:50:07.477Z"
   },
   {
    "duration": 24,
    "start_time": "2024-08-26T11:50:07.495Z"
   },
   {
    "duration": 20,
    "start_time": "2024-08-26T11:50:07.521Z"
   },
   {
    "duration": 17,
    "start_time": "2024-08-26T11:50:07.543Z"
   },
   {
    "duration": 11,
    "start_time": "2024-08-26T11:50:07.561Z"
   },
   {
    "duration": 20,
    "start_time": "2024-08-26T11:50:07.573Z"
   },
   {
    "duration": 45,
    "start_time": "2024-08-26T11:50:07.596Z"
   },
   {
    "duration": 11,
    "start_time": "2024-08-26T11:50:07.642Z"
   },
   {
    "duration": 78,
    "start_time": "2024-08-26T11:50:07.655Z"
   },
   {
    "duration": 16,
    "start_time": "2024-08-26T12:04:17.948Z"
   },
   {
    "duration": 15,
    "start_time": "2024-08-26T12:05:10.178Z"
   },
   {
    "duration": 22,
    "start_time": "2024-08-26T12:05:42.960Z"
   },
   {
    "duration": 13,
    "start_time": "2024-08-26T12:06:26.308Z"
   },
   {
    "duration": 17,
    "start_time": "2024-08-26T12:07:59.107Z"
   },
   {
    "duration": 15,
    "start_time": "2024-08-26T12:08:15.006Z"
   },
   {
    "duration": 15,
    "start_time": "2024-08-26T12:08:41.394Z"
   },
   {
    "duration": 16,
    "start_time": "2024-08-26T12:08:55.347Z"
   },
   {
    "duration": 12,
    "start_time": "2024-08-26T12:09:01.175Z"
   },
   {
    "duration": 17,
    "start_time": "2024-08-26T12:09:13.447Z"
   },
   {
    "duration": 17,
    "start_time": "2024-08-26T12:09:52.813Z"
   },
   {
    "duration": 71,
    "start_time": "2024-08-26T12:10:44.092Z"
   },
   {
    "duration": 28,
    "start_time": "2024-08-26T12:10:49.603Z"
   },
   {
    "duration": 39,
    "start_time": "2024-08-26T12:12:45.218Z"
   },
   {
    "duration": 24,
    "start_time": "2024-08-26T12:12:49.486Z"
   },
   {
    "duration": 6,
    "start_time": "2024-08-26T12:15:13.628Z"
   },
   {
    "duration": 255,
    "start_time": "2024-08-26T12:16:24.952Z"
   },
   {
    "duration": 155,
    "start_time": "2024-08-26T12:16:47.989Z"
   },
   {
    "duration": 152,
    "start_time": "2024-08-26T12:17:28.936Z"
   },
   {
    "duration": 83,
    "start_time": "2024-08-26T12:17:56.353Z"
   },
   {
    "duration": 89,
    "start_time": "2024-08-26T12:18:11.549Z"
   },
   {
    "duration": 89,
    "start_time": "2024-08-26T12:18:46.193Z"
   },
   {
    "duration": 95,
    "start_time": "2024-08-26T12:19:45.895Z"
   },
   {
    "duration": 100,
    "start_time": "2024-08-26T12:19:57.640Z"
   },
   {
    "duration": 119,
    "start_time": "2024-08-26T12:20:37.178Z"
   },
   {
    "duration": 102,
    "start_time": "2024-08-26T12:20:59.290Z"
   },
   {
    "duration": 73,
    "start_time": "2024-08-26T12:21:17.402Z"
   },
   {
    "duration": 76,
    "start_time": "2024-08-26T12:21:25.460Z"
   },
   {
    "duration": 66,
    "start_time": "2024-08-26T12:21:33.731Z"
   },
   {
    "duration": 171,
    "start_time": "2024-08-26T12:21:38.753Z"
   },
   {
    "duration": 22,
    "start_time": "2024-08-26T12:23:17.599Z"
   },
   {
    "duration": 96,
    "start_time": "2024-08-26T12:23:46.194Z"
   },
   {
    "duration": 94,
    "start_time": "2024-08-26T12:23:56.056Z"
   },
   {
    "duration": 99,
    "start_time": "2024-08-26T12:38:15.428Z"
   },
   {
    "duration": 58,
    "start_time": "2024-08-26T12:38:48.062Z"
   },
   {
    "duration": 56,
    "start_time": "2024-08-26T12:38:58.182Z"
   },
   {
    "duration": 57,
    "start_time": "2024-08-26T12:39:39.330Z"
   },
   {
    "duration": 56,
    "start_time": "2024-08-26T12:39:51.775Z"
   },
   {
    "duration": 13,
    "start_time": "2024-08-26T12:40:05.174Z"
   },
   {
    "duration": 56,
    "start_time": "2024-08-26T12:40:23.040Z"
   },
   {
    "duration": 165,
    "start_time": "2024-08-26T12:40:54.493Z"
   },
   {
    "duration": 155,
    "start_time": "2024-08-26T12:41:21.803Z"
   },
   {
    "duration": 153,
    "start_time": "2024-08-26T12:42:18.566Z"
   },
   {
    "duration": 179,
    "start_time": "2024-08-26T12:43:59.363Z"
   },
   {
    "duration": 135,
    "start_time": "2024-08-26T12:44:32.126Z"
   },
   {
    "duration": 156,
    "start_time": "2024-08-26T12:45:25.648Z"
   },
   {
    "duration": 161,
    "start_time": "2024-08-26T12:47:26.280Z"
   },
   {
    "duration": 161,
    "start_time": "2024-08-26T12:47:42.043Z"
   },
   {
    "duration": 120,
    "start_time": "2024-08-26T12:47:58.967Z"
   },
   {
    "duration": 223,
    "start_time": "2024-08-26T12:48:20.695Z"
   },
   {
    "duration": 189,
    "start_time": "2024-08-26T12:48:27.967Z"
   },
   {
    "duration": 7,
    "start_time": "2024-08-26T12:48:46.820Z"
   },
   {
    "duration": 6,
    "start_time": "2024-08-26T12:48:53.958Z"
   },
   {
    "duration": 203,
    "start_time": "2024-08-26T12:49:32.262Z"
   },
   {
    "duration": 182,
    "start_time": "2024-08-26T12:49:53.425Z"
   },
   {
    "duration": 183,
    "start_time": "2024-08-26T12:50:01.881Z"
   },
   {
    "duration": 202,
    "start_time": "2024-08-26T12:52:17.454Z"
   },
   {
    "duration": 250,
    "start_time": "2024-08-26T12:52:40.460Z"
   },
   {
    "duration": 8,
    "start_time": "2024-08-26T12:52:46.313Z"
   },
   {
    "duration": 8,
    "start_time": "2024-08-26T12:52:54.849Z"
   },
   {
    "duration": 173,
    "start_time": "2024-08-26T12:53:12.884Z"
   },
   {
    "duration": 38,
    "start_time": "2024-08-26T12:55:49.337Z"
   },
   {
    "duration": 35,
    "start_time": "2024-08-26T12:55:55.750Z"
   },
   {
    "duration": 42,
    "start_time": "2024-08-26T13:09:03.951Z"
   },
   {
    "duration": 41,
    "start_time": "2024-08-26T13:09:07.767Z"
   },
   {
    "duration": 38,
    "start_time": "2024-08-26T13:09:16.590Z"
   },
   {
    "duration": 347,
    "start_time": "2024-08-26T13:12:23.794Z"
   },
   {
    "duration": 335,
    "start_time": "2024-08-26T13:12:34.324Z"
   },
   {
    "duration": 316,
    "start_time": "2024-08-26T13:13:18.092Z"
   },
   {
    "duration": 287,
    "start_time": "2024-08-26T13:13:41.559Z"
   },
   {
    "duration": 9,
    "start_time": "2024-08-26T13:14:01.633Z"
   },
   {
    "duration": 370,
    "start_time": "2024-08-26T13:14:05.769Z"
   },
   {
    "duration": 123,
    "start_time": "2024-08-26T13:14:33.917Z"
   },
   {
    "duration": 311,
    "start_time": "2024-08-26T13:14:56.781Z"
   },
   {
    "duration": 304,
    "start_time": "2024-08-26T13:15:02.869Z"
   },
   {
    "duration": 320,
    "start_time": "2024-08-26T13:17:52.606Z"
   },
   {
    "duration": 326,
    "start_time": "2024-08-26T13:18:29.439Z"
   },
   {
    "duration": 384,
    "start_time": "2024-08-26T13:18:39.753Z"
   },
   {
    "duration": 154,
    "start_time": "2024-08-26T13:19:41.453Z"
   },
   {
    "duration": 261,
    "start_time": "2024-08-26T13:19:57.525Z"
   },
   {
    "duration": 284,
    "start_time": "2024-08-26T13:20:07.256Z"
   },
   {
    "duration": 6,
    "start_time": "2024-08-26T13:21:36.309Z"
   },
   {
    "duration": 8,
    "start_time": "2024-08-26T13:22:04.508Z"
   },
   {
    "duration": 7,
    "start_time": "2024-08-26T13:22:12.774Z"
   },
   {
    "duration": 8,
    "start_time": "2024-08-26T13:22:18.428Z"
   },
   {
    "duration": 6,
    "start_time": "2024-08-26T13:23:02.312Z"
   },
   {
    "duration": 8,
    "start_time": "2024-08-26T13:23:30.451Z"
   },
   {
    "duration": 7,
    "start_time": "2024-08-26T13:23:37.975Z"
   },
   {
    "duration": 7,
    "start_time": "2024-08-26T13:25:05.577Z"
   },
   {
    "duration": 7,
    "start_time": "2024-08-26T13:25:15.632Z"
   },
   {
    "duration": 7,
    "start_time": "2024-08-26T13:25:43.412Z"
   },
   {
    "duration": 7,
    "start_time": "2024-08-26T13:25:46.113Z"
   },
   {
    "duration": 8,
    "start_time": "2024-08-26T13:25:59.917Z"
   },
   {
    "duration": 7,
    "start_time": "2024-08-26T13:26:04.415Z"
   },
   {
    "duration": 308,
    "start_time": "2024-08-26T13:27:06.300Z"
   },
   {
    "duration": 293,
    "start_time": "2024-08-26T13:27:16.133Z"
   },
   {
    "duration": 403,
    "start_time": "2024-08-26T13:27:24.361Z"
   },
   {
    "duration": 367,
    "start_time": "2024-08-26T13:27:42.628Z"
   },
   {
    "duration": 360,
    "start_time": "2024-08-26T13:28:06.508Z"
   },
   {
    "duration": 313,
    "start_time": "2024-08-26T13:28:12.059Z"
   },
   {
    "duration": 300,
    "start_time": "2024-08-26T13:28:43.793Z"
   },
   {
    "duration": 293,
    "start_time": "2024-08-26T13:28:57.064Z"
   },
   {
    "duration": 292,
    "start_time": "2024-08-26T13:30:53.353Z"
   },
   {
    "duration": 233,
    "start_time": "2024-08-26T13:31:20.665Z"
   },
   {
    "duration": 5658,
    "start_time": "2024-08-26T13:31:55.715Z"
   },
   {
    "duration": 336,
    "start_time": "2024-08-26T13:32:43.397Z"
   },
   {
    "duration": 216,
    "start_time": "2024-08-26T13:33:14.005Z"
   },
   {
    "duration": 218,
    "start_time": "2024-08-26T13:33:32.527Z"
   },
   {
    "duration": 1009,
    "start_time": "2024-08-26T13:33:57.999Z"
   },
   {
    "duration": 630,
    "start_time": "2024-08-26T13:34:37.063Z"
   },
   {
    "duration": 380,
    "start_time": "2024-08-26T13:34:49.863Z"
   },
   {
    "duration": 8,
    "start_time": "2024-08-26T13:35:22.117Z"
   },
   {
    "duration": 7,
    "start_time": "2024-08-26T13:35:45.394Z"
   },
   {
    "duration": 662,
    "start_time": "2024-08-26T13:36:41.129Z"
   },
   {
    "duration": 370,
    "start_time": "2024-08-26T13:36:50.498Z"
   },
   {
    "duration": 9,
    "start_time": "2024-08-26T13:44:45.978Z"
   },
   {
    "duration": 19,
    "start_time": "2024-08-26T13:44:55.754Z"
   },
   {
    "duration": 1249,
    "start_time": "2024-08-26T13:45:45.030Z"
   },
   {
    "duration": 886,
    "start_time": "2024-08-26T13:46:01.455Z"
   },
   {
    "duration": 18,
    "start_time": "2024-08-26T13:46:08.963Z"
   },
   {
    "duration": 14,
    "start_time": "2024-08-26T13:47:41.646Z"
   },
   {
    "duration": 12,
    "start_time": "2024-08-26T13:47:55.148Z"
   },
   {
    "duration": 17,
    "start_time": "2024-08-26T13:48:54.816Z"
   },
   {
    "duration": 195,
    "start_time": "2024-08-26T13:51:41.957Z"
   },
   {
    "duration": 317,
    "start_time": "2024-08-26T13:52:03.660Z"
   },
   {
    "duration": 132,
    "start_time": "2024-08-26T13:52:43.570Z"
   },
   {
    "duration": 333,
    "start_time": "2024-08-26T13:52:57.315Z"
   },
   {
    "duration": 240,
    "start_time": "2024-08-26T13:55:56.716Z"
   },
   {
    "duration": 309,
    "start_time": "2024-08-26T13:56:05.896Z"
   },
   {
    "duration": 387,
    "start_time": "2024-08-26T13:56:12.426Z"
   },
   {
    "duration": 151,
    "start_time": "2024-08-26T13:56:21.547Z"
   },
   {
    "duration": 287,
    "start_time": "2024-08-26T13:56:25.329Z"
   },
   {
    "duration": 262,
    "start_time": "2024-08-26T13:56:36.457Z"
   },
   {
    "duration": 221,
    "start_time": "2024-08-26T13:56:40.731Z"
   },
   {
    "duration": 359,
    "start_time": "2024-08-26T13:56:43.708Z"
   },
   {
    "duration": 13,
    "start_time": "2024-08-26T13:57:21.311Z"
   },
   {
    "duration": 474,
    "start_time": "2024-08-26T13:57:24.113Z"
   },
   {
    "duration": 462,
    "start_time": "2024-08-26T13:58:39.285Z"
   },
   {
    "duration": 379,
    "start_time": "2024-08-26T13:58:46.806Z"
   },
   {
    "duration": 5577,
    "start_time": "2024-08-26T14:01:27.633Z"
   },
   {
    "duration": 745,
    "start_time": "2024-08-26T14:01:37.364Z"
   },
   {
    "duration": 368,
    "start_time": "2024-08-26T14:02:02.515Z"
   },
   {
    "duration": 186,
    "start_time": "2024-08-26T14:04:40.593Z"
   },
   {
    "duration": 284,
    "start_time": "2024-08-26T14:05:39.618Z"
   },
   {
    "duration": 269,
    "start_time": "2024-08-26T14:06:05.034Z"
   },
   {
    "duration": 280,
    "start_time": "2024-08-26T14:06:10.288Z"
   },
   {
    "duration": 388,
    "start_time": "2024-08-26T14:06:40.129Z"
   },
   {
    "duration": 260,
    "start_time": "2024-08-26T14:06:48.857Z"
   },
   {
    "duration": 285,
    "start_time": "2024-08-26T14:06:56.815Z"
   },
   {
    "duration": 288,
    "start_time": "2024-08-26T14:07:03.344Z"
   },
   {
    "duration": 5987,
    "start_time": "2024-08-26T14:07:57.316Z"
   },
   {
    "duration": 343,
    "start_time": "2024-08-26T14:08:25.874Z"
   },
   {
    "duration": 573,
    "start_time": "2024-08-26T14:08:48.187Z"
   },
   {
    "duration": 17,
    "start_time": "2024-08-26T14:09:06.206Z"
   },
   {
    "duration": 3,
    "start_time": "2024-08-26T14:10:34.303Z"
   },
   {
    "duration": 15,
    "start_time": "2024-08-26T14:10:39.503Z"
   },
   {
    "duration": 16,
    "start_time": "2024-08-26T14:10:45.875Z"
   },
   {
    "duration": 4,
    "start_time": "2024-08-26T14:10:54.352Z"
   },
   {
    "duration": 11,
    "start_time": "2024-08-26T14:10:55.027Z"
   },
   {
    "duration": 352,
    "start_time": "2024-08-26T14:10:57.570Z"
   },
   {
    "duration": 374,
    "start_time": "2024-08-26T14:11:11.088Z"
   },
   {
    "duration": 3,
    "start_time": "2024-08-26T14:11:35.543Z"
   },
   {
    "duration": 12,
    "start_time": "2024-08-26T14:11:36.883Z"
   },
   {
    "duration": 456,
    "start_time": "2024-08-26T14:11:39.182Z"
   },
   {
    "duration": 20103,
    "start_time": "2024-08-26T14:19:01.748Z"
   },
   {
    "duration": 392,
    "start_time": "2024-08-26T14:30:32.459Z"
   },
   {
    "duration": 1349,
    "start_time": "2024-08-26T14:30:40.026Z"
   },
   {
    "duration": 310,
    "start_time": "2024-08-26T14:30:44.420Z"
   },
   {
    "duration": 391,
    "start_time": "2024-08-26T14:30:50.039Z"
   },
   {
    "duration": 430,
    "start_time": "2024-08-26T14:31:01.931Z"
   },
   {
    "duration": 425,
    "start_time": "2024-08-26T14:31:09.241Z"
   },
   {
    "duration": 408,
    "start_time": "2024-08-26T14:31:17.415Z"
   },
   {
    "duration": 419,
    "start_time": "2024-08-26T14:31:24.781Z"
   },
   {
    "duration": 420,
    "start_time": "2024-08-26T14:31:28.637Z"
   },
   {
    "duration": 414,
    "start_time": "2024-08-26T14:31:34.047Z"
   },
   {
    "duration": 7,
    "start_time": "2024-08-26T14:33:19.527Z"
   },
   {
    "duration": 8,
    "start_time": "2024-08-26T14:33:28.077Z"
   },
   {
    "duration": 10,
    "start_time": "2024-08-26T14:33:43.440Z"
   },
   {
    "duration": 1157,
    "start_time": "2024-08-26T14:33:52.830Z"
   },
   {
    "duration": 101,
    "start_time": "2024-08-26T14:33:53.989Z"
   },
   {
    "duration": 31,
    "start_time": "2024-08-26T14:33:54.093Z"
   },
   {
    "duration": 22,
    "start_time": "2024-08-26T14:33:54.126Z"
   },
   {
    "duration": 6,
    "start_time": "2024-08-26T14:33:54.150Z"
   },
   {
    "duration": 15,
    "start_time": "2024-08-26T14:33:54.157Z"
   },
   {
    "duration": 16,
    "start_time": "2024-08-26T14:33:54.174Z"
   },
   {
    "duration": 16,
    "start_time": "2024-08-26T14:33:54.192Z"
   },
   {
    "duration": 36,
    "start_time": "2024-08-26T14:33:54.210Z"
   },
   {
    "duration": 107,
    "start_time": "2024-08-26T14:33:54.247Z"
   },
   {
    "duration": 11,
    "start_time": "2024-08-26T14:33:54.356Z"
   },
   {
    "duration": 24,
    "start_time": "2024-08-26T14:33:54.368Z"
   },
   {
    "duration": 30,
    "start_time": "2024-08-26T14:33:54.394Z"
   },
   {
    "duration": 105,
    "start_time": "2024-08-26T14:33:54.426Z"
   },
   {
    "duration": 41,
    "start_time": "2024-08-26T14:33:54.533Z"
   },
   {
    "duration": 42,
    "start_time": "2024-08-26T14:33:54.575Z"
   },
   {
    "duration": 161,
    "start_time": "2024-08-26T14:33:54.619Z"
   },
   {
    "duration": 412,
    "start_time": "2024-08-26T14:33:54.782Z"
   },
   {
    "duration": 8,
    "start_time": "2024-08-26T14:33:55.196Z"
   },
   {
    "duration": 405,
    "start_time": "2024-08-26T14:33:55.206Z"
   },
   {
    "duration": 234,
    "start_time": "2024-08-26T14:33:55.612Z"
   },
   {
    "duration": 431,
    "start_time": "2024-08-26T14:33:55.848Z"
   },
   {
    "duration": 6,
    "start_time": "2024-08-26T14:33:56.281Z"
   },
   {
    "duration": 41,
    "start_time": "2024-08-26T14:33:56.288Z"
   },
   {
    "duration": 317,
    "start_time": "2024-08-26T14:33:56.330Z"
   },
   {
    "duration": 378,
    "start_time": "2024-08-26T14:33:56.648Z"
   },
   {
    "duration": 7,
    "start_time": "2024-08-26T14:34:28.221Z"
   },
   {
    "duration": 7,
    "start_time": "2024-08-26T14:35:03.413Z"
   },
   {
    "duration": 7,
    "start_time": "2024-08-26T14:35:18.750Z"
   },
   {
    "duration": 8,
    "start_time": "2024-08-26T14:35:27.303Z"
   },
   {
    "duration": 93,
    "start_time": "2024-08-26T14:35:54.906Z"
   },
   {
    "duration": 7,
    "start_time": "2024-08-26T14:36:04.714Z"
   },
   {
    "duration": 24,
    "start_time": "2024-08-26T14:36:13.095Z"
   },
   {
    "duration": 7,
    "start_time": "2024-08-26T14:36:30.451Z"
   },
   {
    "duration": 8,
    "start_time": "2024-08-26T14:36:35.842Z"
   },
   {
    "duration": 6,
    "start_time": "2024-08-26T14:37:02.201Z"
   },
   {
    "duration": 8,
    "start_time": "2024-08-26T14:38:31.660Z"
   },
   {
    "duration": 7,
    "start_time": "2024-08-26T14:38:39.186Z"
   },
   {
    "duration": 7,
    "start_time": "2024-08-26T14:41:06.819Z"
   },
   {
    "duration": 19,
    "start_time": "2024-08-26T14:41:24.675Z"
   },
   {
    "duration": 37,
    "start_time": "2024-08-26T14:41:40.268Z"
   },
   {
    "duration": 7,
    "start_time": "2024-08-26T14:41:47.040Z"
   },
   {
    "duration": 9,
    "start_time": "2024-08-26T14:43:48.392Z"
   },
   {
    "duration": 9,
    "start_time": "2024-08-26T14:43:51.589Z"
   },
   {
    "duration": 10,
    "start_time": "2024-08-26T14:43:59.726Z"
   },
   {
    "duration": 8,
    "start_time": "2024-08-26T14:44:06.098Z"
   },
   {
    "duration": 12,
    "start_time": "2024-08-26T14:50:43.711Z"
   },
   {
    "duration": 9,
    "start_time": "2024-08-26T14:50:57.008Z"
   },
   {
    "duration": 68,
    "start_time": "2024-08-26T14:51:47.544Z"
   },
   {
    "duration": 8,
    "start_time": "2024-08-26T14:51:53.592Z"
   },
   {
    "duration": 7,
    "start_time": "2024-08-26T14:52:16.901Z"
   },
   {
    "duration": 13,
    "start_time": "2024-08-26T14:54:53.740Z"
   },
   {
    "duration": 69,
    "start_time": "2024-08-26T14:56:19.483Z"
   },
   {
    "duration": 7,
    "start_time": "2024-08-26T14:56:52.898Z"
   },
   {
    "duration": 9,
    "start_time": "2024-08-26T14:57:19.882Z"
   },
   {
    "duration": 8,
    "start_time": "2024-08-26T14:57:23.438Z"
   },
   {
    "duration": 20,
    "start_time": "2024-08-26T15:00:01.273Z"
   },
   {
    "duration": 16,
    "start_time": "2024-08-26T15:01:12.083Z"
   },
   {
    "duration": 20,
    "start_time": "2024-08-26T15:01:30.364Z"
   },
   {
    "duration": 16,
    "start_time": "2024-08-26T15:01:43.428Z"
   },
   {
    "duration": 11,
    "start_time": "2024-08-26T15:03:56.997Z"
   },
   {
    "duration": 224,
    "start_time": "2024-08-26T15:06:16.445Z"
   },
   {
    "duration": 223,
    "start_time": "2024-08-26T15:06:21.379Z"
   },
   {
    "duration": 148,
    "start_time": "2024-08-26T15:06:25.084Z"
   },
   {
    "duration": 205,
    "start_time": "2024-08-26T15:06:28.713Z"
   },
   {
    "duration": 236,
    "start_time": "2024-08-26T15:06:31.597Z"
   },
   {
    "duration": 48,
    "start_time": "2024-08-26T15:16:23.674Z"
   },
   {
    "duration": 6,
    "start_time": "2024-08-26T15:16:32.858Z"
   },
   {
    "duration": 1226,
    "start_time": "2024-08-26T15:16:37.334Z"
   },
   {
    "duration": 73,
    "start_time": "2024-08-26T15:16:38.562Z"
   },
   {
    "duration": 31,
    "start_time": "2024-08-26T15:16:38.636Z"
   },
   {
    "duration": 12,
    "start_time": "2024-08-26T15:16:38.669Z"
   },
   {
    "duration": 65,
    "start_time": "2024-08-26T15:16:38.683Z"
   },
   {
    "duration": 7,
    "start_time": "2024-08-26T15:16:38.749Z"
   },
   {
    "duration": 18,
    "start_time": "2024-08-26T15:16:38.758Z"
   },
   {
    "duration": 11,
    "start_time": "2024-08-26T15:16:38.777Z"
   },
   {
    "duration": 13,
    "start_time": "2024-08-26T15:16:38.790Z"
   },
   {
    "duration": 40,
    "start_time": "2024-08-26T15:16:38.805Z"
   },
   {
    "duration": 11,
    "start_time": "2024-08-26T15:16:38.847Z"
   },
   {
    "duration": 30,
    "start_time": "2024-08-26T15:16:38.860Z"
   },
   {
    "duration": 5,
    "start_time": "2024-08-26T15:16:38.891Z"
   },
   {
    "duration": 104,
    "start_time": "2024-08-26T15:16:38.898Z"
   },
   {
    "duration": 48,
    "start_time": "2024-08-26T15:16:39.004Z"
   },
   {
    "duration": 37,
    "start_time": "2024-08-26T15:16:39.054Z"
   },
   {
    "duration": 175,
    "start_time": "2024-08-26T15:16:39.092Z"
   },
   {
    "duration": 427,
    "start_time": "2024-08-26T15:16:39.269Z"
   },
   {
    "duration": 8,
    "start_time": "2024-08-26T15:16:39.697Z"
   },
   {
    "duration": 410,
    "start_time": "2024-08-26T15:16:39.706Z"
   },
   {
    "duration": 8,
    "start_time": "2024-08-26T15:16:40.117Z"
   },
   {
    "duration": 8,
    "start_time": "2024-08-26T15:16:40.138Z"
   },
   {
    "duration": 10,
    "start_time": "2024-08-26T15:16:40.147Z"
   },
   {
    "duration": 211,
    "start_time": "2024-08-26T15:16:40.159Z"
   },
   {
    "duration": 442,
    "start_time": "2024-08-26T15:16:40.371Z"
   },
   {
    "duration": 6,
    "start_time": "2024-08-26T15:16:40.814Z"
   },
   {
    "duration": 33,
    "start_time": "2024-08-26T15:16:40.821Z"
   },
   {
    "duration": 379,
    "start_time": "2024-08-26T15:16:40.855Z"
   },
   {
    "duration": 399,
    "start_time": "2024-08-26T15:16:41.238Z"
   },
   {
    "duration": 208,
    "start_time": "2024-08-26T15:16:58.035Z"
   },
   {
    "duration": 189,
    "start_time": "2024-08-26T15:17:02.047Z"
   },
   {
    "duration": 213,
    "start_time": "2024-08-26T15:17:06.891Z"
   },
   {
    "duration": 195,
    "start_time": "2024-08-26T15:17:11.897Z"
   },
   {
    "duration": 393,
    "start_time": "2024-08-26T15:17:22.213Z"
   },
   {
    "duration": 397,
    "start_time": "2024-08-26T15:33:36.152Z"
   },
   {
    "duration": 379,
    "start_time": "2024-08-26T15:33:58.758Z"
   },
   {
    "duration": 8,
    "start_time": "2024-08-26T15:51:19.199Z"
   },
   {
    "duration": 9,
    "start_time": "2024-08-26T15:52:10.507Z"
   },
   {
    "duration": 4,
    "start_time": "2024-08-26T15:52:34.094Z"
   },
   {
    "duration": 21,
    "start_time": "2024-08-26T15:52:46.572Z"
   },
   {
    "duration": 10,
    "start_time": "2024-08-26T15:53:17.183Z"
   },
   {
    "duration": 10,
    "start_time": "2024-08-26T15:53:21.926Z"
   },
   {
    "duration": 1226,
    "start_time": "2024-08-27T12:30:35.243Z"
   },
   {
    "duration": 95,
    "start_time": "2024-08-27T12:30:36.471Z"
   },
   {
    "duration": 32,
    "start_time": "2024-08-27T12:30:36.567Z"
   },
   {
    "duration": 19,
    "start_time": "2024-08-27T12:30:36.601Z"
   },
   {
    "duration": 11,
    "start_time": "2024-08-27T12:30:36.622Z"
   },
   {
    "duration": 15,
    "start_time": "2024-08-27T12:30:36.635Z"
   },
   {
    "duration": 15,
    "start_time": "2024-08-27T12:30:36.652Z"
   },
   {
    "duration": 61,
    "start_time": "2024-08-27T12:30:36.669Z"
   },
   {
    "duration": 17,
    "start_time": "2024-08-27T12:30:36.732Z"
   },
   {
    "duration": 45,
    "start_time": "2024-08-27T12:30:36.751Z"
   },
   {
    "duration": 12,
    "start_time": "2024-08-27T12:30:36.798Z"
   },
   {
    "duration": 18,
    "start_time": "2024-08-27T12:30:36.811Z"
   },
   {
    "duration": 5,
    "start_time": "2024-08-27T12:30:36.831Z"
   },
   {
    "duration": 117,
    "start_time": "2024-08-27T12:30:36.838Z"
   },
   {
    "duration": 48,
    "start_time": "2024-08-27T12:30:36.957Z"
   },
   {
    "duration": 40,
    "start_time": "2024-08-27T12:30:37.007Z"
   },
   {
    "duration": 180,
    "start_time": "2024-08-27T12:30:37.049Z"
   },
   {
    "duration": 421,
    "start_time": "2024-08-27T12:30:37.230Z"
   },
   {
    "duration": 8,
    "start_time": "2024-08-27T12:30:37.653Z"
   },
   {
    "duration": 393,
    "start_time": "2024-08-27T12:30:37.662Z"
   },
   {
    "duration": 8,
    "start_time": "2024-08-27T12:30:38.056Z"
   },
   {
    "duration": 26,
    "start_time": "2024-08-27T12:30:38.066Z"
   },
   {
    "duration": 21,
    "start_time": "2024-08-27T12:30:38.094Z"
   },
   {
    "duration": 287,
    "start_time": "2024-08-27T12:30:38.116Z"
   },
   {
    "duration": 382,
    "start_time": "2024-08-27T12:30:38.404Z"
   },
   {
    "duration": 6,
    "start_time": "2024-08-27T12:30:38.789Z"
   },
   {
    "duration": 34,
    "start_time": "2024-08-27T12:30:38.796Z"
   },
   {
    "duration": 309,
    "start_time": "2024-08-27T12:30:38.831Z"
   },
   {
    "duration": 357,
    "start_time": "2024-08-27T12:30:39.142Z"
   },
   {
    "duration": 8,
    "start_time": "2024-08-27T12:32:31.222Z"
   },
   {
    "duration": 9,
    "start_time": "2024-08-27T12:33:29.187Z"
   },
   {
    "duration": 8,
    "start_time": "2024-08-27T12:33:32.311Z"
   },
   {
    "duration": 96,
    "start_time": "2024-08-27T12:34:27.520Z"
   },
   {
    "duration": 6,
    "start_time": "2024-08-27T12:34:44.627Z"
   },
   {
    "duration": 94,
    "start_time": "2024-08-27T12:35:06.903Z"
   },
   {
    "duration": 95,
    "start_time": "2024-08-27T12:35:12.507Z"
   },
   {
    "duration": 91,
    "start_time": "2024-08-27T12:35:25.480Z"
   },
   {
    "duration": 124,
    "start_time": "2024-08-27T12:36:03.956Z"
   },
   {
    "duration": 8,
    "start_time": "2024-08-27T12:36:22.547Z"
   },
   {
    "duration": 11,
    "start_time": "2024-08-27T12:36:26.296Z"
   },
   {
    "duration": 190,
    "start_time": "2024-08-27T12:36:39.229Z"
   },
   {
    "duration": 4,
    "start_time": "2024-08-27T12:37:20.477Z"
   },
   {
    "duration": 51,
    "start_time": "2024-08-27T12:37:28.702Z"
   },
   {
    "duration": 51,
    "start_time": "2024-08-27T12:37:43.288Z"
   },
   {
    "duration": 9,
    "start_time": "2024-08-27T12:37:53.878Z"
   },
   {
    "duration": 10,
    "start_time": "2024-08-27T12:38:09.832Z"
   },
   {
    "duration": 9,
    "start_time": "2024-08-27T12:38:24.466Z"
   },
   {
    "duration": 12,
    "start_time": "2024-08-27T12:38:31.909Z"
   },
   {
    "duration": 21,
    "start_time": "2024-08-27T12:38:48.479Z"
   },
   {
    "duration": 11,
    "start_time": "2024-08-27T12:38:53.029Z"
   },
   {
    "duration": 10,
    "start_time": "2024-08-27T12:39:06.518Z"
   },
   {
    "duration": 17,
    "start_time": "2024-08-27T12:39:10.026Z"
   },
   {
    "duration": 8,
    "start_time": "2024-08-27T12:39:44.000Z"
   },
   {
    "duration": 14,
    "start_time": "2024-08-27T12:39:48.462Z"
   },
   {
    "duration": 14,
    "start_time": "2024-08-27T12:39:54.642Z"
   },
   {
    "duration": 15,
    "start_time": "2024-08-27T12:39:57.058Z"
   },
   {
    "duration": 100,
    "start_time": "2024-08-27T12:40:13.758Z"
   },
   {
    "duration": 99,
    "start_time": "2024-08-27T12:40:47.911Z"
   },
   {
    "duration": 130,
    "start_time": "2024-08-27T12:41:03.178Z"
   },
   {
    "duration": 94,
    "start_time": "2024-08-27T12:41:25.313Z"
   },
   {
    "duration": 90,
    "start_time": "2024-08-27T12:42:16.119Z"
   },
   {
    "duration": 86,
    "start_time": "2024-08-27T12:42:24.754Z"
   },
   {
    "duration": 154,
    "start_time": "2024-08-27T12:42:58.080Z"
   },
   {
    "duration": 116,
    "start_time": "2024-08-27T12:43:06.497Z"
   },
   {
    "duration": 114,
    "start_time": "2024-08-27T12:43:31.411Z"
   },
   {
    "duration": 92,
    "start_time": "2024-08-27T12:43:43.883Z"
   },
   {
    "duration": 121,
    "start_time": "2024-08-27T12:44:00.049Z"
   },
   {
    "duration": 130,
    "start_time": "2024-08-27T12:44:19.561Z"
   },
   {
    "duration": 101,
    "start_time": "2024-08-27T12:44:36.661Z"
   },
   {
    "duration": 92,
    "start_time": "2024-08-27T12:45:17.055Z"
   },
   {
    "duration": 196,
    "start_time": "2024-08-27T12:45:29.597Z"
   },
   {
    "duration": 111,
    "start_time": "2024-08-27T12:45:46.370Z"
   },
   {
    "duration": 111,
    "start_time": "2024-08-27T12:46:55.962Z"
   },
   {
    "duration": 101,
    "start_time": "2024-08-27T12:47:04.364Z"
   },
   {
    "duration": 122,
    "start_time": "2024-08-27T12:47:26.739Z"
   },
   {
    "duration": 142,
    "start_time": "2024-08-27T12:48:08.428Z"
   },
   {
    "duration": 124,
    "start_time": "2024-08-27T12:48:26.008Z"
   },
   {
    "duration": 130,
    "start_time": "2024-08-27T12:48:31.486Z"
   },
   {
    "duration": 126,
    "start_time": "2024-08-27T12:48:43.796Z"
   },
   {
    "duration": 151,
    "start_time": "2024-08-27T12:48:50.467Z"
   },
   {
    "duration": 133,
    "start_time": "2024-08-27T12:49:01.130Z"
   },
   {
    "duration": 121,
    "start_time": "2024-08-27T12:49:22.976Z"
   },
   {
    "duration": 126,
    "start_time": "2024-08-27T12:49:37.381Z"
   },
   {
    "duration": 117,
    "start_time": "2024-08-27T12:49:44.608Z"
   },
   {
    "duration": 109,
    "start_time": "2024-08-27T12:49:56.310Z"
   },
   {
    "duration": 200,
    "start_time": "2024-08-27T12:51:16.720Z"
   },
   {
    "duration": 113,
    "start_time": "2024-08-27T12:53:07.332Z"
   },
   {
    "duration": 138,
    "start_time": "2024-08-27T12:53:15.995Z"
   },
   {
    "duration": 131,
    "start_time": "2024-08-27T12:53:21.583Z"
   },
   {
    "duration": 143,
    "start_time": "2024-08-27T12:53:25.388Z"
   },
   {
    "duration": 129,
    "start_time": "2024-08-27T12:54:39.598Z"
   },
   {
    "duration": 29,
    "start_time": "2024-08-27T13:03:29.299Z"
   },
   {
    "duration": 21,
    "start_time": "2024-08-27T13:03:51.128Z"
   },
   {
    "duration": 22,
    "start_time": "2024-08-27T13:04:42.837Z"
   },
   {
    "duration": 16,
    "start_time": "2024-08-27T13:05:04.433Z"
   },
   {
    "duration": 21,
    "start_time": "2024-08-27T13:05:13.919Z"
   },
   {
    "duration": 19,
    "start_time": "2024-08-27T13:05:44.630Z"
   },
   {
    "duration": 20,
    "start_time": "2024-08-27T13:05:55.247Z"
   },
   {
    "duration": 13,
    "start_time": "2024-08-27T13:11:01.339Z"
   },
   {
    "duration": 8,
    "start_time": "2024-08-27T13:12:03.152Z"
   },
   {
    "duration": 12,
    "start_time": "2024-08-27T13:12:06.925Z"
   },
   {
    "duration": 21,
    "start_time": "2024-08-27T13:13:16.799Z"
   },
   {
    "duration": 21,
    "start_time": "2024-08-27T13:15:09.407Z"
   },
   {
    "duration": 14,
    "start_time": "2024-08-27T13:15:43.518Z"
   },
   {
    "duration": 5,
    "start_time": "2024-08-27T13:19:16.449Z"
   },
   {
    "duration": 6,
    "start_time": "2024-08-27T13:19:37.866Z"
   },
   {
    "duration": 21,
    "start_time": "2024-08-27T13:23:12.639Z"
   },
   {
    "duration": 144,
    "start_time": "2024-08-27T13:23:33.741Z"
   },
   {
    "duration": 170,
    "start_time": "2024-08-27T13:23:53.185Z"
   },
   {
    "duration": 52,
    "start_time": "2024-08-27T13:24:16.327Z"
   },
   {
    "duration": 151,
    "start_time": "2024-08-27T13:24:18.802Z"
   },
   {
    "duration": 137,
    "start_time": "2024-08-27T13:24:45.634Z"
   },
   {
    "duration": 166,
    "start_time": "2024-08-27T13:24:57.254Z"
   },
   {
    "duration": 139,
    "start_time": "2024-08-27T13:25:03.536Z"
   },
   {
    "duration": 134,
    "start_time": "2024-08-27T13:25:25.303Z"
   },
   {
    "duration": 212,
    "start_time": "2024-08-27T13:25:31.823Z"
   },
   {
    "duration": 146,
    "start_time": "2024-08-27T13:25:45.659Z"
   },
   {
    "duration": 129,
    "start_time": "2024-08-27T13:25:50.345Z"
   },
   {
    "duration": 141,
    "start_time": "2024-08-27T13:28:05.740Z"
   },
   {
    "duration": 459,
    "start_time": "2024-08-27T13:36:10.720Z"
   },
   {
    "duration": 396,
    "start_time": "2024-08-27T13:36:16.976Z"
   },
   {
    "duration": 525,
    "start_time": "2024-08-27T13:37:08.148Z"
   },
   {
    "duration": 17,
    "start_time": "2024-08-27T13:39:12.426Z"
   },
   {
    "duration": 16,
    "start_time": "2024-08-27T13:39:41.154Z"
   },
   {
    "duration": 16,
    "start_time": "2024-08-27T13:39:45.044Z"
   },
   {
    "duration": 19,
    "start_time": "2024-08-27T13:40:27.220Z"
   },
   {
    "duration": 14,
    "start_time": "2024-08-27T13:40:38.043Z"
   },
   {
    "duration": 36,
    "start_time": "2024-08-27T13:42:26.347Z"
   },
   {
    "duration": 14,
    "start_time": "2024-08-27T13:42:31.924Z"
   },
   {
    "duration": 103,
    "start_time": "2024-08-27T13:42:43.102Z"
   },
   {
    "duration": 34,
    "start_time": "2024-08-27T13:42:58.796Z"
   },
   {
    "duration": 16,
    "start_time": "2024-08-27T13:43:03.346Z"
   },
   {
    "duration": 43,
    "start_time": "2024-08-27T13:43:05.880Z"
   },
   {
    "duration": 10,
    "start_time": "2024-08-27T13:43:19.152Z"
   },
   {
    "duration": 30,
    "start_time": "2024-08-27T13:43:22.341Z"
   },
   {
    "duration": 23,
    "start_time": "2024-08-27T13:43:31.710Z"
   },
   {
    "duration": 8,
    "start_time": "2024-08-27T13:43:44.671Z"
   },
   {
    "duration": 14,
    "start_time": "2024-08-27T13:44:09.849Z"
   },
   {
    "duration": 16,
    "start_time": "2024-08-27T13:45:22.453Z"
   },
   {
    "duration": 11,
    "start_time": "2024-08-27T13:45:56.235Z"
   },
   {
    "duration": 9,
    "start_time": "2024-08-27T13:49:27.016Z"
   },
   {
    "duration": 9,
    "start_time": "2024-08-27T13:51:50.270Z"
   },
   {
    "duration": 452,
    "start_time": "2024-08-27T13:52:42.108Z"
   },
   {
    "duration": 437,
    "start_time": "2024-08-27T13:52:55.722Z"
   },
   {
    "duration": 8,
    "start_time": "2024-08-27T13:54:34.202Z"
   },
   {
    "duration": 8,
    "start_time": "2024-08-27T13:55:52.073Z"
   },
   {
    "duration": 271,
    "start_time": "2024-08-27T13:57:33.443Z"
   },
   {
    "duration": 405,
    "start_time": "2024-08-27T14:00:11.350Z"
   },
   {
    "duration": 9,
    "start_time": "2024-08-27T14:02:46.101Z"
   },
   {
    "duration": 6,
    "start_time": "2024-08-27T14:03:00.538Z"
   },
   {
    "duration": 8,
    "start_time": "2024-08-27T14:07:57.260Z"
   },
   {
    "duration": 465,
    "start_time": "2024-08-27T14:12:56.946Z"
   },
   {
    "duration": 51,
    "start_time": "2024-08-27T14:14:48.582Z"
   },
   {
    "duration": 7,
    "start_time": "2024-08-27T14:14:53.137Z"
   },
   {
    "duration": 6,
    "start_time": "2024-08-27T14:18:27.855Z"
   },
   {
    "duration": 6,
    "start_time": "2024-08-27T14:18:51.950Z"
   },
   {
    "duration": 6,
    "start_time": "2024-08-27T14:19:04.936Z"
   },
   {
    "duration": 6,
    "start_time": "2024-08-27T14:19:24.072Z"
   },
   {
    "duration": 15,
    "start_time": "2024-08-27T14:19:28.013Z"
   },
   {
    "duration": 22,
    "start_time": "2024-08-27T14:19:34.396Z"
   },
   {
    "duration": 419,
    "start_time": "2024-08-27T14:19:42.925Z"
   },
   {
    "duration": 418,
    "start_time": "2024-08-27T14:23:30.229Z"
   },
   {
    "duration": 9,
    "start_time": "2024-08-27T14:27:06.538Z"
   },
   {
    "duration": 13,
    "start_time": "2024-08-27T14:31:42.897Z"
   },
   {
    "duration": 12,
    "start_time": "2024-08-27T14:31:54.044Z"
   },
   {
    "duration": 8,
    "start_time": "2024-08-27T14:32:20.121Z"
   },
   {
    "duration": 9,
    "start_time": "2024-08-27T14:32:38.332Z"
   },
   {
    "duration": 15,
    "start_time": "2024-08-27T14:32:56.124Z"
   },
   {
    "duration": 15,
    "start_time": "2024-08-27T14:33:03.769Z"
   },
   {
    "duration": 8,
    "start_time": "2024-08-27T14:33:08.872Z"
   },
   {
    "duration": 15,
    "start_time": "2024-08-27T14:33:23.909Z"
   },
   {
    "duration": 15,
    "start_time": "2024-08-27T14:33:34.869Z"
   },
   {
    "duration": 9,
    "start_time": "2024-08-27T14:38:04.659Z"
   },
   {
    "duration": 11,
    "start_time": "2024-08-27T14:38:22.610Z"
   },
   {
    "duration": 8,
    "start_time": "2024-08-27T14:38:34.244Z"
   },
   {
    "duration": 15,
    "start_time": "2024-08-27T14:39:19.846Z"
   },
   {
    "duration": 27,
    "start_time": "2024-08-27T14:40:45.887Z"
   },
   {
    "duration": 14,
    "start_time": "2024-08-27T14:41:43.813Z"
   },
   {
    "duration": 20,
    "start_time": "2024-08-27T14:43:17.102Z"
   },
   {
    "duration": 14,
    "start_time": "2024-08-27T14:43:32.342Z"
   },
   {
    "duration": 13,
    "start_time": "2024-08-27T14:44:10.057Z"
   },
   {
    "duration": 16,
    "start_time": "2024-08-27T14:44:19.418Z"
   },
   {
    "duration": 13,
    "start_time": "2024-08-27T14:44:57.559Z"
   },
   {
    "duration": 13,
    "start_time": "2024-08-27T14:45:12.843Z"
   },
   {
    "duration": 14,
    "start_time": "2024-08-27T14:45:37.166Z"
   },
   {
    "duration": 13,
    "start_time": "2024-08-27T14:47:09.522Z"
   },
   {
    "duration": 23,
    "start_time": "2024-08-27T14:47:50.045Z"
   },
   {
    "duration": 43,
    "start_time": "2024-08-27T14:48:06.459Z"
   },
   {
    "duration": 15,
    "start_time": "2024-08-27T14:50:02.468Z"
   },
   {
    "duration": 13,
    "start_time": "2024-08-27T15:07:43.802Z"
   },
   {
    "duration": 35,
    "start_time": "2024-08-27T15:08:10.512Z"
   },
   {
    "duration": 13,
    "start_time": "2024-08-27T15:13:28.516Z"
   },
   {
    "duration": 38,
    "start_time": "2024-08-27T15:13:55.353Z"
   },
   {
    "duration": 11,
    "start_time": "2024-08-27T15:16:01.573Z"
   },
   {
    "duration": 40,
    "start_time": "2024-08-27T15:16:29.772Z"
   },
   {
    "duration": 15,
    "start_time": "2024-08-27T15:17:07.922Z"
   },
   {
    "duration": 16,
    "start_time": "2024-08-27T15:17:51.919Z"
   },
   {
    "duration": 19,
    "start_time": "2024-08-27T15:17:57.595Z"
   },
   {
    "duration": 16,
    "start_time": "2024-08-27T15:18:09.902Z"
   },
   {
    "duration": 423,
    "start_time": "2024-08-27T15:18:20.751Z"
   },
   {
    "duration": 20,
    "start_time": "2024-08-27T15:18:32.457Z"
   },
   {
    "duration": 5,
    "start_time": "2024-08-27T15:20:27.179Z"
   },
   {
    "duration": 18,
    "start_time": "2024-08-27T15:20:33.215Z"
   },
   {
    "duration": 49,
    "start_time": "2024-08-27T15:21:56.437Z"
   },
   {
    "duration": 282,
    "start_time": "2024-08-27T15:22:37.815Z"
   },
   {
    "duration": 305,
    "start_time": "2024-08-27T15:22:50.594Z"
   },
   {
    "duration": 301,
    "start_time": "2024-08-27T15:23:17.998Z"
   },
   {
    "duration": 354,
    "start_time": "2024-08-27T15:23:59.726Z"
   },
   {
    "duration": 291,
    "start_time": "2024-08-27T15:24:14.388Z"
   },
   {
    "duration": 277,
    "start_time": "2024-08-27T15:24:35.734Z"
   },
   {
    "duration": 14,
    "start_time": "2024-08-27T15:32:29.949Z"
   },
   {
    "duration": 35,
    "start_time": "2024-08-27T15:32:45.706Z"
   },
   {
    "duration": 12,
    "start_time": "2024-08-27T15:34:10.903Z"
   },
   {
    "duration": 31,
    "start_time": "2024-08-27T15:34:23.550Z"
   },
   {
    "duration": 13,
    "start_time": "2024-08-27T15:36:04.170Z"
   },
   {
    "duration": 35,
    "start_time": "2024-08-27T15:36:32.182Z"
   },
   {
    "duration": 19,
    "start_time": "2024-08-27T15:38:32.220Z"
   },
   {
    "duration": 13,
    "start_time": "2024-08-27T15:39:10.120Z"
   },
   {
    "duration": 12,
    "start_time": "2024-08-27T15:40:52.157Z"
   },
   {
    "duration": 33,
    "start_time": "2024-08-27T15:41:14.381Z"
   },
   {
    "duration": 13,
    "start_time": "2024-08-27T15:43:06.320Z"
   },
   {
    "duration": 46,
    "start_time": "2024-08-27T15:43:18.306Z"
   },
   {
    "duration": 13,
    "start_time": "2024-08-27T15:44:27.196Z"
   },
   {
    "duration": 36,
    "start_time": "2024-08-27T15:44:37.854Z"
   },
   {
    "duration": 15,
    "start_time": "2024-08-27T15:45:11.051Z"
   },
   {
    "duration": 45,
    "start_time": "2024-08-27T15:45:27.806Z"
   },
   {
    "duration": 20,
    "start_time": "2024-08-27T16:01:12.633Z"
   },
   {
    "duration": 20,
    "start_time": "2024-08-27T16:02:19.204Z"
   },
   {
    "duration": 20,
    "start_time": "2024-08-27T16:05:54.200Z"
   },
   {
    "duration": 17,
    "start_time": "2024-08-27T16:10:32.080Z"
   },
   {
    "duration": 45,
    "start_time": "2024-08-27T16:10:36.486Z"
   },
   {
    "duration": 19,
    "start_time": "2024-08-27T16:19:23.852Z"
   },
   {
    "duration": 15,
    "start_time": "2024-08-27T16:19:40.989Z"
   },
   {
    "duration": 18,
    "start_time": "2024-08-27T16:19:42.484Z"
   },
   {
    "duration": 15,
    "start_time": "2024-08-27T16:19:43.357Z"
   },
   {
    "duration": 21,
    "start_time": "2024-08-27T16:21:42.592Z"
   },
   {
    "duration": 35,
    "start_time": "2024-08-27T16:21:47.007Z"
   },
   {
    "duration": 10,
    "start_time": "2024-08-27T16:26:42.574Z"
   },
   {
    "duration": 9,
    "start_time": "2024-08-27T16:27:31.086Z"
   },
   {
    "duration": 8,
    "start_time": "2024-08-27T16:28:05.344Z"
   },
   {
    "duration": 6,
    "start_time": "2024-08-27T16:29:11.319Z"
   },
   {
    "duration": 8,
    "start_time": "2024-08-27T16:29:43.085Z"
   },
   {
    "duration": 10,
    "start_time": "2024-08-27T16:30:06.626Z"
   },
   {
    "duration": 11,
    "start_time": "2024-08-27T16:31:42.014Z"
   },
   {
    "duration": 13,
    "start_time": "2024-08-27T16:31:52.240Z"
   },
   {
    "duration": 12,
    "start_time": "2024-08-27T16:32:48.290Z"
   },
   {
    "duration": 10,
    "start_time": "2024-08-27T16:33:08.160Z"
   },
   {
    "duration": 12,
    "start_time": "2024-08-27T16:33:12.525Z"
   },
   {
    "duration": 10,
    "start_time": "2024-08-27T16:35:10.012Z"
   },
   {
    "duration": 12,
    "start_time": "2024-08-27T16:35:20.051Z"
   },
   {
    "duration": 10,
    "start_time": "2024-08-27T16:35:47.974Z"
   },
   {
    "duration": 8,
    "start_time": "2024-08-27T16:36:22.369Z"
   },
   {
    "duration": 13,
    "start_time": "2024-08-27T16:40:25.095Z"
   },
   {
    "duration": 13,
    "start_time": "2024-08-27T16:42:17.663Z"
   },
   {
    "duration": 1601,
    "start_time": "2024-08-28T08:45:09.345Z"
   },
   {
    "duration": 159,
    "start_time": "2024-08-28T08:45:10.949Z"
   },
   {
    "duration": 35,
    "start_time": "2024-08-28T08:45:11.110Z"
   },
   {
    "duration": 37,
    "start_time": "2024-08-28T08:45:11.147Z"
   },
   {
    "duration": 10,
    "start_time": "2024-08-28T08:45:11.185Z"
   },
   {
    "duration": 15,
    "start_time": "2024-08-28T08:45:11.197Z"
   },
   {
    "duration": 24,
    "start_time": "2024-08-28T08:45:11.214Z"
   },
   {
    "duration": 51,
    "start_time": "2024-08-28T08:45:11.240Z"
   },
   {
    "duration": 85,
    "start_time": "2024-08-28T08:45:11.293Z"
   },
   {
    "duration": 53,
    "start_time": "2024-08-28T08:45:11.381Z"
   },
   {
    "duration": 11,
    "start_time": "2024-08-28T08:45:11.435Z"
   },
   {
    "duration": 28,
    "start_time": "2024-08-28T08:45:11.448Z"
   },
   {
    "duration": 9,
    "start_time": "2024-08-28T08:45:11.479Z"
   },
   {
    "duration": 10,
    "start_time": "2024-08-28T08:45:11.492Z"
   },
   {
    "duration": 140,
    "start_time": "2024-08-28T08:45:11.509Z"
   },
   {
    "duration": 11,
    "start_time": "2024-08-28T08:45:11.650Z"
   },
   {
    "duration": 185,
    "start_time": "2024-08-28T08:45:11.669Z"
   },
   {
    "duration": 51,
    "start_time": "2024-08-28T08:45:11.856Z"
   },
   {
    "duration": 232,
    "start_time": "2024-08-28T08:45:11.917Z"
   },
   {
    "duration": 23,
    "start_time": "2024-08-28T08:45:12.151Z"
   },
   {
    "duration": 162,
    "start_time": "2024-08-28T08:45:12.180Z"
   },
   {
    "duration": 38,
    "start_time": "2024-08-28T08:45:12.345Z"
   },
   {
    "duration": 412,
    "start_time": "2024-08-28T08:45:12.384Z"
   },
   {
    "duration": 604,
    "start_time": "2024-08-28T08:45:12.798Z"
   },
   {
    "duration": 12,
    "start_time": "2024-08-28T08:45:13.408Z"
   },
   {
    "duration": 23,
    "start_time": "2024-08-28T08:45:13.421Z"
   },
   {
    "duration": 659,
    "start_time": "2024-08-28T08:45:13.446Z"
   },
   {
    "duration": 8,
    "start_time": "2024-08-28T08:45:14.115Z"
   },
   {
    "duration": 43,
    "start_time": "2024-08-28T08:45:14.125Z"
   },
   {
    "duration": 282,
    "start_time": "2024-08-28T08:45:14.174Z"
   },
   {
    "duration": 29,
    "start_time": "2024-08-28T08:45:14.458Z"
   },
   {
    "duration": 29,
    "start_time": "2024-08-28T08:45:14.488Z"
   },
   {
    "duration": 41,
    "start_time": "2024-08-28T08:45:14.519Z"
   },
   {
    "duration": 578,
    "start_time": "2024-08-28T08:45:14.562Z"
   },
   {
    "duration": 8,
    "start_time": "2024-08-28T08:45:15.142Z"
   },
   {
    "duration": 67,
    "start_time": "2024-08-28T08:45:15.152Z"
   },
   {
    "duration": 518,
    "start_time": "2024-08-28T08:45:15.222Z"
   },
   {
    "duration": 7,
    "start_time": "2024-08-28T08:45:15.741Z"
   },
   {
    "duration": 98,
    "start_time": "2024-08-28T08:45:15.750Z"
   },
   {
    "duration": 28,
    "start_time": "2024-08-28T08:45:15.850Z"
   },
   {
    "duration": 444,
    "start_time": "2024-08-28T08:45:15.881Z"
   },
   {
    "duration": 9,
    "start_time": "2024-08-28T08:45:16.327Z"
   },
   {
    "duration": 55,
    "start_time": "2024-08-28T08:45:16.338Z"
   },
   {
    "duration": 32,
    "start_time": "2024-08-28T08:45:16.397Z"
   },
   {
    "duration": 16,
    "start_time": "2024-08-28T08:45:16.431Z"
   },
   {
    "duration": 49,
    "start_time": "2024-08-28T08:45:16.449Z"
   },
   {
    "duration": 19,
    "start_time": "2024-08-28T08:45:16.504Z"
   },
   {
    "duration": 16,
    "start_time": "2024-08-28T08:45:16.524Z"
   },
   {
    "duration": 45,
    "start_time": "2024-08-28T08:45:16.542Z"
   },
   {
    "duration": 29,
    "start_time": "2024-08-28T08:45:16.590Z"
   },
   {
    "duration": 15,
    "start_time": "2024-08-28T08:45:16.621Z"
   },
   {
    "duration": 23,
    "start_time": "2024-08-28T08:45:16.638Z"
   },
   {
    "duration": 45,
    "start_time": "2024-08-28T08:45:16.663Z"
   },
   {
    "duration": 46,
    "start_time": "2024-08-28T08:45:16.714Z"
   },
   {
    "duration": 59,
    "start_time": "2024-08-28T08:45:16.762Z"
   },
   {
    "duration": 19,
    "start_time": "2024-08-28T08:45:16.823Z"
   },
   {
    "duration": 75,
    "start_time": "2024-08-28T08:45:16.843Z"
   },
   {
    "duration": 20,
    "start_time": "2024-08-28T08:45:16.924Z"
   },
   {
    "duration": 87,
    "start_time": "2024-08-28T08:45:16.946Z"
   },
   {
    "duration": 13,
    "start_time": "2024-08-28T08:45:17.036Z"
   },
   {
    "duration": 107,
    "start_time": "2024-08-28T08:45:17.051Z"
   },
   {
    "duration": 54,
    "start_time": "2024-08-28T08:45:17.160Z"
   },
   {
    "duration": 38,
    "start_time": "2024-08-28T08:45:17.216Z"
   },
   {
    "duration": 16,
    "start_time": "2024-08-28T08:45:17.256Z"
   },
   {
    "duration": 149,
    "start_time": "2024-08-28T08:45:17.274Z"
   },
   {
    "duration": 13,
    "start_time": "2024-08-28T08:45:17.425Z"
   },
   {
    "duration": 86,
    "start_time": "2024-08-28T08:45:17.440Z"
   },
   {
    "duration": 19,
    "start_time": "2024-08-28T08:45:17.528Z"
   },
   {
    "duration": 95,
    "start_time": "2024-08-28T08:45:17.549Z"
   },
   {
    "duration": 56,
    "start_time": "2024-08-28T08:45:17.646Z"
   },
   {
    "duration": 20,
    "start_time": "2024-08-28T08:45:17.704Z"
   },
   {
    "duration": 26,
    "start_time": "2024-08-28T08:45:17.726Z"
   },
   {
    "duration": 108,
    "start_time": "2024-08-28T08:45:17.755Z"
   },
   {
    "duration": 25,
    "start_time": "2024-08-28T08:45:17.865Z"
   },
   {
    "duration": 58,
    "start_time": "2024-08-28T08:45:17.892Z"
   },
   {
    "duration": 38,
    "start_time": "2024-08-28T08:45:17.951Z"
   },
   {
    "duration": 53,
    "start_time": "2024-08-28T08:45:17.994Z"
   },
   {
    "duration": 14,
    "start_time": "2024-08-28T08:45:18.049Z"
   },
   {
    "duration": 70,
    "start_time": "2024-08-28T08:45:18.064Z"
   },
   {
    "duration": 16,
    "start_time": "2024-08-28T08:45:18.136Z"
   },
   {
    "duration": 8,
    "start_time": "2024-08-28T08:46:33.653Z"
   },
   {
    "duration": 10,
    "start_time": "2024-08-28T08:46:34.813Z"
   },
   {
    "duration": 27,
    "start_time": "2024-08-28T08:47:24.869Z"
   },
   {
    "duration": 44,
    "start_time": "2024-08-28T08:47:37.090Z"
   },
   {
    "duration": 30,
    "start_time": "2024-08-28T08:47:49.351Z"
   },
   {
    "duration": 63,
    "start_time": "2024-08-28T08:47:53.869Z"
   },
   {
    "duration": 18,
    "start_time": "2024-08-28T08:48:09.214Z"
   },
   {
    "duration": 40,
    "start_time": "2024-08-28T08:48:12.503Z"
   },
   {
    "duration": 29,
    "start_time": "2024-08-28T08:48:20.358Z"
   },
   {
    "duration": 74,
    "start_time": "2024-08-28T08:48:29.736Z"
   },
   {
    "duration": 14,
    "start_time": "2024-08-28T08:48:46.344Z"
   },
   {
    "duration": 68,
    "start_time": "2024-08-28T08:49:02.251Z"
   },
   {
    "duration": 41,
    "start_time": "2024-08-28T08:51:15.655Z"
   },
   {
    "duration": 68,
    "start_time": "2024-08-28T08:51:57.774Z"
   },
   {
    "duration": 15,
    "start_time": "2024-08-28T08:52:09.474Z"
   },
   {
    "duration": 19,
    "start_time": "2024-08-28T08:52:32.287Z"
   },
   {
    "duration": 173,
    "start_time": "2024-08-28T08:53:15.836Z"
   },
   {
    "duration": 24,
    "start_time": "2024-08-28T08:53:22.006Z"
   },
   {
    "duration": 15,
    "start_time": "2024-08-28T08:53:45.912Z"
   },
   {
    "duration": 1234,
    "start_time": "2024-08-28T08:59:07.548Z"
   },
   {
    "duration": 251,
    "start_time": "2024-08-28T08:59:08.784Z"
   },
   {
    "duration": 44,
    "start_time": "2024-08-28T08:59:09.037Z"
   },
   {
    "duration": 19,
    "start_time": "2024-08-28T08:59:09.090Z"
   },
   {
    "duration": 23,
    "start_time": "2024-08-28T08:59:09.112Z"
   },
   {
    "duration": 26,
    "start_time": "2024-08-28T08:59:09.137Z"
   },
   {
    "duration": 66,
    "start_time": "2024-08-28T08:59:09.165Z"
   },
   {
    "duration": 19,
    "start_time": "2024-08-28T08:59:09.233Z"
   },
   {
    "duration": 7,
    "start_time": "2024-08-28T08:59:09.255Z"
   },
   {
    "duration": 57,
    "start_time": "2024-08-28T08:59:09.264Z"
   },
   {
    "duration": 15,
    "start_time": "2024-08-28T08:59:09.323Z"
   },
   {
    "duration": 22,
    "start_time": "2024-08-28T08:59:09.340Z"
   },
   {
    "duration": 87,
    "start_time": "2024-08-28T08:59:09.369Z"
   },
   {
    "duration": 6,
    "start_time": "2024-08-28T08:59:09.460Z"
   },
   {
    "duration": 151,
    "start_time": "2024-08-28T08:59:09.474Z"
   },
   {
    "duration": 13,
    "start_time": "2024-08-28T08:59:09.627Z"
   },
   {
    "duration": 192,
    "start_time": "2024-08-28T08:59:09.642Z"
   },
   {
    "duration": 23,
    "start_time": "2024-08-28T08:59:09.836Z"
   },
   {
    "duration": 199,
    "start_time": "2024-08-28T08:59:09.864Z"
   },
   {
    "duration": 34,
    "start_time": "2024-08-28T08:59:10.064Z"
   },
   {
    "duration": 142,
    "start_time": "2024-08-28T08:59:10.101Z"
   },
   {
    "duration": 44,
    "start_time": "2024-08-28T08:59:10.245Z"
   },
   {
    "duration": 324,
    "start_time": "2024-08-28T08:59:10.296Z"
   },
   {
    "duration": 582,
    "start_time": "2024-08-28T08:59:10.621Z"
   },
   {
    "duration": 8,
    "start_time": "2024-08-28T08:59:11.205Z"
   },
   {
    "duration": 95,
    "start_time": "2024-08-28T08:59:11.215Z"
   },
   {
    "duration": 649,
    "start_time": "2024-08-28T08:59:11.312Z"
   },
   {
    "duration": 10,
    "start_time": "2024-08-28T08:59:11.970Z"
   },
   {
    "duration": 41,
    "start_time": "2024-08-28T08:59:11.982Z"
   },
   {
    "duration": 275,
    "start_time": "2024-08-28T08:59:12.025Z"
   },
   {
    "duration": 6,
    "start_time": "2024-08-28T08:59:12.302Z"
   },
   {
    "duration": 53,
    "start_time": "2024-08-28T08:59:12.310Z"
   },
   {
    "duration": 28,
    "start_time": "2024-08-28T08:59:12.369Z"
   },
   {
    "duration": 458,
    "start_time": "2024-08-28T08:59:12.398Z"
   },
   {
    "duration": 28,
    "start_time": "2024-08-28T08:59:12.859Z"
   },
   {
    "duration": 20,
    "start_time": "2024-08-28T08:59:12.890Z"
   },
   {
    "duration": 501,
    "start_time": "2024-08-28T08:59:12.912Z"
   },
   {
    "duration": 7,
    "start_time": "2024-08-28T08:59:13.416Z"
   },
   {
    "duration": 85,
    "start_time": "2024-08-28T08:59:13.425Z"
   },
   {
    "duration": 13,
    "start_time": "2024-08-28T08:59:13.511Z"
   },
   {
    "duration": 476,
    "start_time": "2024-08-28T08:59:13.528Z"
   },
   {
    "duration": 10,
    "start_time": "2024-08-28T08:59:14.006Z"
   },
   {
    "duration": 17,
    "start_time": "2024-08-28T08:59:14.018Z"
   },
   {
    "duration": 36,
    "start_time": "2024-08-28T08:59:14.037Z"
   },
   {
    "duration": 23,
    "start_time": "2024-08-28T08:59:14.075Z"
   },
   {
    "duration": 19,
    "start_time": "2024-08-28T08:59:14.100Z"
   },
   {
    "duration": 33,
    "start_time": "2024-08-28T08:59:14.121Z"
   },
   {
    "duration": 52,
    "start_time": "2024-08-28T08:59:14.156Z"
   },
   {
    "duration": 22,
    "start_time": "2024-08-28T08:59:14.210Z"
   },
   {
    "duration": 57,
    "start_time": "2024-08-28T08:59:14.233Z"
   },
   {
    "duration": 17,
    "start_time": "2024-08-28T08:59:14.295Z"
   },
   {
    "duration": 19,
    "start_time": "2024-08-28T08:59:14.313Z"
   },
   {
    "duration": 51,
    "start_time": "2024-08-28T08:59:14.334Z"
   },
   {
    "duration": 19,
    "start_time": "2024-08-28T08:59:14.386Z"
   },
   {
    "duration": 14,
    "start_time": "2024-08-28T08:59:14.407Z"
   },
   {
    "duration": 20,
    "start_time": "2024-08-28T08:59:14.423Z"
   },
   {
    "duration": 71,
    "start_time": "2024-08-28T08:59:14.445Z"
   },
   {
    "duration": 14,
    "start_time": "2024-08-28T08:59:14.517Z"
   },
   {
    "duration": 57,
    "start_time": "2024-08-28T08:59:14.533Z"
   },
   {
    "duration": 16,
    "start_time": "2024-08-28T08:59:14.591Z"
   },
   {
    "duration": 36,
    "start_time": "2024-08-28T08:59:14.609Z"
   },
   {
    "duration": 36,
    "start_time": "2024-08-28T08:59:14.646Z"
   },
   {
    "duration": 44,
    "start_time": "2024-08-28T08:59:14.684Z"
   },
   {
    "duration": 14,
    "start_time": "2024-08-28T08:59:14.730Z"
   },
   {
    "duration": 67,
    "start_time": "2024-08-28T08:59:14.746Z"
   },
   {
    "duration": 14,
    "start_time": "2024-08-28T08:59:14.815Z"
   },
   {
    "duration": 67,
    "start_time": "2024-08-28T08:59:14.831Z"
   },
   {
    "duration": 21,
    "start_time": "2024-08-28T08:59:14.902Z"
   },
   {
    "duration": 58,
    "start_time": "2024-08-28T08:59:14.925Z"
   },
   {
    "duration": 20,
    "start_time": "2024-08-28T08:59:14.987Z"
   },
   {
    "duration": 20,
    "start_time": "2024-08-28T08:59:15.009Z"
   },
   {
    "duration": 69,
    "start_time": "2024-08-28T08:59:15.031Z"
   },
   {
    "duration": 45,
    "start_time": "2024-08-28T08:59:15.102Z"
   },
   {
    "duration": 14,
    "start_time": "2024-08-28T08:59:15.149Z"
   },
   {
    "duration": 160,
    "start_time": "2024-08-28T08:59:15.172Z"
   },
   {
    "duration": 14,
    "start_time": "2024-08-28T08:59:15.333Z"
   },
   {
    "duration": 159,
    "start_time": "2024-08-28T08:59:15.349Z"
   },
   {
    "duration": 15,
    "start_time": "2024-08-28T08:59:15.509Z"
   },
   {
    "duration": 70,
    "start_time": "2024-08-28T08:59:15.526Z"
   },
   {
    "duration": 17,
    "start_time": "2024-08-28T08:59:15.602Z"
   },
   {
    "duration": 17,
    "start_time": "2024-08-28T09:20:59.135Z"
   },
   {
    "duration": 74,
    "start_time": "2024-08-28T09:21:05.946Z"
   },
   {
    "duration": 27,
    "start_time": "2024-08-28T09:40:17.394Z"
   },
   {
    "duration": 42,
    "start_time": "2024-08-28T09:40:24.227Z"
   },
   {
    "duration": 42,
    "start_time": "2024-08-28T09:56:13.918Z"
   },
   {
    "duration": 65,
    "start_time": "2024-08-28T09:57:03.738Z"
   },
   {
    "duration": 154,
    "start_time": "2024-08-28T09:57:21.417Z"
   },
   {
    "duration": 17,
    "start_time": "2024-08-28T09:57:30.350Z"
   },
   {
    "duration": 52,
    "start_time": "2024-08-28T09:58:00.735Z"
   },
   {
    "duration": 16,
    "start_time": "2024-08-28T09:58:19.638Z"
   },
   {
    "duration": 44,
    "start_time": "2024-08-28T09:58:24.881Z"
   },
   {
    "duration": 19,
    "start_time": "2024-08-28T10:01:31.199Z"
   },
   {
    "duration": 17,
    "start_time": "2024-08-28T10:02:50.054Z"
   },
   {
    "duration": 5,
    "start_time": "2024-08-28T10:03:32.598Z"
   },
   {
    "duration": 19,
    "start_time": "2024-08-28T10:03:47.744Z"
   },
   {
    "duration": 19,
    "start_time": "2024-08-28T10:04:33.482Z"
   },
   {
    "duration": 17,
    "start_time": "2024-08-28T10:07:21.608Z"
   },
   {
    "duration": 16,
    "start_time": "2024-08-28T10:07:56.537Z"
   },
   {
    "duration": 14,
    "start_time": "2024-08-28T10:08:37.692Z"
   },
   {
    "duration": 17,
    "start_time": "2024-08-28T10:10:13.948Z"
   },
   {
    "duration": 21,
    "start_time": "2024-08-28T10:11:08.556Z"
   },
   {
    "duration": 89,
    "start_time": "2024-08-28T10:11:35.141Z"
   },
   {
    "duration": 74,
    "start_time": "2024-08-28T10:11:54.857Z"
   },
   {
    "duration": 16,
    "start_time": "2024-08-28T10:12:12.417Z"
   },
   {
    "duration": 31,
    "start_time": "2024-08-28T10:12:44.895Z"
   },
   {
    "duration": 18,
    "start_time": "2024-08-28T10:13:17.335Z"
   },
   {
    "duration": 45,
    "start_time": "2024-08-28T10:13:29.320Z"
   },
   {
    "duration": 19,
    "start_time": "2024-08-28T10:13:33.159Z"
   },
   {
    "duration": 26,
    "start_time": "2024-08-28T10:13:57.891Z"
   },
   {
    "duration": 22,
    "start_time": "2024-08-28T10:14:34.332Z"
   },
   {
    "duration": 19,
    "start_time": "2024-08-28T10:14:41.946Z"
   },
   {
    "duration": 1283,
    "start_time": "2024-08-28T11:08:26.201Z"
   },
   {
    "duration": 1208,
    "start_time": "2024-08-28T11:08:36.870Z"
   },
   {
    "duration": 1118,
    "start_time": "2024-08-28T11:10:40.412Z"
   },
   {
    "duration": 1133,
    "start_time": "2024-08-28T11:11:15.923Z"
   },
   {
    "duration": 451,
    "start_time": "2024-08-28T11:14:53.786Z"
   },
   {
    "duration": 30,
    "start_time": "2024-08-28T11:15:04.783Z"
   },
   {
    "duration": 78,
    "start_time": "2024-08-28T11:15:07.752Z"
   },
   {
    "duration": 470,
    "start_time": "2024-08-28T11:15:10.862Z"
   },
   {
    "duration": 408,
    "start_time": "2024-08-28T11:15:20.410Z"
   },
   {
    "duration": 407,
    "start_time": "2024-08-28T11:15:30.071Z"
   },
   {
    "duration": 527,
    "start_time": "2024-08-28T11:16:26.761Z"
   },
   {
    "duration": 683,
    "start_time": "2024-08-28T11:16:36.994Z"
   },
   {
    "duration": 462,
    "start_time": "2024-08-28T11:18:06.129Z"
   },
   {
    "duration": 399,
    "start_time": "2024-08-28T11:18:36.456Z"
   },
   {
    "duration": 426,
    "start_time": "2024-08-28T11:18:41.433Z"
   },
   {
    "duration": 370,
    "start_time": "2024-08-28T11:18:49.386Z"
   },
   {
    "duration": 461,
    "start_time": "2024-08-28T11:18:55.025Z"
   },
   {
    "duration": 435,
    "start_time": "2024-08-28T11:19:01.507Z"
   },
   {
    "duration": 431,
    "start_time": "2024-08-28T11:19:13.080Z"
   },
   {
    "duration": 32,
    "start_time": "2024-08-28T11:51:44.274Z"
   },
   {
    "duration": 3,
    "start_time": "2024-08-28T11:52:16.287Z"
   },
   {
    "duration": 1354,
    "start_time": "2024-08-28T11:52:20.809Z"
   },
   {
    "duration": 157,
    "start_time": "2024-08-28T11:52:22.165Z"
   },
   {
    "duration": 35,
    "start_time": "2024-08-28T11:52:22.323Z"
   },
   {
    "duration": 45,
    "start_time": "2024-08-28T11:52:22.360Z"
   },
   {
    "duration": 103,
    "start_time": "2024-08-28T11:52:22.408Z"
   },
   {
    "duration": 49,
    "start_time": "2024-08-28T11:52:22.513Z"
   },
   {
    "duration": 56,
    "start_time": "2024-08-28T11:52:22.564Z"
   },
   {
    "duration": 64,
    "start_time": "2024-08-28T11:52:22.622Z"
   },
   {
    "duration": 30,
    "start_time": "2024-08-28T11:52:22.688Z"
   },
   {
    "duration": 77,
    "start_time": "2024-08-28T11:52:22.720Z"
   },
   {
    "duration": 13,
    "start_time": "2024-08-28T11:52:22.801Z"
   },
   {
    "duration": 41,
    "start_time": "2024-08-28T11:52:22.816Z"
   },
   {
    "duration": 70,
    "start_time": "2024-08-28T11:52:22.859Z"
   },
   {
    "duration": 1324,
    "start_time": "2024-08-28T11:52:22.932Z"
   },
   {
    "duration": 136,
    "start_time": "2024-08-28T11:52:24.258Z"
   },
   {
    "duration": 0,
    "start_time": "2024-08-28T11:52:24.396Z"
   },
   {
    "duration": 0,
    "start_time": "2024-08-28T11:52:24.398Z"
   },
   {
    "duration": 0,
    "start_time": "2024-08-28T11:52:24.399Z"
   },
   {
    "duration": 0,
    "start_time": "2024-08-28T11:52:24.400Z"
   },
   {
    "duration": 0,
    "start_time": "2024-08-28T11:52:24.402Z"
   },
   {
    "duration": 0,
    "start_time": "2024-08-28T11:52:24.403Z"
   },
   {
    "duration": 0,
    "start_time": "2024-08-28T11:52:24.404Z"
   },
   {
    "duration": 0,
    "start_time": "2024-08-28T11:52:24.406Z"
   },
   {
    "duration": 0,
    "start_time": "2024-08-28T11:52:24.407Z"
   },
   {
    "duration": 0,
    "start_time": "2024-08-28T11:52:24.408Z"
   },
   {
    "duration": 0,
    "start_time": "2024-08-28T11:52:24.410Z"
   },
   {
    "duration": 0,
    "start_time": "2024-08-28T11:52:24.411Z"
   },
   {
    "duration": 0,
    "start_time": "2024-08-28T11:52:24.412Z"
   },
   {
    "duration": 0,
    "start_time": "2024-08-28T11:52:24.414Z"
   },
   {
    "duration": 0,
    "start_time": "2024-08-28T11:52:24.415Z"
   },
   {
    "duration": 0,
    "start_time": "2024-08-28T11:52:24.416Z"
   },
   {
    "duration": 0,
    "start_time": "2024-08-28T11:52:24.417Z"
   },
   {
    "duration": 0,
    "start_time": "2024-08-28T11:52:24.418Z"
   },
   {
    "duration": 0,
    "start_time": "2024-08-28T11:52:24.420Z"
   },
   {
    "duration": 0,
    "start_time": "2024-08-28T11:52:24.422Z"
   },
   {
    "duration": 0,
    "start_time": "2024-08-28T11:52:24.423Z"
   },
   {
    "duration": 0,
    "start_time": "2024-08-28T11:52:24.425Z"
   },
   {
    "duration": 0,
    "start_time": "2024-08-28T11:52:24.426Z"
   },
   {
    "duration": 0,
    "start_time": "2024-08-28T11:52:24.428Z"
   },
   {
    "duration": 0,
    "start_time": "2024-08-28T11:52:24.429Z"
   },
   {
    "duration": 0,
    "start_time": "2024-08-28T11:52:24.431Z"
   },
   {
    "duration": 0,
    "start_time": "2024-08-28T11:52:24.432Z"
   },
   {
    "duration": 0,
    "start_time": "2024-08-28T11:52:24.434Z"
   },
   {
    "duration": 0,
    "start_time": "2024-08-28T11:52:24.473Z"
   },
   {
    "duration": 0,
    "start_time": "2024-08-28T11:52:24.475Z"
   },
   {
    "duration": 0,
    "start_time": "2024-08-28T11:52:24.475Z"
   },
   {
    "duration": 0,
    "start_time": "2024-08-28T11:52:24.476Z"
   },
   {
    "duration": 0,
    "start_time": "2024-08-28T11:52:24.477Z"
   },
   {
    "duration": 0,
    "start_time": "2024-08-28T11:52:24.478Z"
   },
   {
    "duration": 13,
    "start_time": "2024-08-28T11:54:02.426Z"
   },
   {
    "duration": 45,
    "start_time": "2024-08-28T11:54:38.164Z"
   },
   {
    "duration": 11,
    "start_time": "2024-08-28T11:55:14.025Z"
   },
   {
    "duration": 16,
    "start_time": "2024-08-28T11:55:19.102Z"
   },
   {
    "duration": 418,
    "start_time": "2024-08-28T11:55:27.686Z"
   },
   {
    "duration": 1283,
    "start_time": "2024-08-28T11:55:32.943Z"
   },
   {
    "duration": 95,
    "start_time": "2024-08-28T11:55:34.228Z"
   },
   {
    "duration": 50,
    "start_time": "2024-08-28T11:55:34.324Z"
   },
   {
    "duration": 64,
    "start_time": "2024-08-28T11:55:34.377Z"
   },
   {
    "duration": 53,
    "start_time": "2024-08-28T11:55:34.443Z"
   },
   {
    "duration": 15,
    "start_time": "2024-08-28T11:55:34.498Z"
   },
   {
    "duration": 23,
    "start_time": "2024-08-28T11:55:34.515Z"
   },
   {
    "duration": 13,
    "start_time": "2024-08-28T11:55:34.540Z"
   },
   {
    "duration": 28,
    "start_time": "2024-08-28T11:55:34.555Z"
   },
   {
    "duration": 121,
    "start_time": "2024-08-28T11:55:34.587Z"
   },
   {
    "duration": 21,
    "start_time": "2024-08-28T11:55:34.718Z"
   },
   {
    "duration": 37,
    "start_time": "2024-08-28T11:55:34.741Z"
   },
   {
    "duration": 31,
    "start_time": "2024-08-28T11:55:34.780Z"
   },
   {
    "duration": 1276,
    "start_time": "2024-08-28T11:55:34.814Z"
   },
   {
    "duration": 419,
    "start_time": "2024-08-28T11:55:36.095Z"
   },
   {
    "duration": 10,
    "start_time": "2024-08-28T11:55:36.517Z"
   },
   {
    "duration": 158,
    "start_time": "2024-08-28T11:55:36.529Z"
   },
   {
    "duration": 20,
    "start_time": "2024-08-28T11:55:36.689Z"
   },
   {
    "duration": 148,
    "start_time": "2024-08-28T11:55:36.711Z"
   },
   {
    "duration": 35,
    "start_time": "2024-08-28T11:55:36.861Z"
   },
   {
    "duration": 197,
    "start_time": "2024-08-28T11:55:36.907Z"
   },
   {
    "duration": 30,
    "start_time": "2024-08-28T11:55:37.106Z"
   },
   {
    "duration": 180,
    "start_time": "2024-08-28T11:55:37.140Z"
   },
   {
    "duration": 639,
    "start_time": "2024-08-28T11:55:37.321Z"
   },
   {
    "duration": 18,
    "start_time": "2024-08-28T11:55:37.961Z"
   },
   {
    "duration": 13,
    "start_time": "2024-08-28T11:55:37.981Z"
   },
   {
    "duration": 560,
    "start_time": "2024-08-28T11:55:37.996Z"
   },
   {
    "duration": 10,
    "start_time": "2024-08-28T11:55:38.560Z"
   },
   {
    "duration": 14,
    "start_time": "2024-08-28T11:55:38.577Z"
   },
   {
    "duration": 288,
    "start_time": "2024-08-28T11:55:38.593Z"
   },
   {
    "duration": 9,
    "start_time": "2024-08-28T11:55:38.883Z"
   },
   {
    "duration": 16,
    "start_time": "2024-08-28T11:55:38.894Z"
   },
   {
    "duration": 18,
    "start_time": "2024-08-28T11:55:38.912Z"
   },
   {
    "duration": 559,
    "start_time": "2024-08-28T11:55:38.932Z"
   },
   {
    "duration": 11,
    "start_time": "2024-08-28T11:55:39.492Z"
   },
   {
    "duration": 13,
    "start_time": "2024-08-28T11:55:39.505Z"
   },
   {
    "duration": 450,
    "start_time": "2024-08-28T11:55:39.519Z"
   },
   {
    "duration": 21,
    "start_time": "2024-08-28T11:55:39.976Z"
   },
   {
    "duration": 18,
    "start_time": "2024-08-28T11:55:40.001Z"
   },
   {
    "duration": 66,
    "start_time": "2024-08-28T11:55:40.021Z"
   },
   {
    "duration": 445,
    "start_time": "2024-08-28T11:55:40.089Z"
   },
   {
    "duration": 10,
    "start_time": "2024-08-28T11:55:40.536Z"
   },
   {
    "duration": 56,
    "start_time": "2024-08-28T11:55:40.547Z"
   },
   {
    "duration": 24,
    "start_time": "2024-08-28T11:55:40.608Z"
   },
   {
    "duration": 34,
    "start_time": "2024-08-28T11:55:40.635Z"
   },
   {
    "duration": 34,
    "start_time": "2024-08-28T11:55:40.674Z"
   },
   {
    "duration": 43,
    "start_time": "2024-08-28T11:55:40.710Z"
   },
   {
    "duration": 60,
    "start_time": "2024-08-28T11:55:40.754Z"
   },
   {
    "duration": 1234,
    "start_time": "2024-08-28T11:55:40.823Z"
   },
   {
    "duration": 8,
    "start_time": "2024-08-28T11:55:57.115Z"
   },
   {
    "duration": 19,
    "start_time": "2024-08-28T11:59:54.779Z"
   },
   {
    "duration": 1333,
    "start_time": "2024-08-28T12:55:53.711Z"
   },
   {
    "duration": 114,
    "start_time": "2024-08-28T12:55:55.046Z"
   },
   {
    "duration": 1183,
    "start_time": "2024-08-28T12:55:55.162Z"
   },
   {
    "duration": 85,
    "start_time": "2024-08-28T12:55:56.348Z"
   },
   {
    "duration": 56,
    "start_time": "2024-08-28T12:55:56.435Z"
   },
   {
    "duration": 20,
    "start_time": "2024-08-28T12:55:56.494Z"
   },
   {
    "duration": 23,
    "start_time": "2024-08-28T12:55:56.516Z"
   },
   {
    "duration": 9,
    "start_time": "2024-08-28T12:55:56.541Z"
   },
   {
    "duration": 101,
    "start_time": "2024-08-28T12:55:56.552Z"
   },
   {
    "duration": 59,
    "start_time": "2024-08-28T12:55:56.656Z"
   },
   {
    "duration": 13,
    "start_time": "2024-08-28T12:55:56.717Z"
   },
   {
    "duration": 52,
    "start_time": "2024-08-28T12:55:56.732Z"
   },
   {
    "duration": 8,
    "start_time": "2024-08-28T12:55:56.785Z"
   },
   {
    "duration": 1980,
    "start_time": "2024-08-28T12:55:56.794Z"
   },
   {
    "duration": 536,
    "start_time": "2024-08-28T12:55:58.777Z"
   },
   {
    "duration": 6,
    "start_time": "2024-08-28T12:55:59.314Z"
   },
   {
    "duration": 161,
    "start_time": "2024-08-28T12:55:59.322Z"
   },
   {
    "duration": 12,
    "start_time": "2024-08-28T12:55:59.485Z"
   },
   {
    "duration": 145,
    "start_time": "2024-08-28T12:55:59.498Z"
   },
   {
    "duration": 36,
    "start_time": "2024-08-28T12:55:59.645Z"
   },
   {
    "duration": 193,
    "start_time": "2024-08-28T12:55:59.682Z"
   },
   {
    "duration": 21,
    "start_time": "2024-08-28T12:55:59.877Z"
   },
   {
    "duration": 147,
    "start_time": "2024-08-28T12:55:59.900Z"
   },
   {
    "duration": 615,
    "start_time": "2024-08-28T12:56:00.049Z"
   },
   {
    "duration": 14,
    "start_time": "2024-08-28T12:56:00.667Z"
   },
   {
    "duration": 22,
    "start_time": "2024-08-28T12:56:00.683Z"
   },
   {
    "duration": 592,
    "start_time": "2024-08-28T12:56:00.707Z"
   },
   {
    "duration": 8,
    "start_time": "2024-08-28T12:56:01.303Z"
   },
   {
    "duration": 22,
    "start_time": "2024-08-28T12:56:01.312Z"
   },
   {
    "duration": 262,
    "start_time": "2024-08-28T12:56:01.336Z"
   },
   {
    "duration": 7,
    "start_time": "2024-08-28T12:56:01.600Z"
   },
   {
    "duration": 73,
    "start_time": "2024-08-28T12:56:01.609Z"
   },
   {
    "duration": 43,
    "start_time": "2024-08-28T12:56:01.684Z"
   },
   {
    "duration": 490,
    "start_time": "2024-08-28T12:56:01.730Z"
   },
   {
    "duration": 10,
    "start_time": "2024-08-28T12:56:02.221Z"
   },
   {
    "duration": 64,
    "start_time": "2024-08-28T12:56:02.232Z"
   },
   {
    "duration": 427,
    "start_time": "2024-08-28T12:56:02.297Z"
   },
   {
    "duration": 8,
    "start_time": "2024-08-28T12:56:02.725Z"
   },
   {
    "duration": 87,
    "start_time": "2024-08-28T12:56:02.735Z"
   },
   {
    "duration": 18,
    "start_time": "2024-08-28T12:56:02.824Z"
   },
   {
    "duration": 441,
    "start_time": "2024-08-28T12:56:02.844Z"
   },
   {
    "duration": 9,
    "start_time": "2024-08-28T12:56:03.287Z"
   },
   {
    "duration": 31,
    "start_time": "2024-08-28T12:56:03.297Z"
   },
   {
    "duration": 13,
    "start_time": "2024-08-28T12:56:03.329Z"
   },
   {
    "duration": 21,
    "start_time": "2024-08-28T12:56:03.343Z"
   },
   {
    "duration": 25,
    "start_time": "2024-08-28T12:56:03.366Z"
   },
   {
    "duration": 15,
    "start_time": "2024-08-28T12:56:03.393Z"
   },
   {
    "duration": 164,
    "start_time": "2024-08-28T12:56:03.410Z"
   },
   {
    "duration": 12,
    "start_time": "2024-08-28T12:56:03.576Z"
   },
   {
    "duration": 32,
    "start_time": "2024-08-28T12:56:03.590Z"
   },
   {
    "duration": 1391,
    "start_time": "2024-08-29T12:29:08.706Z"
   },
   {
    "duration": 65,
    "start_time": "2024-08-29T12:29:10.099Z"
   },
   {
    "duration": 35,
    "start_time": "2024-08-29T12:29:10.166Z"
   },
   {
    "duration": 14,
    "start_time": "2024-08-29T12:29:10.204Z"
   },
   {
    "duration": 12,
    "start_time": "2024-08-29T12:29:10.219Z"
   },
   {
    "duration": 8,
    "start_time": "2024-08-29T12:29:10.233Z"
   },
   {
    "duration": 11,
    "start_time": "2024-08-29T12:29:10.242Z"
   },
   {
    "duration": 5,
    "start_time": "2024-08-29T12:29:10.255Z"
   },
   {
    "duration": 18,
    "start_time": "2024-08-29T12:29:10.262Z"
   },
   {
    "duration": 62,
    "start_time": "2024-08-29T12:29:10.283Z"
   },
   {
    "duration": 11,
    "start_time": "2024-08-29T12:29:10.347Z"
   },
   {
    "duration": 14,
    "start_time": "2024-08-29T12:29:10.360Z"
   },
   {
    "duration": 7,
    "start_time": "2024-08-29T12:29:10.376Z"
   },
   {
    "duration": 1081,
    "start_time": "2024-08-29T12:29:10.384Z"
   },
   {
    "duration": 382,
    "start_time": "2024-08-29T12:29:11.467Z"
   },
   {
    "duration": 5,
    "start_time": "2024-08-29T12:29:11.850Z"
   },
   {
    "duration": 115,
    "start_time": "2024-08-29T12:29:11.857Z"
   },
   {
    "duration": 11,
    "start_time": "2024-08-29T12:29:11.973Z"
   },
   {
    "duration": 145,
    "start_time": "2024-08-29T12:29:11.985Z"
   },
   {
    "duration": 22,
    "start_time": "2024-08-29T12:29:12.132Z"
   },
   {
    "duration": 190,
    "start_time": "2024-08-29T12:29:12.155Z"
   },
   {
    "duration": 15,
    "start_time": "2024-08-29T12:29:12.346Z"
   },
   {
    "duration": 149,
    "start_time": "2024-08-29T12:29:12.363Z"
   },
   {
    "duration": 597,
    "start_time": "2024-08-29T12:29:12.513Z"
   },
   {
    "duration": 8,
    "start_time": "2024-08-29T12:29:13.112Z"
   },
   {
    "duration": 18,
    "start_time": "2024-08-29T12:29:13.122Z"
   },
   {
    "duration": 445,
    "start_time": "2024-08-29T12:29:13.142Z"
   },
   {
    "duration": 17,
    "start_time": "2024-08-29T12:29:13.592Z"
   },
   {
    "duration": 11,
    "start_time": "2024-08-29T12:29:13.610Z"
   },
   {
    "duration": 247,
    "start_time": "2024-08-29T12:29:13.623Z"
   },
   {
    "duration": 6,
    "start_time": "2024-08-29T12:29:13.872Z"
   },
   {
    "duration": 44,
    "start_time": "2024-08-29T12:29:13.880Z"
   },
   {
    "duration": 60,
    "start_time": "2024-08-29T12:29:13.925Z"
   },
   {
    "duration": 456,
    "start_time": "2024-08-29T12:29:13.987Z"
   },
   {
    "duration": 10,
    "start_time": "2024-08-29T12:29:14.446Z"
   },
   {
    "duration": 12,
    "start_time": "2024-08-29T12:29:14.457Z"
   },
   {
    "duration": 383,
    "start_time": "2024-08-29T12:29:14.470Z"
   },
   {
    "duration": 7,
    "start_time": "2024-08-29T12:29:14.854Z"
   },
   {
    "duration": 21,
    "start_time": "2024-08-29T12:29:14.862Z"
   },
   {
    "duration": 6,
    "start_time": "2024-08-29T12:29:14.885Z"
   },
   {
    "duration": 382,
    "start_time": "2024-08-29T12:29:14.892Z"
   },
   {
    "duration": 7,
    "start_time": "2024-08-29T12:29:15.276Z"
   },
   {
    "duration": 32,
    "start_time": "2024-08-29T12:29:15.285Z"
   },
   {
    "duration": 55,
    "start_time": "2024-08-29T12:29:15.318Z"
   },
   {
    "duration": 24,
    "start_time": "2024-08-29T12:29:15.374Z"
   },
   {
    "duration": 17,
    "start_time": "2024-08-29T12:29:15.400Z"
   },
   {
    "duration": 32,
    "start_time": "2024-08-29T12:29:15.418Z"
   },
   {
    "duration": 151,
    "start_time": "2024-08-29T12:29:15.452Z"
   },
   {
    "duration": 9,
    "start_time": "2024-08-29T12:29:15.604Z"
   },
   {
    "duration": 21,
    "start_time": "2024-08-29T12:29:15.614Z"
   },
   {
    "duration": 1340,
    "start_time": "2024-08-29T15:38:02.441Z"
   },
   {
    "duration": 152,
    "start_time": "2024-08-29T15:38:03.783Z"
   },
   {
    "duration": 34,
    "start_time": "2024-08-29T15:38:03.937Z"
   },
   {
    "duration": 14,
    "start_time": "2024-08-29T15:38:03.973Z"
   },
   {
    "duration": 21,
    "start_time": "2024-08-29T15:38:03.989Z"
   },
   {
    "duration": 9,
    "start_time": "2024-08-29T15:38:04.011Z"
   },
   {
    "duration": 11,
    "start_time": "2024-08-29T15:38:04.021Z"
   },
   {
    "duration": 6,
    "start_time": "2024-08-29T15:38:04.034Z"
   },
   {
    "duration": 14,
    "start_time": "2024-08-29T15:38:04.042Z"
   },
   {
    "duration": 69,
    "start_time": "2024-08-29T15:38:04.057Z"
   },
   {
    "duration": 11,
    "start_time": "2024-08-29T15:38:04.128Z"
   },
   {
    "duration": 12,
    "start_time": "2024-08-29T15:38:04.141Z"
   },
   {
    "duration": 8,
    "start_time": "2024-08-29T15:38:04.154Z"
   },
   {
    "duration": 1073,
    "start_time": "2024-08-29T15:38:04.165Z"
   },
   {
    "duration": 391,
    "start_time": "2024-08-29T15:38:05.239Z"
   },
   {
    "duration": 6,
    "start_time": "2024-08-29T15:38:05.632Z"
   },
   {
    "duration": 176,
    "start_time": "2024-08-29T15:38:05.639Z"
   },
   {
    "duration": 11,
    "start_time": "2024-08-29T15:38:05.817Z"
   },
   {
    "duration": 146,
    "start_time": "2024-08-29T15:38:05.830Z"
   },
   {
    "duration": 30,
    "start_time": "2024-08-29T15:38:05.978Z"
   },
   {
    "duration": 188,
    "start_time": "2024-08-29T15:38:06.010Z"
   },
   {
    "duration": 19,
    "start_time": "2024-08-29T15:38:06.199Z"
   },
   {
    "duration": 141,
    "start_time": "2024-08-29T15:38:06.219Z"
   },
   {
    "duration": 556,
    "start_time": "2024-08-29T15:38:06.362Z"
   },
   {
    "duration": 9,
    "start_time": "2024-08-29T15:38:06.919Z"
   },
   {
    "duration": 22,
    "start_time": "2024-08-29T15:38:06.929Z"
   },
   {
    "duration": 466,
    "start_time": "2024-08-29T15:38:06.953Z"
   },
   {
    "duration": 9,
    "start_time": "2024-08-29T15:38:07.420Z"
   },
   {
    "duration": 77,
    "start_time": "2024-08-29T15:38:07.430Z"
   },
   {
    "duration": 252,
    "start_time": "2024-08-29T15:38:07.508Z"
   },
   {
    "duration": 6,
    "start_time": "2024-08-29T15:38:07.762Z"
   },
   {
    "duration": 14,
    "start_time": "2024-08-29T15:38:07.770Z"
   },
   {
    "duration": 21,
    "start_time": "2024-08-29T15:38:07.786Z"
   },
   {
    "duration": 434,
    "start_time": "2024-08-29T15:38:07.809Z"
   },
   {
    "duration": 8,
    "start_time": "2024-08-29T15:38:08.245Z"
   },
   {
    "duration": 14,
    "start_time": "2024-08-29T15:38:08.254Z"
   },
   {
    "duration": 389,
    "start_time": "2024-08-29T15:38:08.269Z"
   },
   {
    "duration": 6,
    "start_time": "2024-08-29T15:38:08.660Z"
   },
   {
    "duration": 9,
    "start_time": "2024-08-29T15:38:08.668Z"
   },
   {
    "duration": 6,
    "start_time": "2024-08-29T15:38:08.679Z"
   },
   {
    "duration": 399,
    "start_time": "2024-08-29T15:38:08.706Z"
   },
   {
    "duration": 8,
    "start_time": "2024-08-29T15:38:09.106Z"
   },
   {
    "duration": 11,
    "start_time": "2024-08-29T15:38:09.116Z"
   },
   {
    "duration": 14,
    "start_time": "2024-08-29T15:38:09.129Z"
   },
   {
    "duration": 14,
    "start_time": "2024-08-29T15:38:09.145Z"
   },
   {
    "duration": 48,
    "start_time": "2024-08-29T15:38:09.160Z"
   },
   {
    "duration": 14,
    "start_time": "2024-08-29T15:38:09.210Z"
   },
   {
    "duration": 143,
    "start_time": "2024-08-29T15:38:09.225Z"
   },
   {
    "duration": 8,
    "start_time": "2024-08-29T15:38:09.369Z"
   },
   {
    "duration": 29,
    "start_time": "2024-08-29T15:38:09.379Z"
   },
   {
    "duration": 103,
    "start_time": "2024-08-29T15:38:26.057Z"
   },
   {
    "duration": 9,
    "start_time": "2024-08-29T15:40:06.669Z"
   },
   {
    "duration": 6394,
    "start_time": "2024-08-29T15:40:34.159Z"
   },
   {
    "duration": 55,
    "start_time": "2024-08-29T15:40:42.959Z"
   },
   {
    "duration": 2535,
    "start_time": "2024-08-29T15:40:49.574Z"
   },
   {
    "duration": 1217,
    "start_time": "2024-08-29T15:40:52.111Z"
   },
   {
    "duration": 69,
    "start_time": "2024-08-29T15:40:53.330Z"
   },
   {
    "duration": 35,
    "start_time": "2024-08-29T15:40:53.401Z"
   },
   {
    "duration": 83,
    "start_time": "2024-08-29T15:40:53.438Z"
   },
   {
    "duration": 7,
    "start_time": "2024-08-29T15:40:53.523Z"
   },
   {
    "duration": 15,
    "start_time": "2024-08-29T15:40:53.532Z"
   },
   {
    "duration": 11,
    "start_time": "2024-08-29T15:40:53.549Z"
   },
   {
    "duration": 7,
    "start_time": "2024-08-29T15:40:53.561Z"
   },
   {
    "duration": 9,
    "start_time": "2024-08-29T15:40:53.570Z"
   },
   {
    "duration": 44,
    "start_time": "2024-08-29T15:40:53.605Z"
   },
   {
    "duration": 11,
    "start_time": "2024-08-29T15:40:53.651Z"
   },
   {
    "duration": 6,
    "start_time": "2024-08-29T15:40:53.664Z"
   },
   {
    "duration": 10,
    "start_time": "2024-08-29T15:40:53.672Z"
   },
   {
    "duration": 641,
    "start_time": "2024-08-29T15:40:53.705Z"
   },
   {
    "duration": 1738,
    "start_time": "2024-08-29T15:40:54.348Z"
   },
   {
    "duration": 378,
    "start_time": "2024-08-29T15:40:56.087Z"
   },
   {
    "duration": 6,
    "start_time": "2024-08-29T15:40:56.466Z"
   },
   {
    "duration": 117,
    "start_time": "2024-08-29T15:40:56.473Z"
   },
   {
    "duration": 18,
    "start_time": "2024-08-29T15:40:56.592Z"
   },
   {
    "duration": 134,
    "start_time": "2024-08-29T15:40:56.612Z"
   },
   {
    "duration": 22,
    "start_time": "2024-08-29T15:40:56.747Z"
   },
   {
    "duration": 194,
    "start_time": "2024-08-29T15:40:56.771Z"
   },
   {
    "duration": 19,
    "start_time": "2024-08-29T15:40:56.967Z"
   },
   {
    "duration": 143,
    "start_time": "2024-08-29T15:40:56.988Z"
   },
   {
    "duration": 561,
    "start_time": "2024-08-29T15:40:57.133Z"
   },
   {
    "duration": 13,
    "start_time": "2024-08-29T15:40:57.696Z"
   },
   {
    "duration": 78,
    "start_time": "2024-08-29T15:40:57.712Z"
   },
   {
    "duration": 441,
    "start_time": "2024-08-29T15:40:57.792Z"
   },
   {
    "duration": 7,
    "start_time": "2024-08-29T15:40:58.235Z"
   },
   {
    "duration": 19,
    "start_time": "2024-08-29T15:40:58.244Z"
   },
   {
    "duration": 245,
    "start_time": "2024-08-29T15:40:58.265Z"
   },
   {
    "duration": 7,
    "start_time": "2024-08-29T15:40:58.512Z"
   },
   {
    "duration": 21,
    "start_time": "2024-08-29T15:40:58.520Z"
   },
   {
    "duration": 31,
    "start_time": "2024-08-29T15:40:58.542Z"
   },
   {
    "duration": 481,
    "start_time": "2024-08-29T15:40:58.575Z"
   },
   {
    "duration": 9,
    "start_time": "2024-08-29T15:40:59.057Z"
   },
   {
    "duration": 31,
    "start_time": "2024-08-29T15:40:59.067Z"
   },
   {
    "duration": 379,
    "start_time": "2024-08-29T15:40:59.100Z"
   },
   {
    "duration": 7,
    "start_time": "2024-08-29T15:40:59.480Z"
   },
   {
    "duration": 75,
    "start_time": "2024-08-29T15:40:59.489Z"
   },
   {
    "duration": 15,
    "start_time": "2024-08-29T15:40:59.565Z"
   },
   {
    "duration": 508,
    "start_time": "2024-08-29T15:40:59.582Z"
   },
   {
    "duration": 17,
    "start_time": "2024-08-29T15:41:00.091Z"
   },
   {
    "duration": 41,
    "start_time": "2024-08-29T15:41:00.110Z"
   },
   {
    "duration": 16,
    "start_time": "2024-08-29T15:41:00.153Z"
   },
   {
    "duration": 21,
    "start_time": "2024-08-29T15:41:00.171Z"
   },
   {
    "duration": 19,
    "start_time": "2024-08-29T15:41:00.194Z"
   },
   {
    "duration": 23,
    "start_time": "2024-08-29T15:41:00.214Z"
   },
   {
    "duration": 43,
    "start_time": "2024-08-29T15:41:00.239Z"
   },
   {
    "duration": 26,
    "start_time": "2024-08-29T15:41:00.283Z"
   },
   {
    "duration": 37,
    "start_time": "2024-08-29T15:41:00.310Z"
   },
   {
    "duration": 591,
    "start_time": "2024-08-29T15:41:26.105Z"
   },
   {
    "duration": 610,
    "start_time": "2024-08-29T15:42:31.278Z"
   },
   {
    "duration": 9,
    "start_time": "2024-08-29T15:46:49.042Z"
   },
   {
    "duration": 3,
    "start_time": "2024-08-29T15:47:36.049Z"
   },
   {
    "duration": 75,
    "start_time": "2024-08-29T15:47:36.054Z"
   },
   {
    "duration": 32,
    "start_time": "2024-08-29T15:47:36.131Z"
   },
   {
    "duration": 14,
    "start_time": "2024-08-29T15:47:36.165Z"
   },
   {
    "duration": 29,
    "start_time": "2024-08-29T15:47:36.181Z"
   },
   {
    "duration": 9,
    "start_time": "2024-08-29T15:47:36.212Z"
   },
   {
    "duration": 23,
    "start_time": "2024-08-29T15:47:36.223Z"
   },
   {
    "duration": 7,
    "start_time": "2024-08-29T15:47:36.247Z"
   },
   {
    "duration": 10,
    "start_time": "2024-08-29T15:47:36.256Z"
   },
   {
    "duration": 62,
    "start_time": "2024-08-29T15:47:36.268Z"
   },
   {
    "duration": 12,
    "start_time": "2024-08-29T15:47:36.332Z"
   },
   {
    "duration": 13,
    "start_time": "2024-08-29T15:47:36.346Z"
   },
   {
    "duration": 7,
    "start_time": "2024-08-29T15:47:36.360Z"
   },
   {
    "duration": 594,
    "start_time": "2024-08-29T15:47:36.369Z"
   },
   {
    "duration": 1343,
    "start_time": "2024-08-29T15:47:36.965Z"
   },
   {
    "duration": 627,
    "start_time": "2024-08-29T15:47:38.310Z"
   },
   {
    "duration": 6,
    "start_time": "2024-08-29T15:47:38.939Z"
   },
   {
    "duration": 261,
    "start_time": "2024-08-29T15:47:38.946Z"
   },
   {
    "duration": 10,
    "start_time": "2024-08-29T15:47:39.209Z"
   },
   {
    "duration": 152,
    "start_time": "2024-08-29T15:47:39.221Z"
   },
   {
    "duration": 32,
    "start_time": "2024-08-29T15:47:39.375Z"
   },
   {
    "duration": 190,
    "start_time": "2024-08-29T15:47:39.409Z"
   },
   {
    "duration": 18,
    "start_time": "2024-08-29T15:47:39.600Z"
   },
   {
    "duration": 152,
    "start_time": "2024-08-29T15:47:39.620Z"
   },
   {
    "duration": 579,
    "start_time": "2024-08-29T15:47:39.774Z"
   },
   {
    "duration": 8,
    "start_time": "2024-08-29T15:47:40.355Z"
   },
   {
    "duration": 13,
    "start_time": "2024-08-29T15:47:40.364Z"
   },
   {
    "duration": 487,
    "start_time": "2024-08-29T15:47:40.381Z"
   },
   {
    "duration": 8,
    "start_time": "2024-08-29T15:47:40.870Z"
   },
   {
    "duration": 28,
    "start_time": "2024-08-29T15:47:40.880Z"
   },
   {
    "duration": 257,
    "start_time": "2024-08-29T15:47:40.910Z"
   },
   {
    "duration": 6,
    "start_time": "2024-08-29T15:47:41.169Z"
   },
   {
    "duration": 37,
    "start_time": "2024-08-29T15:47:41.176Z"
   },
   {
    "duration": 6,
    "start_time": "2024-08-29T15:47:41.215Z"
   },
   {
    "duration": 440,
    "start_time": "2024-08-29T15:47:41.223Z"
   },
   {
    "duration": 9,
    "start_time": "2024-08-29T15:47:41.664Z"
   },
   {
    "duration": 13,
    "start_time": "2024-08-29T15:47:41.674Z"
   },
   {
    "duration": 373,
    "start_time": "2024-08-29T15:47:41.706Z"
   },
   {
    "duration": 7,
    "start_time": "2024-08-29T15:47:42.081Z"
   },
   {
    "duration": 29,
    "start_time": "2024-08-29T15:47:42.089Z"
   },
   {
    "duration": 7,
    "start_time": "2024-08-29T15:47:42.120Z"
   },
   {
    "duration": 391,
    "start_time": "2024-08-29T15:47:42.128Z"
   },
   {
    "duration": 8,
    "start_time": "2024-08-29T15:47:42.521Z"
   },
   {
    "duration": 12,
    "start_time": "2024-08-29T15:47:42.530Z"
   },
   {
    "duration": 16,
    "start_time": "2024-08-29T15:47:42.544Z"
   },
   {
    "duration": 48,
    "start_time": "2024-08-29T15:47:42.562Z"
   },
   {
    "duration": 42,
    "start_time": "2024-08-29T15:47:42.612Z"
   },
   {
    "duration": 16,
    "start_time": "2024-08-29T15:47:42.656Z"
   },
   {
    "duration": 16,
    "start_time": "2024-08-29T15:47:42.674Z"
   },
   {
    "duration": 15,
    "start_time": "2024-08-29T15:47:42.693Z"
   },
   {
    "duration": 8,
    "start_time": "2024-08-29T15:47:42.710Z"
   },
   {
    "duration": 3,
    "start_time": "2024-08-29T15:47:46.070Z"
   },
   {
    "duration": 97,
    "start_time": "2024-08-29T15:47:46.076Z"
   },
   {
    "duration": 36,
    "start_time": "2024-08-29T15:47:46.175Z"
   },
   {
    "duration": 15,
    "start_time": "2024-08-29T15:47:46.213Z"
   },
   {
    "duration": 8,
    "start_time": "2024-08-29T15:47:46.231Z"
   },
   {
    "duration": 12,
    "start_time": "2024-08-29T15:47:46.241Z"
   },
   {
    "duration": 23,
    "start_time": "2024-08-29T15:47:46.255Z"
   },
   {
    "duration": 29,
    "start_time": "2024-08-29T15:47:46.280Z"
   },
   {
    "duration": 8,
    "start_time": "2024-08-29T15:47:46.311Z"
   },
   {
    "duration": 189,
    "start_time": "2024-08-29T15:47:46.321Z"
   },
   {
    "duration": 12,
    "start_time": "2024-08-29T15:47:46.511Z"
   },
   {
    "duration": 29,
    "start_time": "2024-08-29T15:47:46.525Z"
   },
   {
    "duration": 13,
    "start_time": "2024-08-29T15:47:46.556Z"
   },
   {
    "duration": 647,
    "start_time": "2024-08-29T15:47:46.572Z"
   },
   {
    "duration": 1502,
    "start_time": "2024-08-29T15:47:47.221Z"
   },
   {
    "duration": 594,
    "start_time": "2024-08-29T15:47:48.724Z"
   },
   {
    "duration": 6,
    "start_time": "2024-08-29T15:47:49.320Z"
   },
   {
    "duration": 123,
    "start_time": "2024-08-29T15:47:49.327Z"
   },
   {
    "duration": 11,
    "start_time": "2024-08-29T15:47:49.452Z"
   },
   {
    "duration": 215,
    "start_time": "2024-08-29T15:47:49.465Z"
   },
   {
    "duration": 31,
    "start_time": "2024-08-29T15:47:49.682Z"
   },
   {
    "duration": 190,
    "start_time": "2024-08-29T15:47:49.715Z"
   },
   {
    "duration": 18,
    "start_time": "2024-08-29T15:47:49.906Z"
   },
   {
    "duration": 148,
    "start_time": "2024-08-29T15:47:49.926Z"
   },
   {
    "duration": 481,
    "start_time": "2024-08-29T15:47:50.076Z"
   },
   {
    "duration": 9,
    "start_time": "2024-08-29T15:47:50.559Z"
   },
   {
    "duration": 22,
    "start_time": "2024-08-29T15:47:50.570Z"
   },
   {
    "duration": 618,
    "start_time": "2024-08-29T15:47:50.604Z"
   },
   {
    "duration": 9,
    "start_time": "2024-08-29T15:47:51.224Z"
   },
   {
    "duration": 13,
    "start_time": "2024-08-29T15:47:51.235Z"
   },
   {
    "duration": 278,
    "start_time": "2024-08-29T15:47:51.250Z"
   },
   {
    "duration": 8,
    "start_time": "2024-08-29T15:47:51.530Z"
   },
   {
    "duration": 95,
    "start_time": "2024-08-29T15:47:51.540Z"
   },
   {
    "duration": 14,
    "start_time": "2024-08-29T15:47:51.637Z"
   },
   {
    "duration": 435,
    "start_time": "2024-08-29T15:47:51.652Z"
   },
   {
    "duration": 18,
    "start_time": "2024-08-29T15:47:52.088Z"
   },
   {
    "duration": 12,
    "start_time": "2024-08-29T15:47:52.108Z"
   },
   {
    "duration": 371,
    "start_time": "2024-08-29T15:47:52.122Z"
   },
   {
    "duration": 16,
    "start_time": "2024-08-29T15:47:52.494Z"
   },
   {
    "duration": 11,
    "start_time": "2024-08-29T15:47:52.511Z"
   },
   {
    "duration": 7,
    "start_time": "2024-08-29T15:47:52.526Z"
   },
   {
    "duration": 397,
    "start_time": "2024-08-29T15:47:52.534Z"
   },
   {
    "duration": 9,
    "start_time": "2024-08-29T15:47:52.933Z"
   },
   {
    "duration": 13,
    "start_time": "2024-08-29T15:47:52.944Z"
   },
   {
    "duration": 16,
    "start_time": "2024-08-29T15:47:52.959Z"
   },
   {
    "duration": 39,
    "start_time": "2024-08-29T15:47:52.976Z"
   },
   {
    "duration": 22,
    "start_time": "2024-08-29T15:47:53.017Z"
   },
   {
    "duration": 67,
    "start_time": "2024-08-29T15:47:53.041Z"
   },
   {
    "duration": 17,
    "start_time": "2024-08-29T15:47:53.110Z"
   },
   {
    "duration": 7,
    "start_time": "2024-08-29T15:47:53.129Z"
   },
   {
    "duration": 11,
    "start_time": "2024-08-29T15:47:53.137Z"
   },
   {
    "duration": 2545,
    "start_time": "2024-08-29T15:51:16.108Z"
   },
   {
    "duration": 1954,
    "start_time": "2024-08-29T15:51:18.655Z"
   },
   {
    "duration": 82,
    "start_time": "2024-08-29T15:51:20.613Z"
   },
   {
    "duration": 35,
    "start_time": "2024-08-29T15:51:20.696Z"
   },
   {
    "duration": 20,
    "start_time": "2024-08-29T15:51:20.733Z"
   },
   {
    "duration": 28,
    "start_time": "2024-08-29T15:51:20.754Z"
   },
   {
    "duration": 9,
    "start_time": "2024-08-29T15:51:20.784Z"
   },
   {
    "duration": 13,
    "start_time": "2024-08-29T15:51:20.795Z"
   },
   {
    "duration": 6,
    "start_time": "2024-08-29T15:51:20.811Z"
   },
   {
    "duration": 18,
    "start_time": "2024-08-29T15:51:20.818Z"
   },
   {
    "duration": 44,
    "start_time": "2024-08-29T15:51:20.838Z"
   },
   {
    "duration": 25,
    "start_time": "2024-08-29T15:51:20.883Z"
   },
   {
    "duration": 31,
    "start_time": "2024-08-29T15:51:20.909Z"
   },
   {
    "duration": 12,
    "start_time": "2024-08-29T15:51:20.941Z"
   },
   {
    "duration": 2821,
    "start_time": "2024-08-29T15:51:41.108Z"
   },
   {
    "duration": 1811,
    "start_time": "2024-08-29T15:51:43.931Z"
   },
   {
    "duration": 105,
    "start_time": "2024-08-29T15:51:45.744Z"
   },
   {
    "duration": 76,
    "start_time": "2024-08-29T15:51:45.850Z"
   },
   {
    "duration": 15,
    "start_time": "2024-08-29T15:51:45.928Z"
   },
   {
    "duration": 67,
    "start_time": "2024-08-29T15:51:45.944Z"
   },
   {
    "duration": 22,
    "start_time": "2024-08-29T15:51:46.012Z"
   },
   {
    "duration": 27,
    "start_time": "2024-08-29T15:51:46.036Z"
   },
   {
    "duration": 44,
    "start_time": "2024-08-29T15:51:46.065Z"
   },
   {
    "duration": 19,
    "start_time": "2024-08-29T15:51:46.111Z"
   },
   {
    "duration": 96,
    "start_time": "2024-08-29T15:51:46.132Z"
   },
   {
    "duration": 12,
    "start_time": "2024-08-29T15:51:46.230Z"
   },
   {
    "duration": 62,
    "start_time": "2024-08-29T15:51:46.244Z"
   },
   {
    "duration": 7,
    "start_time": "2024-08-29T15:51:46.309Z"
   },
   {
    "duration": 1388,
    "start_time": "2024-08-29T15:51:46.318Z"
   },
   {
    "duration": 385,
    "start_time": "2024-08-29T15:51:47.707Z"
   },
   {
    "duration": 12,
    "start_time": "2024-08-29T15:51:48.093Z"
   },
   {
    "duration": 119,
    "start_time": "2024-08-29T15:51:48.106Z"
   },
   {
    "duration": 11,
    "start_time": "2024-08-29T15:51:48.227Z"
   },
   {
    "duration": 148,
    "start_time": "2024-08-29T15:51:48.240Z"
   },
   {
    "duration": 32,
    "start_time": "2024-08-29T15:51:48.390Z"
   },
   {
    "duration": 184,
    "start_time": "2024-08-29T15:51:48.423Z"
   },
   {
    "duration": 16,
    "start_time": "2024-08-29T15:51:48.608Z"
   },
   {
    "duration": 163,
    "start_time": "2024-08-29T15:51:48.626Z"
   },
   {
    "duration": 548,
    "start_time": "2024-08-29T15:51:48.790Z"
   },
   {
    "duration": 8,
    "start_time": "2024-08-29T15:51:49.340Z"
   },
   {
    "duration": 23,
    "start_time": "2024-08-29T15:51:49.350Z"
   },
   {
    "duration": 456,
    "start_time": "2024-08-29T15:51:49.374Z"
   },
   {
    "duration": 7,
    "start_time": "2024-08-29T15:51:49.832Z"
   },
   {
    "duration": 16,
    "start_time": "2024-08-29T15:51:49.841Z"
   },
   {
    "duration": 257,
    "start_time": "2024-08-29T15:51:49.859Z"
   },
   {
    "duration": 6,
    "start_time": "2024-08-29T15:51:50.118Z"
   },
   {
    "duration": 19,
    "start_time": "2024-08-29T15:51:50.125Z"
   },
   {
    "duration": 20,
    "start_time": "2024-08-29T15:51:50.146Z"
   },
   {
    "duration": 439,
    "start_time": "2024-08-29T15:51:50.168Z"
   },
   {
    "duration": 8,
    "start_time": "2024-08-29T15:51:50.609Z"
   },
   {
    "duration": 52,
    "start_time": "2024-08-29T15:51:50.619Z"
   },
   {
    "duration": 362,
    "start_time": "2024-08-29T15:51:50.673Z"
   },
   {
    "duration": 7,
    "start_time": "2024-08-29T15:51:51.037Z"
   },
   {
    "duration": 72,
    "start_time": "2024-08-29T15:51:51.045Z"
   },
   {
    "duration": 24,
    "start_time": "2024-08-29T15:51:51.121Z"
   },
   {
    "duration": 477,
    "start_time": "2024-08-29T15:51:51.147Z"
   },
   {
    "duration": 7,
    "start_time": "2024-08-29T15:51:51.626Z"
   },
   {
    "duration": 24,
    "start_time": "2024-08-29T15:51:51.635Z"
   },
   {
    "duration": 13,
    "start_time": "2024-08-29T15:51:51.661Z"
   },
   {
    "duration": 35,
    "start_time": "2024-08-29T15:51:51.675Z"
   },
   {
    "duration": 15,
    "start_time": "2024-08-29T15:51:51.711Z"
   },
   {
    "duration": 64,
    "start_time": "2024-08-29T15:51:51.727Z"
   },
   {
    "duration": 26,
    "start_time": "2024-08-29T15:51:51.792Z"
   },
   {
    "duration": 20,
    "start_time": "2024-08-29T15:51:51.820Z"
   },
   {
    "duration": 14,
    "start_time": "2024-08-29T15:51:51.841Z"
   },
   {
    "duration": 3440,
    "start_time": "2024-08-29T15:53:02.985Z"
   },
   {
    "duration": 1284,
    "start_time": "2024-08-29T15:53:06.427Z"
   },
   {
    "duration": 97,
    "start_time": "2024-08-29T15:53:07.713Z"
   },
   {
    "duration": 35,
    "start_time": "2024-08-29T15:53:07.812Z"
   },
   {
    "duration": 14,
    "start_time": "2024-08-29T15:53:07.849Z"
   },
   {
    "duration": 43,
    "start_time": "2024-08-29T15:53:07.865Z"
   },
   {
    "duration": 25,
    "start_time": "2024-08-29T15:53:07.909Z"
   },
   {
    "duration": 36,
    "start_time": "2024-08-29T15:53:07.936Z"
   },
   {
    "duration": 9,
    "start_time": "2024-08-29T15:53:07.974Z"
   },
   {
    "duration": 13,
    "start_time": "2024-08-29T15:53:07.985Z"
   },
   {
    "duration": 45,
    "start_time": "2024-08-29T15:53:08.000Z"
   },
   {
    "duration": 12,
    "start_time": "2024-08-29T15:53:08.046Z"
   },
   {
    "duration": 11,
    "start_time": "2024-08-29T15:53:08.060Z"
   },
   {
    "duration": 13,
    "start_time": "2024-08-29T15:53:08.074Z"
   },
   {
    "duration": 589,
    "start_time": "2024-08-29T15:53:08.088Z"
   },
   {
    "duration": 988,
    "start_time": "2024-08-29T15:53:08.678Z"
   },
   {
    "duration": 387,
    "start_time": "2024-08-29T15:53:09.668Z"
   },
   {
    "duration": 5,
    "start_time": "2024-08-29T15:53:10.057Z"
   },
   {
    "duration": 118,
    "start_time": "2024-08-29T15:53:10.064Z"
   },
   {
    "duration": 12,
    "start_time": "2024-08-29T15:53:10.184Z"
   },
   {
    "duration": 148,
    "start_time": "2024-08-29T15:53:10.206Z"
   },
   {
    "duration": 24,
    "start_time": "2024-08-29T15:53:10.356Z"
   },
   {
    "duration": 195,
    "start_time": "2024-08-29T15:53:10.381Z"
   },
   {
    "duration": 16,
    "start_time": "2024-08-29T15:53:10.577Z"
   },
   {
    "duration": 175,
    "start_time": "2024-08-29T15:53:10.594Z"
   },
   {
    "duration": 548,
    "start_time": "2024-08-29T15:53:10.771Z"
   },
   {
    "duration": 9,
    "start_time": "2024-08-29T15:53:11.320Z"
   },
   {
    "duration": 12,
    "start_time": "2024-08-29T15:53:11.331Z"
   },
   {
    "duration": 460,
    "start_time": "2024-08-29T15:53:11.345Z"
   },
   {
    "duration": 8,
    "start_time": "2024-08-29T15:53:11.806Z"
   },
   {
    "duration": 23,
    "start_time": "2024-08-29T15:53:11.816Z"
   },
   {
    "duration": 252,
    "start_time": "2024-08-29T15:53:11.841Z"
   },
   {
    "duration": 14,
    "start_time": "2024-08-29T15:53:12.094Z"
   },
   {
    "duration": 26,
    "start_time": "2024-08-29T15:53:12.110Z"
   },
   {
    "duration": 7,
    "start_time": "2024-08-29T15:53:12.137Z"
   },
   {
    "duration": 439,
    "start_time": "2024-08-29T15:53:12.145Z"
   },
   {
    "duration": 8,
    "start_time": "2024-08-29T15:53:12.585Z"
   },
   {
    "duration": 67,
    "start_time": "2024-08-29T15:53:12.594Z"
   },
   {
    "duration": 360,
    "start_time": "2024-08-29T15:53:12.662Z"
   },
   {
    "duration": 6,
    "start_time": "2024-08-29T15:53:13.024Z"
   },
   {
    "duration": 15,
    "start_time": "2024-08-29T15:53:13.034Z"
   },
   {
    "duration": 65,
    "start_time": "2024-08-29T15:53:13.051Z"
   },
   {
    "duration": 492,
    "start_time": "2024-08-29T15:53:13.118Z"
   },
   {
    "duration": 8,
    "start_time": "2024-08-29T15:53:13.612Z"
   },
   {
    "duration": 17,
    "start_time": "2024-08-29T15:53:13.621Z"
   },
   {
    "duration": 14,
    "start_time": "2024-08-29T15:53:13.640Z"
   },
   {
    "duration": 15,
    "start_time": "2024-08-29T15:53:13.655Z"
   },
   {
    "duration": 44,
    "start_time": "2024-08-29T15:53:13.671Z"
   },
   {
    "duration": 71,
    "start_time": "2024-08-29T15:53:13.716Z"
   },
   {
    "duration": 28,
    "start_time": "2024-08-29T15:53:13.789Z"
   },
   {
    "duration": 7,
    "start_time": "2024-08-29T15:53:13.819Z"
   },
   {
    "duration": 11,
    "start_time": "2024-08-29T15:53:13.828Z"
   },
   {
    "duration": 24,
    "start_time": "2024-08-29T15:54:27.895Z"
   },
   {
    "duration": 11371,
    "start_time": "2024-08-29T15:57:04.381Z"
   },
   {
    "duration": 20,
    "start_time": "2024-08-29T15:57:20.640Z"
   },
   {
    "duration": 3425,
    "start_time": "2024-08-29T15:59:51.007Z"
   },
   {
    "duration": 1281,
    "start_time": "2024-08-29T15:59:54.435Z"
   },
   {
    "duration": 82,
    "start_time": "2024-08-29T15:59:55.718Z"
   },
   {
    "duration": 34,
    "start_time": "2024-08-29T15:59:55.802Z"
   },
   {
    "duration": 14,
    "start_time": "2024-08-29T15:59:55.838Z"
   },
   {
    "duration": 12,
    "start_time": "2024-08-29T15:59:55.853Z"
   },
   {
    "duration": 23,
    "start_time": "2024-08-29T15:59:55.867Z"
   },
   {
    "duration": 20,
    "start_time": "2024-08-29T15:59:55.892Z"
   },
   {
    "duration": 8,
    "start_time": "2024-08-29T15:59:55.913Z"
   },
   {
    "duration": 8,
    "start_time": "2024-08-29T15:59:55.923Z"
   },
   {
    "duration": 52,
    "start_time": "2024-08-29T15:59:55.932Z"
   },
   {
    "duration": 25,
    "start_time": "2024-08-29T15:59:55.986Z"
   },
   {
    "duration": 9,
    "start_time": "2024-08-29T15:59:56.012Z"
   },
   {
    "duration": 12,
    "start_time": "2024-08-29T15:59:56.024Z"
   },
   {
    "duration": 563,
    "start_time": "2024-08-29T15:59:56.037Z"
   },
   {
    "duration": 20,
    "start_time": "2024-08-29T15:59:56.605Z"
   },
   {
    "duration": 1270,
    "start_time": "2024-08-29T15:59:56.627Z"
   },
   {
    "duration": 363,
    "start_time": "2024-08-29T15:59:57.899Z"
   },
   {
    "duration": 6,
    "start_time": "2024-08-29T15:59:58.264Z"
   },
   {
    "duration": 117,
    "start_time": "2024-08-29T15:59:58.271Z"
   },
   {
    "duration": 16,
    "start_time": "2024-08-29T15:59:58.390Z"
   },
   {
    "duration": 134,
    "start_time": "2024-08-29T15:59:58.407Z"
   },
   {
    "duration": 23,
    "start_time": "2024-08-29T15:59:58.543Z"
   },
   {
    "duration": 194,
    "start_time": "2024-08-29T15:59:58.568Z"
   },
   {
    "duration": 15,
    "start_time": "2024-08-29T15:59:58.764Z"
   },
   {
    "duration": 145,
    "start_time": "2024-08-29T15:59:58.781Z"
   },
   {
    "duration": 544,
    "start_time": "2024-08-29T15:59:58.927Z"
   },
   {
    "duration": 8,
    "start_time": "2024-08-29T15:59:59.472Z"
   },
   {
    "duration": 25,
    "start_time": "2024-08-29T15:59:59.482Z"
   },
   {
    "duration": 452,
    "start_time": "2024-08-29T15:59:59.509Z"
   },
   {
    "duration": 7,
    "start_time": "2024-08-29T15:59:59.963Z"
   },
   {
    "duration": 11,
    "start_time": "2024-08-29T15:59:59.972Z"
   },
   {
    "duration": 271,
    "start_time": "2024-08-29T15:59:59.984Z"
   },
   {
    "duration": 6,
    "start_time": "2024-08-29T16:00:00.256Z"
   },
   {
    "duration": 63,
    "start_time": "2024-08-29T16:00:00.264Z"
   },
   {
    "duration": 31,
    "start_time": "2024-08-29T16:00:00.329Z"
   },
   {
    "duration": 446,
    "start_time": "2024-08-29T16:00:00.362Z"
   },
   {
    "duration": 8,
    "start_time": "2024-08-29T16:00:00.809Z"
   },
   {
    "duration": 11,
    "start_time": "2024-08-29T16:00:00.819Z"
   },
   {
    "duration": 391,
    "start_time": "2024-08-29T16:00:00.832Z"
   },
   {
    "duration": 7,
    "start_time": "2024-08-29T16:00:01.227Z"
   },
   {
    "duration": 17,
    "start_time": "2024-08-29T16:00:01.235Z"
   },
   {
    "duration": 10,
    "start_time": "2024-08-29T16:00:01.254Z"
   },
   {
    "duration": 517,
    "start_time": "2024-08-29T16:00:01.265Z"
   },
   {
    "duration": 10,
    "start_time": "2024-08-29T16:00:01.783Z"
   },
   {
    "duration": 42,
    "start_time": "2024-08-29T16:00:01.806Z"
   },
   {
    "duration": 35,
    "start_time": "2024-08-29T16:00:01.850Z"
   },
   {
    "duration": 27,
    "start_time": "2024-08-29T16:00:01.887Z"
   },
   {
    "duration": 20,
    "start_time": "2024-08-29T16:00:01.915Z"
   },
   {
    "duration": 19,
    "start_time": "2024-08-29T16:00:01.936Z"
   },
   {
    "duration": 29,
    "start_time": "2024-08-29T16:00:01.957Z"
   },
   {
    "duration": 16,
    "start_time": "2024-08-29T16:00:01.987Z"
   },
   {
    "duration": 11,
    "start_time": "2024-08-29T16:00:02.005Z"
   },
   {
    "duration": 575,
    "start_time": "2024-08-29T16:00:28.953Z"
   },
   {
    "duration": 21,
    "start_time": "2024-08-29T16:00:31.737Z"
   },
   {
    "duration": 395,
    "start_time": "2024-08-29T16:00:39.675Z"
   },
   {
    "duration": 122,
    "start_time": "2024-08-29T16:05:17.911Z"
   },
   {
    "duration": 385,
    "start_time": "2024-08-29T16:05:31.077Z"
   },
   {
    "duration": 364,
    "start_time": "2024-08-29T16:06:11.708Z"
   },
   {
    "duration": 350,
    "start_time": "2024-08-29T16:06:18.517Z"
   },
   {
    "duration": 58,
    "start_time": "2024-08-29T16:06:48.240Z"
   },
   {
    "duration": 588,
    "start_time": "2024-08-29T16:06:54.603Z"
   },
   {
    "duration": 21,
    "start_time": "2024-08-29T16:06:56.895Z"
   },
   {
    "duration": 556,
    "start_time": "2024-08-29T16:10:02.569Z"
   },
   {
    "duration": 20,
    "start_time": "2024-08-29T16:10:03.785Z"
   },
   {
    "duration": 1180,
    "start_time": "2024-08-29T16:10:22.667Z"
   },
   {
    "duration": 3302,
    "start_time": "2024-08-29T16:11:41.314Z"
   },
   {
    "duration": 1295,
    "start_time": "2024-08-29T16:11:44.618Z"
   },
   {
    "duration": 71,
    "start_time": "2024-08-29T16:11:45.916Z"
   },
   {
    "duration": 35,
    "start_time": "2024-08-29T16:11:45.989Z"
   },
   {
    "duration": 14,
    "start_time": "2024-08-29T16:11:46.027Z"
   },
   {
    "duration": 10,
    "start_time": "2024-08-29T16:11:46.043Z"
   },
   {
    "duration": 8,
    "start_time": "2024-08-29T16:11:46.055Z"
   },
   {
    "duration": 11,
    "start_time": "2024-08-29T16:11:46.064Z"
   },
   {
    "duration": 33,
    "start_time": "2024-08-29T16:11:46.077Z"
   },
   {
    "duration": 9,
    "start_time": "2024-08-29T16:11:46.112Z"
   },
   {
    "duration": 46,
    "start_time": "2024-08-29T16:11:46.122Z"
   },
   {
    "duration": 41,
    "start_time": "2024-08-29T16:11:46.170Z"
   },
   {
    "duration": 14,
    "start_time": "2024-08-29T16:11:46.212Z"
   },
   {
    "duration": 11,
    "start_time": "2024-08-29T16:11:46.229Z"
   },
   {
    "duration": 3261,
    "start_time": "2024-08-29T16:13:27.948Z"
   },
   {
    "duration": 1970,
    "start_time": "2024-08-29T16:13:31.212Z"
   },
   {
    "duration": 75,
    "start_time": "2024-08-29T16:13:33.184Z"
   },
   {
    "duration": 37,
    "start_time": "2024-08-29T16:13:33.260Z"
   },
   {
    "duration": 16,
    "start_time": "2024-08-29T16:13:33.300Z"
   },
   {
    "duration": 12,
    "start_time": "2024-08-29T16:13:33.318Z"
   },
   {
    "duration": 8,
    "start_time": "2024-08-29T16:13:33.332Z"
   },
   {
    "duration": 18,
    "start_time": "2024-08-29T16:13:33.342Z"
   },
   {
    "duration": 7,
    "start_time": "2024-08-29T16:13:33.362Z"
   },
   {
    "duration": 10,
    "start_time": "2024-08-29T16:13:33.370Z"
   },
   {
    "duration": 44,
    "start_time": "2024-08-29T16:13:33.406Z"
   },
   {
    "duration": 13,
    "start_time": "2024-08-29T16:13:33.452Z"
   },
   {
    "duration": 11,
    "start_time": "2024-08-29T16:13:33.466Z"
   },
   {
    "duration": 7,
    "start_time": "2024-08-29T16:13:33.505Z"
   },
   {
    "duration": 11146,
    "start_time": "2024-08-29T16:13:33.514Z"
   },
   {
    "duration": 21,
    "start_time": "2024-08-29T16:13:44.662Z"
   },
   {
    "duration": 1254,
    "start_time": "2024-08-29T16:13:44.684Z"
   },
   {
    "duration": 370,
    "start_time": "2024-08-29T16:13:45.940Z"
   },
   {
    "duration": 6,
    "start_time": "2024-08-29T16:13:46.312Z"
   },
   {
    "duration": 198,
    "start_time": "2024-08-29T16:13:46.320Z"
   },
   {
    "duration": 13,
    "start_time": "2024-08-29T16:13:46.520Z"
   },
   {
    "duration": 142,
    "start_time": "2024-08-29T16:13:46.534Z"
   },
   {
    "duration": 32,
    "start_time": "2024-08-29T16:13:46.678Z"
   },
   {
    "duration": 189,
    "start_time": "2024-08-29T16:13:46.712Z"
   },
   {
    "duration": 17,
    "start_time": "2024-08-29T16:13:46.904Z"
   },
   {
    "duration": 152,
    "start_time": "2024-08-29T16:13:46.923Z"
   },
   {
    "duration": 474,
    "start_time": "2024-08-29T16:13:47.077Z"
   },
   {
    "duration": 9,
    "start_time": "2024-08-29T16:13:47.554Z"
   },
   {
    "duration": 19,
    "start_time": "2024-08-29T16:13:47.565Z"
   },
   {
    "duration": 481,
    "start_time": "2024-08-29T16:13:47.587Z"
   },
   {
    "duration": 9,
    "start_time": "2024-08-29T16:13:48.070Z"
   },
   {
    "duration": 31,
    "start_time": "2024-08-29T16:13:48.081Z"
   },
   {
    "duration": 257,
    "start_time": "2024-08-29T16:13:48.114Z"
   },
   {
    "duration": 7,
    "start_time": "2024-08-29T16:13:48.374Z"
   },
   {
    "duration": 24,
    "start_time": "2024-08-29T16:13:48.382Z"
   },
   {
    "duration": 8,
    "start_time": "2024-08-29T16:13:48.408Z"
   },
   {
    "duration": 544,
    "start_time": "2024-08-29T16:13:48.418Z"
   },
   {
    "duration": 8,
    "start_time": "2024-08-29T16:13:48.963Z"
   },
   {
    "duration": 18,
    "start_time": "2024-08-29T16:13:48.973Z"
   },
   {
    "duration": 385,
    "start_time": "2024-08-29T16:13:48.992Z"
   },
   {
    "duration": 7,
    "start_time": "2024-08-29T16:13:49.382Z"
   },
   {
    "duration": 22,
    "start_time": "2024-08-29T16:13:49.391Z"
   },
   {
    "duration": 6,
    "start_time": "2024-08-29T16:13:49.415Z"
   },
   {
    "duration": 389,
    "start_time": "2024-08-29T16:13:49.423Z"
   },
   {
    "duration": 8,
    "start_time": "2024-08-29T16:13:49.814Z"
   },
   {
    "duration": 22,
    "start_time": "2024-08-29T16:13:49.823Z"
   },
   {
    "duration": 14,
    "start_time": "2024-08-29T16:13:49.847Z"
   },
   {
    "duration": 16,
    "start_time": "2024-08-29T16:13:49.862Z"
   },
   {
    "duration": 42,
    "start_time": "2024-08-29T16:13:49.879Z"
   },
   {
    "duration": 13,
    "start_time": "2024-08-29T16:13:49.923Z"
   },
   {
    "duration": 15,
    "start_time": "2024-08-29T16:13:49.938Z"
   },
   {
    "duration": 8,
    "start_time": "2024-08-29T16:13:49.954Z"
   },
   {
    "duration": 41,
    "start_time": "2024-08-29T16:13:49.964Z"
   },
   {
    "duration": 11439,
    "start_time": "2024-08-29T16:14:14.111Z"
   },
   {
    "duration": 21,
    "start_time": "2024-08-29T16:14:33.908Z"
   },
   {
    "duration": 410,
    "start_time": "2024-08-29T16:15:50.937Z"
   },
   {
    "duration": 115,
    "start_time": "2024-08-29T16:16:32.022Z"
   },
   {
    "duration": 14,
    "start_time": "2024-08-29T16:16:44.764Z"
   },
   {
    "duration": 4,
    "start_time": "2024-08-29T16:18:07.641Z"
   },
   {
    "duration": 14,
    "start_time": "2024-08-29T16:18:10.108Z"
   },
   {
    "duration": 13,
    "start_time": "2024-08-29T16:18:24.061Z"
   },
   {
    "duration": 24,
    "start_time": "2024-08-29T16:18:32.200Z"
   },
   {
    "duration": 2519,
    "start_time": "2024-08-29T16:18:48.520Z"
   },
   {
    "duration": 1195,
    "start_time": "2024-08-29T16:18:51.042Z"
   },
   {
    "duration": 70,
    "start_time": "2024-08-29T16:18:52.239Z"
   },
   {
    "duration": 37,
    "start_time": "2024-08-29T16:18:52.310Z"
   },
   {
    "duration": 56,
    "start_time": "2024-08-29T16:18:52.349Z"
   },
   {
    "duration": 7,
    "start_time": "2024-08-29T16:18:52.407Z"
   },
   {
    "duration": 8,
    "start_time": "2024-08-29T16:18:52.416Z"
   },
   {
    "duration": 11,
    "start_time": "2024-08-29T16:18:52.426Z"
   },
   {
    "duration": 6,
    "start_time": "2024-08-29T16:18:52.439Z"
   },
   {
    "duration": 64,
    "start_time": "2024-08-29T16:18:52.446Z"
   },
   {
    "duration": 95,
    "start_time": "2024-08-29T16:18:52.511Z"
   },
   {
    "duration": 21,
    "start_time": "2024-08-29T16:18:52.608Z"
   },
   {
    "duration": 8,
    "start_time": "2024-08-29T16:18:52.631Z"
   },
   {
    "duration": 63,
    "start_time": "2024-08-29T16:18:52.644Z"
   },
   {
    "duration": 11,
    "start_time": "2024-08-29T16:18:52.709Z"
   },
   {
    "duration": 905,
    "start_time": "2024-08-29T16:18:52.722Z"
   },
   {
    "duration": 17,
    "start_time": "2024-08-29T16:18:53.629Z"
   },
   {
    "duration": 1234,
    "start_time": "2024-08-29T16:18:53.648Z"
   },
   {
    "duration": 118,
    "start_time": "2024-08-29T16:18:54.883Z"
   },
   {
    "duration": 0,
    "start_time": "2024-08-29T16:18:55.005Z"
   },
   {
    "duration": 0,
    "start_time": "2024-08-29T16:18:55.006Z"
   },
   {
    "duration": 0,
    "start_time": "2024-08-29T16:18:55.007Z"
   },
   {
    "duration": 0,
    "start_time": "2024-08-29T16:18:55.008Z"
   },
   {
    "duration": 0,
    "start_time": "2024-08-29T16:18:55.009Z"
   },
   {
    "duration": 0,
    "start_time": "2024-08-29T16:18:55.011Z"
   },
   {
    "duration": 0,
    "start_time": "2024-08-29T16:18:55.012Z"
   },
   {
    "duration": 0,
    "start_time": "2024-08-29T16:18:55.013Z"
   },
   {
    "duration": 0,
    "start_time": "2024-08-29T16:18:55.014Z"
   },
   {
    "duration": 0,
    "start_time": "2024-08-29T16:18:55.015Z"
   },
   {
    "duration": 0,
    "start_time": "2024-08-29T16:18:55.016Z"
   },
   {
    "duration": 0,
    "start_time": "2024-08-29T16:18:55.017Z"
   },
   {
    "duration": 0,
    "start_time": "2024-08-29T16:18:55.019Z"
   },
   {
    "duration": 0,
    "start_time": "2024-08-29T16:18:55.020Z"
   },
   {
    "duration": 0,
    "start_time": "2024-08-29T16:18:55.021Z"
   },
   {
    "duration": 0,
    "start_time": "2024-08-29T16:18:55.022Z"
   },
   {
    "duration": 0,
    "start_time": "2024-08-29T16:18:55.023Z"
   },
   {
    "duration": 0,
    "start_time": "2024-08-29T16:18:55.024Z"
   },
   {
    "duration": 0,
    "start_time": "2024-08-29T16:18:55.025Z"
   },
   {
    "duration": 0,
    "start_time": "2024-08-29T16:18:55.026Z"
   },
   {
    "duration": 0,
    "start_time": "2024-08-29T16:18:55.027Z"
   },
   {
    "duration": 0,
    "start_time": "2024-08-29T16:18:55.028Z"
   },
   {
    "duration": 0,
    "start_time": "2024-08-29T16:18:55.030Z"
   },
   {
    "duration": 0,
    "start_time": "2024-08-29T16:18:55.031Z"
   },
   {
    "duration": 0,
    "start_time": "2024-08-29T16:18:55.032Z"
   },
   {
    "duration": 0,
    "start_time": "2024-08-29T16:18:55.033Z"
   },
   {
    "duration": 0,
    "start_time": "2024-08-29T16:18:55.034Z"
   },
   {
    "duration": 0,
    "start_time": "2024-08-29T16:18:55.035Z"
   },
   {
    "duration": 0,
    "start_time": "2024-08-29T16:18:55.036Z"
   },
   {
    "duration": 0,
    "start_time": "2024-08-29T16:18:55.037Z"
   },
   {
    "duration": 0,
    "start_time": "2024-08-29T16:18:55.038Z"
   },
   {
    "duration": 0,
    "start_time": "2024-08-29T16:18:55.039Z"
   },
   {
    "duration": 0,
    "start_time": "2024-08-29T16:18:55.040Z"
   },
   {
    "duration": 0,
    "start_time": "2024-08-29T16:18:55.041Z"
   },
   {
    "duration": 0,
    "start_time": "2024-08-29T16:18:55.042Z"
   },
   {
    "duration": 353,
    "start_time": "2024-08-29T16:19:08.126Z"
   },
   {
    "duration": 12,
    "start_time": "2024-08-29T16:20:41.457Z"
   },
   {
    "duration": 2551,
    "start_time": "2024-08-29T16:20:48.918Z"
   },
   {
    "duration": 1246,
    "start_time": "2024-08-29T16:20:51.471Z"
   },
   {
    "duration": 73,
    "start_time": "2024-08-29T16:20:52.719Z"
   },
   {
    "duration": 34,
    "start_time": "2024-08-29T16:20:52.794Z"
   },
   {
    "duration": 13,
    "start_time": "2024-08-29T16:20:52.829Z"
   },
   {
    "duration": 12,
    "start_time": "2024-08-29T16:20:52.844Z"
   },
   {
    "duration": 14,
    "start_time": "2024-08-29T16:20:52.857Z"
   },
   {
    "duration": 11,
    "start_time": "2024-08-29T16:20:52.872Z"
   },
   {
    "duration": 26,
    "start_time": "2024-08-29T16:20:52.884Z"
   },
   {
    "duration": 8,
    "start_time": "2024-08-29T16:20:52.913Z"
   },
   {
    "duration": 43,
    "start_time": "2024-08-29T16:20:52.923Z"
   },
   {
    "duration": 13,
    "start_time": "2024-08-29T16:20:52.968Z"
   },
   {
    "duration": 5,
    "start_time": "2024-08-29T16:20:53.005Z"
   },
   {
    "duration": 9,
    "start_time": "2024-08-29T16:20:53.012Z"
   },
   {
    "duration": 22,
    "start_time": "2024-08-29T16:20:53.022Z"
   },
   {
    "duration": 428,
    "start_time": "2024-08-29T16:20:53.045Z"
   },
   {
    "duration": 1859,
    "start_time": "2024-08-29T16:20:53.475Z"
   },
   {
    "duration": 380,
    "start_time": "2024-08-29T16:20:55.335Z"
   },
   {
    "duration": 5,
    "start_time": "2024-08-29T16:20:55.717Z"
   },
   {
    "duration": 173,
    "start_time": "2024-08-29T16:20:55.724Z"
   },
   {
    "duration": 11,
    "start_time": "2024-08-29T16:20:55.904Z"
   },
   {
    "duration": 156,
    "start_time": "2024-08-29T16:20:55.916Z"
   },
   {
    "duration": 25,
    "start_time": "2024-08-29T16:20:56.074Z"
   },
   {
    "duration": 184,
    "start_time": "2024-08-29T16:20:56.105Z"
   },
   {
    "duration": 25,
    "start_time": "2024-08-29T16:20:56.290Z"
   },
   {
    "duration": 141,
    "start_time": "2024-08-29T16:20:56.316Z"
   },
   {
    "duration": 546,
    "start_time": "2024-08-29T16:20:56.459Z"
   },
   {
    "duration": 8,
    "start_time": "2024-08-29T16:20:57.008Z"
   },
   {
    "duration": 24,
    "start_time": "2024-08-29T16:20:57.017Z"
   },
   {
    "duration": 453,
    "start_time": "2024-08-29T16:20:57.042Z"
   },
   {
    "duration": 8,
    "start_time": "2024-08-29T16:20:57.505Z"
   },
   {
    "duration": 11,
    "start_time": "2024-08-29T16:20:57.515Z"
   },
   {
    "duration": 258,
    "start_time": "2024-08-29T16:20:57.528Z"
   },
   {
    "duration": 7,
    "start_time": "2024-08-29T16:20:57.787Z"
   },
   {
    "duration": 55,
    "start_time": "2024-08-29T16:20:57.806Z"
   },
   {
    "duration": 11,
    "start_time": "2024-08-29T16:20:57.862Z"
   },
   {
    "duration": 432,
    "start_time": "2024-08-29T16:20:57.875Z"
   },
   {
    "duration": 8,
    "start_time": "2024-08-29T16:20:58.309Z"
   },
   {
    "duration": 12,
    "start_time": "2024-08-29T16:20:58.319Z"
   },
   {
    "duration": 382,
    "start_time": "2024-08-29T16:20:58.332Z"
   },
   {
    "duration": 6,
    "start_time": "2024-08-29T16:20:58.716Z"
   },
   {
    "duration": 14,
    "start_time": "2024-08-29T16:20:58.723Z"
   },
   {
    "duration": 6,
    "start_time": "2024-08-29T16:20:58.739Z"
   },
   {
    "duration": 495,
    "start_time": "2024-08-29T16:20:58.747Z"
   },
   {
    "duration": 7,
    "start_time": "2024-08-29T16:20:59.244Z"
   },
   {
    "duration": 13,
    "start_time": "2024-08-29T16:20:59.253Z"
   },
   {
    "duration": 38,
    "start_time": "2024-08-29T16:20:59.268Z"
   },
   {
    "duration": 15,
    "start_time": "2024-08-29T16:20:59.308Z"
   },
   {
    "duration": 15,
    "start_time": "2024-08-29T16:20:59.326Z"
   },
   {
    "duration": 14,
    "start_time": "2024-08-29T16:20:59.343Z"
   },
   {
    "duration": 47,
    "start_time": "2024-08-29T16:20:59.359Z"
   },
   {
    "duration": 9,
    "start_time": "2024-08-29T16:20:59.408Z"
   },
   {
    "duration": 9,
    "start_time": "2024-08-29T16:20:59.418Z"
   },
   {
    "duration": 107,
    "start_time": "2024-08-29T16:23:46.278Z"
   },
   {
    "duration": 9,
    "start_time": "2024-08-29T16:23:51.691Z"
   },
   {
    "duration": 2575,
    "start_time": "2024-08-29T16:23:56.810Z"
   },
   {
    "duration": 2167,
    "start_time": "2024-08-29T16:23:59.388Z"
   },
   {
    "duration": 152,
    "start_time": "2024-08-29T16:24:01.556Z"
   },
   {
    "duration": 36,
    "start_time": "2024-08-29T16:24:01.710Z"
   },
   {
    "duration": 73,
    "start_time": "2024-08-29T16:24:01.749Z"
   },
   {
    "duration": 88,
    "start_time": "2024-08-29T16:24:01.823Z"
   },
   {
    "duration": 18,
    "start_time": "2024-08-29T16:24:01.912Z"
   },
   {
    "duration": 17,
    "start_time": "2024-08-29T16:24:01.932Z"
   },
   {
    "duration": 58,
    "start_time": "2024-08-29T16:24:01.951Z"
   },
   {
    "duration": 15,
    "start_time": "2024-08-29T16:24:02.011Z"
   },
   {
    "duration": 94,
    "start_time": "2024-08-29T16:24:02.028Z"
   },
   {
    "duration": 12,
    "start_time": "2024-08-29T16:24:02.123Z"
   },
   {
    "duration": 8,
    "start_time": "2024-08-29T16:24:02.137Z"
   },
   {
    "duration": 61,
    "start_time": "2024-08-29T16:24:02.147Z"
   },
   {
    "duration": 21,
    "start_time": "2024-08-29T16:24:02.210Z"
   },
   {
    "duration": 764,
    "start_time": "2024-08-29T16:24:02.233Z"
   },
   {
    "duration": 1083,
    "start_time": "2024-08-29T16:24:02.999Z"
   },
   {
    "duration": 382,
    "start_time": "2024-08-29T16:24:04.083Z"
   },
   {
    "duration": 6,
    "start_time": "2024-08-29T16:24:04.466Z"
   },
   {
    "duration": 144,
    "start_time": "2024-08-29T16:24:04.473Z"
   },
   {
    "duration": 10,
    "start_time": "2024-08-29T16:24:04.619Z"
   },
   {
    "duration": 139,
    "start_time": "2024-08-29T16:24:04.631Z"
   },
   {
    "duration": 34,
    "start_time": "2024-08-29T16:24:04.772Z"
   },
   {
    "duration": 184,
    "start_time": "2024-08-29T16:24:04.808Z"
   },
   {
    "duration": 16,
    "start_time": "2024-08-29T16:24:04.995Z"
   },
   {
    "duration": 143,
    "start_time": "2024-08-29T16:24:05.013Z"
   },
   {
    "duration": 608,
    "start_time": "2024-08-29T16:24:05.158Z"
   },
   {
    "duration": 8,
    "start_time": "2024-08-29T16:24:05.768Z"
   },
   {
    "duration": 114,
    "start_time": "2024-08-29T16:24:05.777Z"
   },
   {
    "duration": 494,
    "start_time": "2024-08-29T16:24:05.892Z"
   },
   {
    "duration": 17,
    "start_time": "2024-08-29T16:24:06.388Z"
   },
   {
    "duration": 16,
    "start_time": "2024-08-29T16:24:06.407Z"
   },
   {
    "duration": 264,
    "start_time": "2024-08-29T16:24:06.425Z"
   },
   {
    "duration": 7,
    "start_time": "2024-08-29T16:24:06.691Z"
   },
   {
    "duration": 88,
    "start_time": "2024-08-29T16:24:06.706Z"
   },
   {
    "duration": 38,
    "start_time": "2024-08-29T16:24:06.797Z"
   },
   {
    "duration": 483,
    "start_time": "2024-08-29T16:24:06.838Z"
   },
   {
    "duration": 9,
    "start_time": "2024-08-29T16:24:07.323Z"
   },
   {
    "duration": 25,
    "start_time": "2024-08-29T16:24:07.334Z"
   },
   {
    "duration": 408,
    "start_time": "2024-08-29T16:24:07.361Z"
   },
   {
    "duration": 10,
    "start_time": "2024-08-29T16:24:07.774Z"
   },
   {
    "duration": 91,
    "start_time": "2024-08-29T16:24:07.785Z"
   },
   {
    "duration": 33,
    "start_time": "2024-08-29T16:24:07.878Z"
   },
   {
    "duration": 528,
    "start_time": "2024-08-29T16:24:07.912Z"
   },
   {
    "duration": 8,
    "start_time": "2024-08-29T16:24:08.442Z"
   },
   {
    "duration": 17,
    "start_time": "2024-08-29T16:24:08.452Z"
   },
   {
    "duration": 37,
    "start_time": "2024-08-29T16:24:08.471Z"
   },
   {
    "duration": 14,
    "start_time": "2024-08-29T16:24:08.509Z"
   },
   {
    "duration": 46,
    "start_time": "2024-08-29T16:24:08.525Z"
   },
   {
    "duration": 22,
    "start_time": "2024-08-29T16:24:08.572Z"
   },
   {
    "duration": 24,
    "start_time": "2024-08-29T16:24:08.596Z"
   },
   {
    "duration": 28,
    "start_time": "2024-08-29T16:24:08.622Z"
   },
   {
    "duration": 27,
    "start_time": "2024-08-29T16:24:08.652Z"
   }
  ],
  "kernelspec": {
   "display_name": "Python 3 (ipykernel)",
   "language": "python",
   "name": "python3"
  },
  "language_info": {
   "codemirror_mode": {
    "name": "ipython",
    "version": 3
   },
   "file_extension": ".py",
   "mimetype": "text/x-python",
   "name": "python",
   "nbconvert_exporter": "python",
   "pygments_lexer": "ipython3",
   "version": "3.11.5"
  },
  "toc": {
   "base_numbering": 1,
   "nav_menu": {},
   "number_sections": true,
   "sideBar": true,
   "skip_h1_title": true,
   "title_cell": "Table of Contents",
   "title_sidebar": "Contents",
   "toc_cell": false,
   "toc_position": {
    "height": "calc(100% - 180px)",
    "left": "10px",
    "top": "150px",
    "width": "245.4px"
   },
   "toc_section_display": true,
   "toc_window_display": true
  }
 },
 "nbformat": 4,
 "nbformat_minor": 2
}
